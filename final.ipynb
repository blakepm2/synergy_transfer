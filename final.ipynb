{
 "cells": [
  {
   "cell_type": "markdown",
   "metadata": {},
   "source": [
    "# <a id='toc1_'></a>[Synergy Transfer](#toc0_)"
   ]
  },
  {
   "cell_type": "markdown",
   "metadata": {},
   "source": [
    "Author: Blake McBride<br>\n",
    "Email: blakepm2@illinois.edu<br>\n",
    "Course: CS 590 Deep Learning for Healthcare<br>\n",
    "Professor: Jimeng Sun<br>\n",
    "\n",
    "This notebook presents the reproduction results for the paper **\"Anticancer drug synergy prediction in understudied tisues using transfer learning\"** ([Kim et al. 2020](https://doi.org/10.1101/2020.02.05.932657)). All major code components have been reused and adapted from the work of the original authors, with modifications made for reproduction purposes.\n",
    "\n",
    "The original publication can be accessed [here](https://academic.oup.com/jamia/article-abstract/28/1/42/5920819?redirectedFrom=fulltext&login=false).\n",
    "\n",
    "The original publication GitHub repoitory can be accessed [here](https://github.com/yejinjkim/synergy-transfer).\n",
    "\n",
    "The public GitHub repository for this project can be accessed [here](https://github.com/blakepm2/synergy_transfer)"
   ]
  },
  {
   "cell_type": "markdown",
   "metadata": {},
   "source": [
    "## <a id='toc1_1_'></a>[Table of Contents](#toc0_)"
   ]
  },
  {
   "cell_type": "markdown",
   "metadata": {},
   "source": [
    " - [Synergy Transfer](#toc1_)    \n",
    "  - [Table of Contents](#toc1_1_)    \n",
    "  - [Introduction](#toc1_2_)    \n",
    "  - [Scope of Reproducability](#toc1_3_)    \n",
    "    - [A Note on Previous Work: MoleculeSTM](#toc1_3_1_)    \n",
    "      - [Environment Complexity](#toc1_3_1_1_)    \n",
    "      - [Computational Limitations](#toc1_3_1_2_)    \n",
    "    - [Switching to Synergy Transfer](#toc1_3_2_)    \n",
    "      - [Absences and Misalignments in Data](#toc1_3_2_1_)    \n",
    "  - [Methodology](#toc1_4_)    \n",
    "    - [Environment](#toc1_4_1_)    \n",
    "      - [Conda](#toc1_4_1_1_)    \n",
    "      - [Python Dependencies](#toc1_4_1_2_)    \n",
    "    - [Data](#toc1_4_2_)    \n",
    "      - [Sources](#toc1_4_2_1_)    \n",
    "      - [Configuration](#toc1_4_2_2_)    \n",
    "      - [Download](#toc1_4_2_3_)    \n",
    "      - [Summary](#toc1_4_2_4_)    \n",
    "        - [Data Exploration](#toc1_4_2_4_1_)    \n",
    "        - [Transforming Items to ID](#toc1_4_2_4_2_)    \n",
    "      - [Drugs](#toc1_4_2_5_)    \n",
    "        - [Preprocessing](#toc1_4_2_5_1_)    \n",
    "        - [Aligning Drug's Target Gene(s)](#toc1_4_2_5_2_)    \n",
    "      - [Cells](#toc1_4_2_6_)    \n",
    "        - [Preprocessing](#toc1_4_2_6_1_)    \n",
    "        - [Aligning Cell Lines with Gene Expression(s)](#toc1_4_2_6_2_)    \n",
    "        - [Gene Integration](#toc1_4_2_6_3_)    \n",
    "        - [Data Exploration](#toc1_4_2_6_4_)    \n",
    "    - [Model](#toc1_4_3_)    \n",
    "      - [Architecture](#toc1_4_3_1_)    \n",
    "        - [Drug Encoder](#toc1_4_3_1_1_)    \n",
    "        - [Cell Line Encoder](#toc1_4_3_1_2_)    \n",
    "        - [Merging Layers](#toc1_4_3_1_3_)    \n",
    "      - [Configuration](#toc1_4_3_2_)    \n",
    "      - [Gene Compression](#toc1_4_3_3_)    \n",
    "        - [Dataset and Dataloader](#toc1_4_3_3_1_)    \n",
    "        - [Compress gene features](#toc1_4_3_3_2_)    \n",
    "      - [Synergy prediction](#toc1_4_3_4_)    \n",
    "        - [Train/test split in cross or external validation](#toc1_4_3_4_1_)    \n",
    "        - [Dataset and Dataloader](#toc1_4_3_4_2_)    \n",
    "        - [Load dataset](#toc1_4_3_4_3_)    \n",
    "      - [Prediction model](#toc1_4_3_5_)    \n",
    "      - [Training](#toc1_4_3_6_)    \n",
    "        - [Hyperparameters](#toc1_4_3_6_1_)    \n",
    "        - [Computational Requirements](#toc1_4_3_6_2_)    \n",
    "      - [Evaluation](#toc1_4_3_7_)    \n",
    "        - [Evaluation Metrics](#toc1_4_3_7_1_)    \n",
    "      - [Train Specific Model](#toc1_4_3_8_)    \n",
    "        - [Freeze layers](#toc1_4_3_8_1_)    \n",
    "      - [Evaluate Specific Model](#toc1_4_3_9_)    \n",
    "        - [Select the top ranked drug combinations](#toc1_4_3_9_1_)    \n",
    "  - [Results](#toc1_5_)    \n",
    "    - [Drug response prediction accuracy for data-rich tissues](#toc1_5_1_)    \n",
    "    - [Drug response prediction accuracy for bone and prostate cancer](#toc1_5_2_)    \n",
    "    - [Ranking Predicted Synergenistic Drug Combinations](#toc1_5_3_)    \n",
    "      - [Prostate Top Predictions](#toc1_5_3_1_)    \n",
    "      - [Bone Top Predictions](#toc1_5_3_2_)    \n",
    "  - [Discussion](#toc1_6_)    \n",
    "    - [Issues Encountered](#toc1_6_1_)    \n",
    "    - [Reproducability and Future Considerations](#toc1_6_2_)    \n",
    "  - [References](#toc1_7_)    \n",
    "\n",
    "<!-- vscode-jupyter-toc-config\n",
    "\tnumbering=false\n",
    "\tanchor=true\n",
    "\tflat=false\n",
    "\tminLevel=1\n",
    "\tmaxLevel=6\n",
    "\t/vscode-jupyter-toc-config -->\n",
    "<!-- THIS CELL WILL BE REPLACED ON TOC UPDATE. DO NOT WRITE YOUR TEXT IN THIS CELL -->"
   ]
  },
  {
   "cell_type": "markdown",
   "metadata": {},
   "source": [
    "## <a id='toc1_2_'></a>[Introduction](#toc0_)"
   ]
  },
  {
   "cell_type": "markdown",
   "metadata": {},
   "source": [
    "In the pursuit of enhancing the efficacy of cancer treatments, the exploration of synergistic drug combinations has emerged as a promising strategy. Indeed, Kim et al. demonstrate in their paper how high-throughput combinatorial drug screening offers a pathway to discover these potent combinations, leveraging the complex interplay between multiple drugs to achieve higher efficacy without compromising safety ([Kim et al. 2020](https://doi.org/10.1101/2020.02.05.932657)). Whereas traditional drug discovery processes are not only costly and time-consuming but often result in therapies that target single molecules or pathways, potentially missing opportunities for enhanced therapeutic effects through drug combinations.\n",
    "\n",
    "A significant challenge in this domain is the uneven distribution of data across various cancer types. While some cancers have been extensively studied, providing a rich dataset of drug responses, others, such as bone and prostate cancers, remain understudied due to various obstacles including the difficulty in obtaining viable cell lines and the complexity of their in-vitro models ([Kim et al. 2020](https://doi.org/10.1101/2020.02.05.932657)). This disparity poses a problem for developing effective treatments for these less-studied tissues, as the lack of data hampers the predictive power of drug response models. Addressing this issue, Kim et al. present a novel approach to predicting effective drug combinations in tissues with scant data. By employing **transfer learning**, the study leverages the abundance of data from well-studied tissues to enhance predictions in data-poor tissues, thus overcoming a significant hurdle in cancer treatment research. The methodology centers around the development of a deep neural network model that integrates a comprehensive set of genetic, molecular, and phenotypic features collected from various databases. This model not only predicts drug synergy but also adapts the knowledge learned from data-rich contexts to those that are data-deficient.\n",
    "\n",
    "The core innovation of this study lies in its use of transfer learning, a technique where a model developed for one task is reused as the starting point for a model on a second task. Here, it involves transferring the insights gained from drug-cell interactions in common cancers to improve synergy predictions in less common ones. This approach is particularly advantageous in dealing with the sparse data scenarios typical of understudied tissues. By doing so, the model provides a means to prioritize future in-vitro experiments, potentially accelerating the discovery of viable cancer treatments for these challenging cases.\n",
    "\n",
    "The work of Kim et al. significantly contributes to the field of computational drug discovery by demonstrating how advanced machine learning techniques can bridge the gap between data-rich and data-poor scenarios. This not only enhances the predictive accuracy of drug synergy models but also broadens the scope of their applicability to a wider range of tissues, ultimately facilitating more targeted and effective cancer treatments."
   ]
  },
  {
   "cell_type": "markdown",
   "metadata": {},
   "source": [
    "## <a id='toc1_3_'></a>[Scope of Reproducability](#toc0_)"
   ]
  },
  {
   "cell_type": "markdown",
   "metadata": {},
   "source": [
    "In terms of the reproducability of this paper, I encountered several issues while attempting to reproduce the authors' results ([Kim et al. 2020](https://doi.org/10.1101/2020.02.05.932657)). I should make note here that this has been a consistent issue I've faced throughout the course of this project, as this is the 2nd project that I've attempted. To demonstrate the sincere efforts that have been put into this project without being able to showcase any final results, I will detail my process here."
   ]
  },
  {
   "cell_type": "markdown",
   "metadata": {},
   "source": [
    "### <a id='toc1_3_1_'></a>[A Note on Previous Work: MoleculeSTM](#toc0_)"
   ]
  },
  {
   "cell_type": "markdown",
   "metadata": {},
   "source": [
    "Originally, I chose to reproduce the results of [Chao et al. (2023)](https://doi.org/10.1038/s42256-023-00759-6) for my assignment. In their work, Chao et al. premiered MoleculeSTM, a multi-modal molecule structure-text model for text-based retrieval and editing. The goal of their work was to showcase a new machine learning approach for drug discovery that, in separation from other work in this domain, would jointly learn molecules chemical structures as well as their textual descriptions through a contrastive learning approach ([Chao et al. 2023](https://doi.org/10.1038/s42256-023-00759-6)). I was unable to reproduce the results of this paper for two primary reasons: the complexity of environmental dependencies, and the computational feasibility."
   ]
  },
  {
   "cell_type": "markdown",
   "metadata": {},
   "source": [
    "#### <a id='toc1_3_1_1_'></a>[Environment Complexity](#toc0_)"
   ]
  },
  {
   "cell_type": "markdown",
   "metadata": {},
   "source": [
    "Regarding the environment setup process, this proved to be very taxing and took nearly a week to successfully complete. This seems to stem from a dependency conflict between some of the packages used, namely between PyTorch, CUDA, and Apex. I tried to configure the environment on three different operating systems; starting with Windows 11, then MacOS Sonoma, and finally Ubuntu 22.04. I reached out to ShangChao Liu for support and his advice was to set the environment up on Linux, so I partitioned my hard drive and installed Ubuntu, at which point I was able to get through the environment setup successfully. Additionally, after noticing that others were experiencing similar difficulties with the environment setup, I recieved permission from Dr. Liu to make a pull request to the respository with my fix, which explicitly set a compatible version of CUDA binaries to be installed with the PyTorch installation. "
   ]
  },
  {
   "cell_type": "markdown",
   "metadata": {},
   "source": [
    "#### <a id='toc1_3_1_2_'></a>[Computational Limitations](#toc0_)"
   ]
  },
  {
   "cell_type": "markdown",
   "metadata": {},
   "source": [
    "The second issue that made this paper difficult to reproduce within the scope of this project was the computational feasibility. Using an NVIDIA GTX 4090 GPU, I successfully started the pretraining process on Friday, April 12th, and left it running for 2 weeks. I started having concerns after seeing minimal progress the next morning, so I started researching alternative papers from a collection of backups that I kept. After letting the pretraining process run, I was disheartened to see that only 30/100 epochs had completed. I again reached out to Dr. Liu for guidance and he informed me that he and his colleagues originally trained MoleculeSTM on a computing cluster of multiple machines each outfitted with several CPUs and at least 4 NVIDIA 2080 GPUs. This was not a realistic or feasible paper for me to reproduce in time for submission without spending a significant amount of money on accessing higher-powered computing space. Unfortunately, without realizing how long the pretraining process was estimated to take, I neglected to add code to save checkpoints as it went along, which means that after terminating the process I had nothing to show for this. "
   ]
  },
  {
   "cell_type": "markdown",
   "metadata": {},
   "source": [
    "### <a id='toc1_3_2_'></a>[Switching to Synergy Transfer](#toc0_)"
   ]
  },
  {
   "cell_type": "markdown",
   "metadata": {},
   "source": [
    "Deciding to switch projects to one that would be more feasible required me to examine my backup papers for one that had a lower computational complexity and had readily accessible data, as I did not anticipate a need to request access to any of the MIMIC data given that MoleculeSTM had its data stored in HuggingFace repositories. To this end, I landed on Synergy Transfer by [Kim et al. (2020)](https://doi.org/10.1101/2020.02.05.932657), which seemed promising due to its comparatively lower system requirements and open source data usage. "
   ]
  },
  {
   "cell_type": "markdown",
   "metadata": {},
   "source": [
    "#### <a id='toc1_3_2_1_'></a>[Absences and Misalignments in Data](#toc0_)"
   ]
  },
  {
   "cell_type": "markdown",
   "metadata": {},
   "source": [
    "While my shift from MoleculeSTM to Synergy Transfer was done primarily for its use of publicly available data, I quickly found that this was a significant challenge due to the unavailability of some of the original data used and the lack of documentation for acquiring it or replicating their findings. Without documentation of any kind, I followed the only indications I had from the original paper as well as the GitHub repo, which stated that data had been accessed from DrugComb and DrugBank. It took time to understand how to acquire the data using the API from DrugComb, but once I did manage to get the data I noticed that there had been significant changes to the data architecture since this paper was firts published. Specifically, key dimensions reflecting the tissue and disease names, as well as the synergy scores for various blocks were absent from the new version of data available on DrugComb. I refactored the code as best as I could to align with the new dimensionality, but there were still issues with the absence of tissue and disease names that caused downsteam errors in the Synergy Prediction task, as will be seen in future sections. \n",
    "\n",
    "Where DrugBank was concerned, I had no realistic pathway to help me acquire it, so I similarly decided to reach out to two of the original authors of the paper, Kim Yejin and Jing Tang, for guidance. Kim Yejin shared with me a .zip file containing some of the data used for downstream tasks in the preprocessing notebook, but it was not inclusive of all of the original data they used. When I requested all of the original data used, she did not respond. Jing Tang shared the original summary .csv file that I was looking for, but the dimensionality of this data did not match the newer version or the version that they used in the original paper, so I was still blocked from fully realizing their results."
   ]
  },
  {
   "cell_type": "markdown",
   "metadata": {},
   "source": [
    "## <a id='toc1_4_'></a>[Methodology](#toc0_)"
   ]
  },
  {
   "cell_type": "markdown",
   "metadata": {},
   "source": [
    "This section will cover the methodology used for reproducing the results of [Kim et al. (2020)](https://doi.org/10.1101/2020.02.05.932657), including a full setup guide for the environment, an overview of available data, the model architecture, training process, and evaluation. "
   ]
  },
  {
   "cell_type": "markdown",
   "metadata": {},
   "source": [
    "### <a id='toc1_4_1_'></a>[Environment](#toc0_)"
   ]
  },
  {
   "cell_type": "markdown",
   "metadata": {},
   "source": [
    "Before beginning the environment setup, I should note that I used a machine with Ubuntu v22.04 installed and would recommend doing the same to avoid some complexity with package installation. Assuming you're working on some distribution of Linux or want to attempt the setup with a different OS, the first step is to install Conda."
   ]
  },
  {
   "cell_type": "markdown",
   "metadata": {},
   "source": [
    "#### <a id='toc1_4_1_1_'></a>[Conda](#toc0_)"
   ]
  },
  {
   "cell_type": "markdown",
   "metadata": {},
   "source": [
    "First, install Conda as shown below, you can refer to more comprehensive instructions on [Conda's website](https://docs.conda.io/projects/conda/en/latest/user-guide/install/linux.html) if you're using a different OS.\n",
    "\n",
    "```\n",
    "mkdir -p ~/miniconda3\n",
    "wget https://repo.anaconda.com/miniconda/Miniconda3-latest-Linux-x86_64.sh -O ~/miniconda3/miniconda.sh\n",
    "bash ~/miniconda3/miniconda.sh -b -u -p ~/miniconda3\n",
    "rm -rf ~/miniconda3/miniconda.sh\n",
    "```\n",
    "\n",
    "Then initialize bash and zsh shells\n",
    "\n",
    "```\n",
    "~/miniconda3/bin/conda init bash\n",
    "~/miniconda3/bin/conda init zsh\n",
    "```\n",
    "\n",
    "Create a new conda environment using **Python 3.8** as the base. To make things easier, you can use the following command to create a new conda environment using the [environment.yaml](environment.yaml) file, as shown below:\n",
    "\n",
    "```\n",
    "conda env create -f environment.yaml\n",
    "```\n",
    "\n",
    "Or, if you wish to do it yourself, create your new conda environment as shown below:\n",
    "\n",
    "```\n",
    "conda create -n synergy python=3.8\n",
    "```\n",
    "\n",
    "and activate it\n",
    "\n",
    "```\n",
    "conda activate synergy\n",
    "```"
   ]
  },
  {
   "cell_type": "markdown",
   "metadata": {},
   "source": [
    "#### <a id='toc1_4_1_2_'></a>[Python Dependencies](#toc0_)"
   ]
  },
  {
   "cell_type": "markdown",
   "metadata": {},
   "source": [
    "With a conda environment successfully configured, you now must install all of the required Python dependencies.\n",
    "\n",
    "```\n",
    "pip install torch torchvision\n",
    "pip install cudatoolkit==12.1\n",
    "pip install pandas\n",
    "pip install scikit-learn\n",
    "pip install seaborn\n",
    "pip install numpy\n",
    "pip install matplotlib\n",
    "pip install rdkit\n",
    "```\n",
    "\n",
    "At this point you should be all set up to start running the code in this notebook. Ensure you select the conda environment you created as the Kernel."
   ]
  },
  {
   "cell_type": "markdown",
   "metadata": {},
   "source": [
    "### <a id='toc1_4_2_'></a>[Data](#toc0_)"
   ]
  },
  {
   "cell_type": "markdown",
   "metadata": {},
   "source": [
    "Once the environment has been successfully configured, the next step is accessing and preprocessing the data. The section below provides download instructions for all of the data used for this project (both raw and processed). You can run the code below to perform all preprocessing steps manually, or you can simply use the provided processed data used for model training and evaluation."
   ]
  },
  {
   "cell_type": "markdown",
   "metadata": {},
   "source": [
    "#### <a id='toc1_4_2_1_'></a>[Sources](#toc0_)"
   ]
  },
  {
   "cell_type": "markdown",
   "metadata": {},
   "source": [
    "The data used for this analysis comes from 4 different sources: \n",
    "\n",
    "- **DrugComb**\n",
    "\n",
    "    - For drug sensitivity and synergy data [(Zagidullin et al. 2019)](https://doi.org/10.1093/nar/gkz337)\n",
    "\n",
    "- **DrugBank**\n",
    "\n",
    "    - For drug genomic features [(Wishart et al. 2007)](https://doi.org/10.1093/nar/gkm958)\n",
    "\n",
    "- **Therapeutic Targets Database (TTD)**\n",
    "\n",
    "    - For drug genomic features [(Chen et al. 2002)](https://doi.org/10.1093/nar/30.1.412)\n",
    "\n",
    "- **NIH-LINC**\n",
    "\n",
    "    - For drug genomic features [(Harvard Medical School 2017)](http://lincsportal.ccs.miami.edu/datasets/#/view/LDS-1415)"
   ]
  },
  {
   "cell_type": "markdown",
   "metadata": {},
   "source": [
    "#### <a id='toc1_4_2_2_'></a>[Configuration](#toc0_)"
   ]
  },
  {
   "cell_type": "markdown",
   "metadata": {},
   "source": [
    "Import required modules"
   ]
  },
  {
   "cell_type": "code",
   "execution_count": 1,
   "metadata": {},
   "outputs": [],
   "source": [
    "import pandas as pd\n",
    "import numpy as np\n",
    "import pickle\n",
    "import matplotlib.pyplot as plt\n",
    "from mpl_toolkits.mplot3d import Axes3D\n",
    "from matplotlib import cm\n",
    "import rdkit\n",
    "from rdkit import Chem\n",
    "from rdkit.Chem import MACCSkeys\n",
    "import re\n",
    "import seaborn as sns\n",
    "from matplotlib.colors import LogNorm\n",
    "import math\n",
    "import gdown\n",
    "import os\n",
    "\n",
    "from utilities import Mapping"
   ]
  },
  {
   "cell_type": "markdown",
   "metadata": {},
   "source": [
    "Set your data path as the directory in which you saved the downloaded data"
   ]
  },
  {
   "cell_type": "code",
   "execution_count": 2,
   "metadata": {},
   "outputs": [],
   "source": [
    "DATA_PATH = 'synergy_transfer_data/'"
   ]
  },
  {
   "cell_type": "markdown",
   "metadata": {},
   "source": [
    "#### <a id='toc1_4_2_3_'></a>[Download](#toc0_)"
   ]
  },
  {
   "cell_type": "markdown",
   "metadata": {},
   "source": [
    "Run the code below to download all of the data to your data path"
   ]
  },
  {
   "cell_type": "code",
   "execution_count": 3,
   "metadata": {},
   "outputs": [
    {
     "name": "stderr",
     "output_type": "stream",
     "text": [
      "Retrieving folder contents\n"
     ]
    },
    {
     "name": "stdout",
     "output_type": "stream",
     "text": [
      "Retrieving folder 1tJjbItceWewAFKT6GbkiEc0uetG9v66Y cell\n",
      "Retrieving folder 1McFcm50uxfOhSLdV32mpwi1y64WEbyLl processed\n",
      "Processing file 1wn6X6CKzBorf74qYfj299kGjcQh6qcC- cell_features.p\n",
      "Retrieving folder 1DFpAvjQkXsSeR-AQwQZJ_ZQWXMh7Udfn raw\n",
      "Processing file 1vHCitsb1wwjZpb5d5Oph6zefuOImINP1 cell_line_meta.csv\n",
      "Processing file 1WEhqtuSDjZgPAqFBdcYY8d1-pUqY_96s cell_lines.csv\n",
      "Retrieving folder 1NXmg7tbKZP2anOXrJ4dhDbIToFiHUDrx drug\n",
      "Retrieving folder 1uZutTWVUKDwYlkBQTDvCTwRnIKOQeO4s processed\n",
      "Processing file 1OQYj57LwSqJgRXNLHwCeLIo_4E_6g9kW drug_clean_fp.p\n",
      "Processing file 1TZ1v9l4GIQO8fchQPJFEpZHs-Q0LvaP9 drug_clean.csv\n",
      "Processing file 1ZO-Tzwxz1lUYU8RuhWu3G5ZHYwI32cQm drug_features.p\n",
      "Retrieving folder 1DX9dWJPOq3IzyELCH719FXGN92Rjddah raw\n",
      "Processing file 18mZ8ywSYDuUNgeG03YSpznvwdeA68xcy drug_DrugBank_target.csv\n",
      "Processing file 1rIs8Mlm9BJQCyWI1l0QT9h9bn4AdZvsc drug_lincs_target.csv\n",
      "Processing file 1ItbIrk0bpqGEIdfv1S_DC8wUg4I6tasX drug_TTD_target.csv\n",
      "Processing file 1BwIuZb2JhBs07lPOEtg5fRfbjldXBRGB drugs.csv\n",
      "Retrieving folder 14SpivIgJRrLnlHn1QYIgcGd_flPaB1J9 gene\n",
      "Retrieving folder 1OZk6L6URo70u5XOfjAjteSFTkXjzAu4p raw\n",
      "Processing file 1P2EJU5QoLz5X0ChiYwsIeDPLUYCaCWpn fpkm_broad.csv\n",
      "Processing file 1cD6s-mEoaSLzF6kSkIkYhlpoAKY430sC fpkm_sangar.csv\n",
      "Processing file 1euEjVnSsYl_FC32NxwHaxzuuvh0pL7BM gene_identifiers_latest.csv\n",
      "Retrieving folder 1trZ5MTycQYS30WH2krNktqeAfPSLDKVf models\n",
      "Processing file 1d2MOuFBIMffUHd4rOAwhvuVlC_ncHMYA cellGeneCompressed.p\n",
      "Processing file 1YGf5KJr4DmAIbWpzdTW39XMeObdwdtLd cellGeneCompressor.p\n",
      "Processing file 1KpkX68hk7wOLZ2pdYy76eE9dvV1TSAZ0 drugGeneCompressed.p\n",
      "Processing file 1JbkxIOVFvd1LJOQr8bZ6yFzobguKteM6 drugGeneCompressor.p\n",
      "Processing file 1bHutzJt4Rh9SiJTkwYA5SYmbotn34-P1 id_feat_gene.p\n",
      "Retrieving folder 18nsrwRTRk6OAgwXTZrfydsoAlTEsif8U summary\n",
      "Retrieving folder 1Q6dGgNAgQsSpUh3JI6tYnj0-x1MnFs7x processed\n",
      "Processing file 1JgoRl74VF7-53lSAMoHgKMc8wozBZAtj codes.p\n",
      "Processing file 1BC18VDC2Zt9meWrqpw37SlXJNWceAFQN summary_mean.p\n",
      "Retrieving folder 1lUoGN9JQs0e1_y-JbJkPqxTwHr9SJvIs raw\n",
      "Processing file 158U6k-BN-ANkufnFejjDUBNQO9m8oymR summary_table.csv\n"
     ]
    },
    {
     "name": "stderr",
     "output_type": "stream",
     "text": [
      "Retrieving folder contents completed\n",
      "Building directory structure\n",
      "Building directory structure completed\n",
      "Downloading...\n",
      "From: https://drive.google.com/uc?id=1wn6X6CKzBorf74qYfj299kGjcQh6qcC-\n",
      "To: /home/blake/synergy_transfer/synergy_transfer_data/cell/processed/cell_features.p\n",
      "100%|██████████| 43.7M/43.7M [00:01<00:00, 27.8MB/s]\n",
      "Downloading...\n",
      "From: https://drive.google.com/uc?id=1vHCitsb1wwjZpb5d5Oph6zefuOImINP1\n",
      "To: /home/blake/synergy_transfer/synergy_transfer_data/cell/raw/cell_line_meta.csv\n",
      "100%|██████████| 256k/256k [00:00<00:00, 6.59MB/s]\n",
      "Downloading...\n",
      "From: https://drive.google.com/uc?id=1WEhqtuSDjZgPAqFBdcYY8d1-pUqY_96s\n",
      "To: /home/blake/synergy_transfer/synergy_transfer_data/cell/raw/cell_lines.csv\n",
      "100%|██████████| 259k/259k [00:00<00:00, 7.73MB/s]\n",
      "Downloading...\n",
      "From: https://drive.google.com/uc?id=1OQYj57LwSqJgRXNLHwCeLIo_4E_6g9kW\n",
      "To: /home/blake/synergy_transfer/synergy_transfer_data/drug/processed/drug_clean_fp.p\n",
      "100%|██████████| 2.29M/2.29M [00:00<00:00, 16.3MB/s]\n",
      "Downloading...\n",
      "From: https://drive.google.com/uc?id=1TZ1v9l4GIQO8fchQPJFEpZHs-Q0LvaP9\n",
      "To: /home/blake/synergy_transfer/synergy_transfer_data/drug/processed/drug_clean.csv\n",
      "100%|██████████| 762k/762k [00:00<00:00, 18.6MB/s]\n",
      "Downloading...\n",
      "From: https://drive.google.com/uc?id=1ZO-Tzwxz1lUYU8RuhWu3G5ZHYwI32cQm\n",
      "To: /home/blake/synergy_transfer/synergy_transfer_data/drug/processed/drug_features.p\n",
      "100%|██████████| 1.98M/1.98M [00:00<00:00, 25.4MB/s]\n",
      "Downloading...\n",
      "From: https://drive.google.com/uc?id=18mZ8ywSYDuUNgeG03YSpznvwdeA68xcy\n",
      "To: /home/blake/synergy_transfer/synergy_transfer_data/drug/raw/drug_DrugBank_target.csv\n",
      "100%|██████████| 4.22M/4.22M [00:00<00:00, 27.3MB/s]\n",
      "Downloading...\n",
      "From: https://drive.google.com/uc?id=1rIs8Mlm9BJQCyWI1l0QT9h9bn4AdZvsc\n",
      "To: /home/blake/synergy_transfer/synergy_transfer_data/drug/raw/drug_lincs_target.csv\n",
      "100%|██████████| 787k/787k [00:00<00:00, 16.4MB/s]\n",
      "Downloading...\n",
      "From: https://drive.google.com/uc?id=1ItbIrk0bpqGEIdfv1S_DC8wUg4I6tasX\n",
      "To: /home/blake/synergy_transfer/synergy_transfer_data/drug/raw/drug_TTD_target.csv\n",
      "100%|██████████| 296k/296k [00:00<00:00, 12.2MB/s]\n",
      "Downloading...\n",
      "From: https://drive.google.com/uc?id=1BwIuZb2JhBs07lPOEtg5fRfbjldXBRGB\n",
      "To: /home/blake/synergy_transfer/synergy_transfer_data/drug/raw/drugs.csv\n",
      "100%|██████████| 734k/734k [00:00<00:00, 17.5MB/s]\n",
      "Downloading...\n",
      "From: https://drive.google.com/uc?id=1P2EJU5QoLz5X0ChiYwsIeDPLUYCaCWpn\n",
      "To: /home/blake/synergy_transfer/synergy_transfer_data/gene/raw/fpkm_broad.csv\n",
      "100%|██████████| 56.0M/56.0M [00:01<00:00, 30.3MB/s]\n",
      "Downloading...\n",
      "From: https://drive.google.com/uc?id=1cD6s-mEoaSLzF6kSkIkYhlpoAKY430sC\n",
      "To: /home/blake/synergy_transfer/synergy_transfer_data/gene/raw/fpkm_sangar.csv\n",
      "100%|██████████| 33.7M/33.7M [00:01<00:00, 23.8MB/s]\n",
      "Downloading...\n",
      "From: https://drive.google.com/uc?id=1euEjVnSsYl_FC32NxwHaxzuuvh0pL7BM\n",
      "To: /home/blake/synergy_transfer/synergy_transfer_data/gene/raw/gene_identifiers_latest.csv\n",
      "100%|██████████| 2.91M/2.91M [00:00<00:00, 33.1MB/s]\n",
      "Downloading...\n",
      "From: https://drive.google.com/uc?id=1d2MOuFBIMffUHd4rOAwhvuVlC_ncHMYA\n",
      "To: /home/blake/synergy_transfer/synergy_transfer_data/models/cellGeneCompressed.p\n",
      "100%|██████████| 57.5k/57.5k [00:00<00:00, 4.82MB/s]\n",
      "Downloading...\n",
      "From: https://drive.google.com/uc?id=1YGf5KJr4DmAIbWpzdTW39XMeObdwdtLd\n",
      "To: /home/blake/synergy_transfer/synergy_transfer_data/models/cellGeneCompressor.p\n",
      "100%|██████████| 25.0M/25.0M [00:00<00:00, 30.3MB/s]\n",
      "Downloading...\n",
      "From: https://drive.google.com/uc?id=1KpkX68hk7wOLZ2pdYy76eE9dvV1TSAZ0\n",
      "To: /home/blake/synergy_transfer/synergy_transfer_data/models/drugGeneCompressed.p\n",
      "100%|██████████| 1.06M/1.06M [00:00<00:00, 18.3MB/s]\n",
      "Downloading...\n",
      "From: https://drive.google.com/uc?id=1JbkxIOVFvd1LJOQr8bZ6yFzobguKteM6\n",
      "To: /home/blake/synergy_transfer/synergy_transfer_data/models/drugGeneCompressor.p\n",
      "100%|██████████| 12.6M/12.6M [00:00<00:00, 24.9MB/s]\n",
      "Downloading...\n",
      "From: https://drive.google.com/uc?id=1bHutzJt4Rh9SiJTkwYA5SYmbotn34-P1\n",
      "To: /home/blake/synergy_transfer/synergy_transfer_data/models/id_feat_gene.p\n",
      "100%|██████████| 2.22M/2.22M [00:00<00:00, 30.6MB/s]\n",
      "Downloading...\n",
      "From: https://drive.google.com/uc?id=1JgoRl74VF7-53lSAMoHgKMc8wozBZAtj\n",
      "To: /home/blake/synergy_transfer/synergy_transfer_data/summary/processed/codes.p\n",
      "100%|██████████| 512k/512k [00:00<00:00, 10.9MB/s]\n",
      "Downloading...\n",
      "From: https://drive.google.com/uc?id=1BC18VDC2Zt9meWrqpw37SlXJNWceAFQN\n",
      "To: /home/blake/synergy_transfer/synergy_transfer_data/summary/processed/summary_mean.p\n",
      "100%|██████████| 21.9M/21.9M [00:00<00:00, 29.2MB/s]\n",
      "Downloading...\n",
      "From (original): https://drive.google.com/uc?id=158U6k-BN-ANkufnFejjDUBNQO9m8oymR\n",
      "From (redirected): https://drive.google.com/uc?id=158U6k-BN-ANkufnFejjDUBNQO9m8oymR&confirm=t&uuid=d1c89008-38fb-495d-abcd-3cfa0390a087\n",
      "To: /home/blake/synergy_transfer/synergy_transfer_data/summary/raw/summary_table.csv\n",
      "100%|██████████| 166M/166M [00:05<00:00, 29.2MB/s] \n",
      "Download completed\n"
     ]
    },
    {
     "data": {
      "text/plain": [
       "['/home/blake/synergy_transfer/synergy_transfer_data/cell/processed/cell_features.p',\n",
       " '/home/blake/synergy_transfer/synergy_transfer_data/cell/raw/cell_line_meta.csv',\n",
       " '/home/blake/synergy_transfer/synergy_transfer_data/cell/raw/cell_lines.csv',\n",
       " '/home/blake/synergy_transfer/synergy_transfer_data/drug/processed/drug_clean_fp.p',\n",
       " '/home/blake/synergy_transfer/synergy_transfer_data/drug/processed/drug_clean.csv',\n",
       " '/home/blake/synergy_transfer/synergy_transfer_data/drug/processed/drug_features.p',\n",
       " '/home/blake/synergy_transfer/synergy_transfer_data/drug/raw/drug_DrugBank_target.csv',\n",
       " '/home/blake/synergy_transfer/synergy_transfer_data/drug/raw/drug_lincs_target.csv',\n",
       " '/home/blake/synergy_transfer/synergy_transfer_data/drug/raw/drug_TTD_target.csv',\n",
       " '/home/blake/synergy_transfer/synergy_transfer_data/drug/raw/drugs.csv',\n",
       " '/home/blake/synergy_transfer/synergy_transfer_data/gene/raw/fpkm_broad.csv',\n",
       " '/home/blake/synergy_transfer/synergy_transfer_data/gene/raw/fpkm_sangar.csv',\n",
       " '/home/blake/synergy_transfer/synergy_transfer_data/gene/raw/gene_identifiers_latest.csv',\n",
       " '/home/blake/synergy_transfer/synergy_transfer_data/models/cellGeneCompressed.p',\n",
       " '/home/blake/synergy_transfer/synergy_transfer_data/models/cellGeneCompressor.p',\n",
       " '/home/blake/synergy_transfer/synergy_transfer_data/models/drugGeneCompressed.p',\n",
       " '/home/blake/synergy_transfer/synergy_transfer_data/models/drugGeneCompressor.p',\n",
       " '/home/blake/synergy_transfer/synergy_transfer_data/models/id_feat_gene.p',\n",
       " '/home/blake/synergy_transfer/synergy_transfer_data/summary/processed/codes.p',\n",
       " '/home/blake/synergy_transfer/synergy_transfer_data/summary/processed/summary_mean.p',\n",
       " '/home/blake/synergy_transfer/synergy_transfer_data/summary/raw/summary_table.csv']"
      ]
     },
     "execution_count": 3,
     "metadata": {},
     "output_type": "execute_result"
    }
   ],
   "source": [
    "gdown.download_folder('https://drive.google.com/drive/u/1/folders/14xZ4BLGMEO0Wv5uY0R2tMtB13hevjVLF', quiet=False)"
   ]
  },
  {
   "cell_type": "markdown",
   "metadata": {},
   "source": [
    "#### <a id='toc1_4_2_4_'></a>[Summary](#toc0_)"
   ]
  },
  {
   "cell_type": "markdown",
   "metadata": {},
   "source": [
    "The first dataset we use is the `summary_table` dataset. This dataset serves as a source for drug and cell_lines information, as well as ids corresponding to various healthcare data sources for joining this information with supplementary data, as we will see later."
   ]
  },
  {
   "cell_type": "markdown",
   "metadata": {},
   "source": [
    "First, load in the summary"
   ]
  },
  {
   "cell_type": "code",
   "execution_count": 4,
   "metadata": {},
   "outputs": [
    {
     "name": "stderr",
     "output_type": "stream",
     "text": [
      "/tmp/ipykernel_147898/107560680.py:1: DtypeWarning: Columns (2,5) have mixed types. Specify dtype option on import or set low_memory=False.\n",
      "  summary = pd.read_csv(f'{DATA_PATH}/summary/raw/summary_table.csv')\n"
     ]
    }
   ],
   "source": [
    "summary = pd.read_csv(f'{DATA_PATH}/summary/raw/summary_table.csv')"
   ]
  },
  {
   "cell_type": "markdown",
   "metadata": {},
   "source": [
    "Take the average of replicates experiments"
   ]
  },
  {
   "cell_type": "code",
   "execution_count": 5,
   "metadata": {},
   "outputs": [],
   "source": [
    "summary_mean = summary.groupby(['drug_row','drug_col','cell_line_name', 'study_id'], \n",
    "                               as_index=False).mean(numeric_only=True)\n",
    "\n",
    "summary_mean = summary_mean.loc[:, ['drug_row', 'drug_col', 'cell_line_name', 'study_id','ri_row', 'ri_col', 'synergy_loewe']]"
   ]
  },
  {
   "cell_type": "markdown",
   "metadata": {},
   "source": [
    "##### <a id='toc1_4_2_4_1_'></a>[Data Exploration](#toc0_)"
   ]
  },
  {
   "cell_type": "markdown",
   "metadata": {},
   "source": [
    "Determine the Monotherapy Sensitivity"
   ]
  },
  {
   "cell_type": "code",
   "execution_count": 6,
   "metadata": {},
   "outputs": [],
   "source": [
    "sensitivity = pd.concat([\n",
    "          summary_mean.loc[:, ['drug_row', 'cell_line_name', 'ri_row']].rename(columns={'drug_row':'drug', 'ri_row':'ri'}),\n",
    "          summary_mean.loc[:, ['drug_col', 'cell_line_name', 'ri_col']].rename(columns={'drug_col':'drug', 'ri_col':'ri'})\n",
    "        ])"
   ]
  },
  {
   "cell_type": "markdown",
   "metadata": {},
   "source": [
    "Plot Relative Inhibition vs Loewe Synergy"
   ]
  },
  {
   "cell_type": "code",
   "execution_count": 7,
   "metadata": {},
   "outputs": [
    {
     "data": {
      "text/plain": [
       "Text(0, 0.5, 'Counts')"
      ]
     },
     "execution_count": 7,
     "metadata": {},
     "output_type": "execute_result"
    },
    {
     "data": {
      "image/png": "[encoded data removed]",
      "text/plain": [
       "<Figure size 640x480 with 1 Axes>"
      ]
     },
     "metadata": {},
     "output_type": "display_data"
    }
   ],
   "source": [
    "plt.hist(sensitivity['ri'], bins=20, range=[-100,100])\n",
    "plt.xlabel(\"Relative Inhibition (Monotherapy Sensitivity)\")\n",
    "plt.ylabel(\"Counts\")\n",
    "#plt.savefig(data_path+'ri_cnt.png',  bbox_inches='tight', dpi=200)"
   ]
  },
  {
   "cell_type": "code",
   "execution_count": 8,
   "metadata": {},
   "outputs": [
    {
     "data": {
      "text/plain": [
       "Text(0, 0.5, 'Counts')"
      ]
     },
     "execution_count": 8,
     "metadata": {},
     "output_type": "execute_result"
    },
    {
     "data": {
      "image/png": "[encoded data removed]",
      "text/plain": [
       "<Figure size 640x480 with 1 Axes>"
      ]
     },
     "metadata": {},
     "output_type": "display_data"
    }
   ],
   "source": [
    "plt.hist(((summary_mean.loc[:,'synergy_loewe'].values.reshape(-1))), range=[-100, 75])\n",
    "plt.xlabel(\"Loewe Synergy\")\n",
    "plt.ylabel(\"Counts\")\n",
    "#plt.savefig(data_path+'syn_cnt.png', bbox_inches='tight', dpi=200)"
   ]
  },
  {
   "cell_type": "code",
   "execution_count": 9,
   "metadata": {},
   "outputs": [
    {
     "data": {
      "text/plain": [
       "(-100.0, 100.0)"
      ]
     },
     "execution_count": 9,
     "metadata": {},
     "output_type": "execute_result"
    },
    {
     "data": {
      "image/png": "[encoded data removed]",
      "text/plain": [
       "<Figure size 640x480 with 1 Axes>"
      ]
     },
     "metadata": {},
     "output_type": "display_data"
    }
   ],
   "source": [
    "X = summary_mean.loc[:,'ri_row'].to_numpy()\n",
    "Y = summary_mean.loc[:,'ri_col'].to_numpy()\n",
    "Z = summary_mean.loc[:,'synergy_loewe'].to_numpy()\n",
    "\n",
    "fig = plt.figure()\n",
    "ax = fig.add_subplot(projection='3d')\n",
    "ax.plot_trisurf(X,Y,Z)\n",
    "\n",
    "ax.set_xlabel('Drug1 Relative Inhibition')\n",
    "ax.set_ylabel('Drug2 Relative Inhibition')\n",
    "ax.set_zlabel('Synergy')\n",
    "ax.set_xlim(-100, 100)\n",
    "ax.set_ylim(-100, 100)\n",
    "\n",
    "# fig.savefig(data_path+'ri_synergy_3d.png', dpi=200)"
   ]
  },
  {
   "cell_type": "markdown",
   "metadata": {},
   "source": [
    "##### <a id='toc1_4_2_4_2_'></a>[Transforming Items to ID](#toc0_)"
   ]
  },
  {
   "cell_type": "markdown",
   "metadata": {},
   "source": [
    "We leverage the `Mapping` class to map items to indices and update the datasets to ensure consistency across all of the data"
   ]
  },
  {
   "cell_type": "code",
   "execution_count": 10,
   "metadata": {},
   "outputs": [],
   "source": [
    "codes = {\n",
    "    'drugs': Mapping(set(summary_mean['drug_row'].unique()).union(set(summary_mean['drug_col'].unique()))),\n",
    "    'cell':Mapping(summary_mean['cell_line_name'].unique())\n",
    "    }"
   ]
  },
  {
   "cell_type": "code",
   "execution_count": 11,
   "metadata": {},
   "outputs": [],
   "source": [
    "summary_mean['drug_col'] = summary_mean['drug_col'].apply(lambda x: codes['drugs'].item2idx[x])\n",
    "summary_mean['drug_row'] = summary_mean['drug_row'].apply(lambda x: codes['drugs'].item2idx[x])\n",
    "summary_mean['cell_line_name'] = summary_mean['cell_line_name'].apply(lambda x: codes['cell'].item2idx[x])"
   ]
  },
  {
   "cell_type": "code",
   "execution_count": 12,
   "metadata": {},
   "outputs": [
    {
     "data": {
      "text/html": [
       "<div>\n",
       "<style scoped>\n",
       "    .dataframe tbody tr th:only-of-type {\n",
       "        vertical-align: middle;\n",
       "    }\n",
       "\n",
       "    .dataframe tbody tr th {\n",
       "        vertical-align: top;\n",
       "    }\n",
       "\n",
       "    .dataframe thead th {\n",
       "        text-align: right;\n",
       "    }\n",
       "</style>\n",
       "<table border=\"1\" class=\"dataframe\">\n",
       "  <thead>\n",
       "    <tr style=\"text-align: right;\">\n",
       "      <th></th>\n",
       "      <th>drug_row</th>\n",
       "      <th>drug_col</th>\n",
       "      <th>cell_line_name</th>\n",
       "      <th>study_id</th>\n",
       "      <th>ri_row</th>\n",
       "      <th>ri_col</th>\n",
       "      <th>synergy_loewe</th>\n",
       "    </tr>\n",
       "  </thead>\n",
       "  <tbody>\n",
       "    <tr>\n",
       "      <th>0</th>\n",
       "      <td>3528</td>\n",
       "      <td>3467</td>\n",
       "      <td>0</td>\n",
       "      <td>4.0</td>\n",
       "      <td>-21.0794</td>\n",
       "      <td>17.392589</td>\n",
       "      <td>4.436431</td>\n",
       "    </tr>\n",
       "    <tr>\n",
       "      <th>1</th>\n",
       "      <td>702</td>\n",
       "      <td>2554</td>\n",
       "      <td>1</td>\n",
       "      <td>6.0</td>\n",
       "      <td>-20.0430</td>\n",
       "      <td>25.595000</td>\n",
       "      <td>-44.555935</td>\n",
       "    </tr>\n",
       "    <tr>\n",
       "      <th>2</th>\n",
       "      <td>702</td>\n",
       "      <td>2003</td>\n",
       "      <td>1</td>\n",
       "      <td>6.0</td>\n",
       "      <td>-9.7760</td>\n",
       "      <td>29.111000</td>\n",
       "      <td>-37.189720</td>\n",
       "    </tr>\n",
       "    <tr>\n",
       "      <th>3</th>\n",
       "      <td>2554</td>\n",
       "      <td>2554</td>\n",
       "      <td>2</td>\n",
       "      <td>12.0</td>\n",
       "      <td>6.7970</td>\n",
       "      <td>6.964000</td>\n",
       "      <td>1.283298</td>\n",
       "    </tr>\n",
       "    <tr>\n",
       "      <th>4</th>\n",
       "      <td>2554</td>\n",
       "      <td>2554</td>\n",
       "      <td>3</td>\n",
       "      <td>12.0</td>\n",
       "      <td>11.5280</td>\n",
       "      <td>7.190000</td>\n",
       "      <td>-3.028745</td>\n",
       "    </tr>\n",
       "  </tbody>\n",
       "</table>\n",
       "</div>"
      ],
      "text/plain": [
       "   drug_row  drug_col  cell_line_name  study_id   ri_row     ri_col  \\\n",
       "0      3528      3467               0       4.0 -21.0794  17.392589   \n",
       "1       702      2554               1       6.0 -20.0430  25.595000   \n",
       "2       702      2003               1       6.0  -9.7760  29.111000   \n",
       "3      2554      2554               2      12.0   6.7970   6.964000   \n",
       "4      2554      2554               3      12.0  11.5280   7.190000   \n",
       "\n",
       "   synergy_loewe  \n",
       "0       4.436431  \n",
       "1     -44.555935  \n",
       "2     -37.189720  \n",
       "3       1.283298  \n",
       "4      -3.028745  "
      ]
     },
     "execution_count": 12,
     "metadata": {},
     "output_type": "execute_result"
    }
   ],
   "source": [
    "summary_mean.head()"
   ]
  },
  {
   "cell_type": "markdown",
   "metadata": {},
   "source": [
    "Save the updated summary"
   ]
  },
  {
   "cell_type": "code",
   "execution_count": 13,
   "metadata": {},
   "outputs": [],
   "source": [
    "summary_mean.to_pickle(f'{DATA_PATH}/summary/processed/summary_mean.p')"
   ]
  },
  {
   "cell_type": "markdown",
   "metadata": {},
   "source": [
    "#### <a id='toc1_4_2_5_'></a>[Drugs](#toc0_)"
   ]
  },
  {
   "cell_type": "markdown",
   "metadata": {},
   "source": [
    "Next, we look at the data for `drugs`. This data includes various drug features and molecular structures to learn the model and help it make synergy predictions."
   ]
  },
  {
   "cell_type": "markdown",
   "metadata": {},
   "source": [
    "Load in the data"
   ]
  },
  {
   "cell_type": "code",
   "execution_count": 14,
   "metadata": {},
   "outputs": [],
   "source": [
    "drug = pd.read_csv(f'{DATA_PATH}/drug/raw/drugs.csv')"
   ]
  },
  {
   "cell_type": "markdown",
   "metadata": {},
   "source": [
    "##### <a id='toc1_4_2_5_1_'></a>[Preprocessing](#toc0_)"
   ]
  },
  {
   "cell_type": "markdown",
   "metadata": {},
   "source": [
    "We apply our mapping and perform some error correction for certain smiles in the dataset"
   ]
  },
  {
   "cell_type": "code",
   "execution_count": 15,
   "metadata": {},
   "outputs": [],
   "source": [
    "drug['id']=drug['dname'].apply(lambda x: codes['drugs'].item2idx.get(x))\n",
    "drug = drug.loc[~drug['id'].isna(),:]\n",
    "\n",
    "drug.loc[drug['cid']==57519530,'smiles']='CC(C)CC1C(=O)NC(C(=O)NC(CCCC=CCCCCCCC(C(=O)NC(C(=O)NC(C(=O)NC(C(=O)NC(C(=O)N1)CCCNC(=N)N)CC2=CNC3=CC=CC=C32)CC(C)C)CC(=O)N)(C)NC(=O)C(CC4=CC=CC=C4)NC(=O)C(C(C)O)NC(=O)C(CCC(=O)N)NC(=O)C(CCC(=O)N)NC(=O)C(CO)NC(=O)C(CCC(=O)N)NC(=O)CCNC(=O)C)(C)C(=O)NC(CCC(=O)N)C(=O)NC(CC(=O)N)C(=O)N)CC(C)C'\n",
    "drug.loc[drug['cid']==73265323,'smiles']='CC(C)CCCCCCCC(=O)NC1C(C(C(OC1OC2=C3C=C4C=C2OC5=C(C=C(C=C5)C(C6C(=O)NC(C7=C(C(=CC(=C7)O)OC8C(C(C(C(O8)CO)O)O)O)C9=C(C=CC(=C9)C(C(=O)N6)NC(=O)C4NC(=O)C1C2=CC(=CC(=C2)OC2=C(C=CC(=C2)C(C(=O)NC(CC2=CC(=C(O3)C=C2)Cl)C(=O)N1)N)O)O)O)C(=O)O)OC1C(C(C(C(O1)CO)O)O)NC(=O)C)Cl)CO)O)O'\n",
    "drug.loc[drug['cid']==16131923,'smiles']='CCCCCCCCCC(=O)NC1C(C(C(OC1OC2=C3C=C4C=C2OC5=C(C=C(C=C5)C(C6C(=O)NC(C7=C(C(=CC(=C7)O)OC8C(C(C(C(O8)CO)O)O)O)C9=C(C=CC(=C9)C(C(=O)N6)NC(=O)C4NC(=O)C1C2=CC(=CC(=C2)OC2=C(C=CC(=C2)C(C(=O)NC(CC2=CC(=C(O3)C=C2)Cl)C(=O)N1)N)O)O)O)C(=O)O)OC1C(C(C(C(O1)CO)O)O)NC(=O)C)Cl)CO)O)O'\n",
    "\n",
    "drug.to_csv(f'{DATA_PATH}/drug/processed/drug_clean.csv', index=False)"
   ]
  },
  {
   "cell_type": "markdown",
   "metadata": {},
   "source": [
    "Get the MAACS fingerprint from the smiles for numeric representations"
   ]
  },
  {
   "cell_type": "code",
   "execution_count": 16,
   "metadata": {},
   "outputs": [],
   "source": [
    "drug = pd.read_csv(f'{DATA_PATH}/drug/processed/drug_clean.csv')\n",
    "drug['fps']=drug['smiles'].apply(lambda x: list(MACCSkeys.GenMACCSKeys(Chem.MolFromSmiles(x))) if Chem.MolFromSmiles(x) is not None else '')\n",
    "\n",
    "drug.to_pickle(f'{DATA_PATH}/drug/processed/drug_clean_fp.p')"
   ]
  },
  {
   "cell_type": "code",
   "execution_count": 17,
   "metadata": {},
   "outputs": [],
   "source": [
    "drug = pickle.load(open(f'{DATA_PATH}/drug/processed/drug_clean_fp.p', 'rb'))\n",
    "drug['id'] = drug['id'].apply(lambda x: int(x))"
   ]
  },
  {
   "cell_type": "code",
   "execution_count": 18,
   "metadata": {},
   "outputs": [
    {
     "data": {
      "text/html": [
       "<div>\n",
       "<style scoped>\n",
       "    .dataframe tbody tr th:only-of-type {\n",
       "        vertical-align: middle;\n",
       "    }\n",
       "\n",
       "    .dataframe tbody tr th {\n",
       "        vertical-align: top;\n",
       "    }\n",
       "\n",
       "    .dataframe thead th {\n",
       "        text-align: right;\n",
       "    }\n",
       "</style>\n",
       "<table border=\"1\" class=\"dataframe\">\n",
       "  <thead>\n",
       "    <tr style=\"text-align: right;\">\n",
       "      <th></th>\n",
       "      <th>dname</th>\n",
       "      <th>chembl_id</th>\n",
       "      <th>inchikey</th>\n",
       "      <th>smiles</th>\n",
       "      <th>cid</th>\n",
       "      <th>molecular_formula</th>\n",
       "      <th>clinical_phase</th>\n",
       "      <th>cid_m</th>\n",
       "      <th>cid_s</th>\n",
       "      <th>stitch_name</th>\n",
       "      <th>drugbank_id</th>\n",
       "      <th>kegg_id</th>\n",
       "      <th>id</th>\n",
       "      <th>fps</th>\n",
       "    </tr>\n",
       "  </thead>\n",
       "  <tbody>\n",
       "    <tr>\n",
       "      <th>0</th>\n",
       "      <td>VALPROIC ACID</td>\n",
       "      <td>CHEMBL109</td>\n",
       "      <td>NIJJYAXOARWZEE-UHFFFAOYSA-N</td>\n",
       "      <td>CCCC(CCC)C(=O)O</td>\n",
       "      <td>3121</td>\n",
       "      <td>C8H16O2</td>\n",
       "      <td>4</td>\n",
       "      <td>CIDm00003121</td>\n",
       "      <td>CIDs00003121</td>\n",
       "      <td>valproate</td>\n",
       "      <td>DB00313</td>\n",
       "      <td>D00399</td>\n",
       "      <td>1716</td>\n",
       "      <td>[0, 0, 0, 0, 0, 0, 0, 0, 0, 0, 0, 0, 0, 0, 0, ...</td>\n",
       "    </tr>\n",
       "    <tr>\n",
       "      <th>1</th>\n",
       "      <td>PROBUCOL</td>\n",
       "      <td>CHEMBL608</td>\n",
       "      <td>FYPMFJGVHOHGLL-UHFFFAOYSA-N</td>\n",
       "      <td>CC(C)(C)C1=CC(=CC(=C1O)C(C)(C)C)SC(C)(C)SC2=CC...</td>\n",
       "      <td>4912</td>\n",
       "      <td>C31H48O2S2</td>\n",
       "      <td>4</td>\n",
       "      <td>CIDm00004912</td>\n",
       "      <td>CIDs00004912</td>\n",
       "      <td>probucol</td>\n",
       "      <td>DB01599</td>\n",
       "      <td>D00476</td>\n",
       "      <td>1407</td>\n",
       "      <td>[0, 0, 0, 0, 0, 0, 0, 0, 0, 0, 0, 0, 0, 0, 0, ...</td>\n",
       "    </tr>\n",
       "    <tr>\n",
       "      <th>2</th>\n",
       "      <td>CARBAMAZEPINE</td>\n",
       "      <td>CHEMBL108</td>\n",
       "      <td>FFGPTBGBLSHEPO-UHFFFAOYSA-N</td>\n",
       "      <td>C1=CC=C2C(=C1)C=CC3=CC=CC=C3N2C(=O)N</td>\n",
       "      <td>2554</td>\n",
       "      <td>C15H12N2O</td>\n",
       "      <td>4</td>\n",
       "      <td>CIDm00002554</td>\n",
       "      <td>CIDs00002554</td>\n",
       "      <td>carbamazepine</td>\n",
       "      <td>DB00564</td>\n",
       "      <td>D00252</td>\n",
       "      <td>695</td>\n",
       "      <td>[0, 0, 0, 0, 0, 0, 0, 0, 0, 0, 0, 0, 0, 0, 0, ...</td>\n",
       "    </tr>\n",
       "    <tr>\n",
       "      <th>3</th>\n",
       "      <td>PHENYTOIN</td>\n",
       "      <td>CHEMBL16</td>\n",
       "      <td>CXOFVDLJLONNDW-UHFFFAOYSA-N</td>\n",
       "      <td>C1=CC=C(C=C1)C2(C(=O)NC(=O)N2)C3=CC=CC=C3</td>\n",
       "      <td>1775</td>\n",
       "      <td>C15H12N2O2</td>\n",
       "      <td>4</td>\n",
       "      <td>CIDm00001775</td>\n",
       "      <td>CIDs00001775</td>\n",
       "      <td>phenytoin</td>\n",
       "      <td>DB00252</td>\n",
       "      <td>D00512</td>\n",
       "      <td>3844</td>\n",
       "      <td>[0, 0, 0, 0, 0, 0, 0, 0, 0, 0, 0, 0, 0, 0, 0, ...</td>\n",
       "    </tr>\n",
       "    <tr>\n",
       "      <th>4</th>\n",
       "      <td>Tesmilifene</td>\n",
       "      <td>CHEMBL26424</td>\n",
       "      <td>NFIXBCVWIPOYCD-UHFFFAOYSA-N</td>\n",
       "      <td>CCN(CC)CCOC1=CC=C(C=C1)CC2=CC=CC=C2</td>\n",
       "      <td>108092</td>\n",
       "      <td>C19H25NO</td>\n",
       "      <td>2</td>\n",
       "      <td>CIDm00108092</td>\n",
       "      <td>CIDs00108092</td>\n",
       "      <td>tesmilifene</td>\n",
       "      <td>DB04905</td>\n",
       "      <td>NaN</td>\n",
       "      <td>515</td>\n",
       "      <td>[0, 0, 0, 0, 0, 0, 0, 0, 0, 0, 0, 0, 0, 0, 0, ...</td>\n",
       "    </tr>\n",
       "    <tr>\n",
       "      <th>5</th>\n",
       "      <td>NOBILETIN</td>\n",
       "      <td>CHEMBL76447</td>\n",
       "      <td>MRIAQLRQZPPODS-UHFFFAOYSA-N</td>\n",
       "      <td>COC1=C(C=C(C=C1)C2=CC(=O)C3=C(O2)C(=C(C(=C3OC)...</td>\n",
       "      <td>72344</td>\n",
       "      <td>C21H22O8</td>\n",
       "      <td>0</td>\n",
       "      <td>CIDm00072344</td>\n",
       "      <td>CIDs00072344</td>\n",
       "      <td>nobiletin</td>\n",
       "      <td>NaN</td>\n",
       "      <td>C10112</td>\n",
       "      <td>1155</td>\n",
       "      <td>[0, 0, 0, 0, 0, 0, 0, 0, 0, 0, 0, 0, 0, 0, 0, ...</td>\n",
       "    </tr>\n",
       "    <tr>\n",
       "      <th>6</th>\n",
       "      <td>(+/-)-SULFINPYRAZONE</td>\n",
       "      <td>CHEMBL832</td>\n",
       "      <td>MBGGBVCUIVRRBF-UHFFFAOYSA-N</td>\n",
       "      <td>C1=CC=C(C=C1)N2C(=O)C(C(=O)N2C3=CC=CC=C3)CCS(=...</td>\n",
       "      <td>5342</td>\n",
       "      <td>C23H20N2O3S</td>\n",
       "      <td>4</td>\n",
       "      <td>CIDm00005342</td>\n",
       "      <td>CIDs00005342</td>\n",
       "      <td>sulfinpyrazone</td>\n",
       "      <td>DB01138</td>\n",
       "      <td>D00449</td>\n",
       "      <td>1355</td>\n",
       "      <td>[0, 0, 0, 0, 0, 0, 0, 0, 0, 0, 0, 0, 0, 0, 0, ...</td>\n",
       "    </tr>\n",
       "    <tr>\n",
       "      <th>7</th>\n",
       "      <td>BENZBROMARONE</td>\n",
       "      <td>CHEMBL388590</td>\n",
       "      <td>WHQCHUCQKNIQEC-UHFFFAOYSA-N</td>\n",
       "      <td>CCC1=C(C2=CC=CC=C2O1)C(=O)C3=CC(=C(C(=C3)Br)O)Br</td>\n",
       "      <td>2333</td>\n",
       "      <td>C17H12Br2O3</td>\n",
       "      <td>4</td>\n",
       "      <td>CIDm00002333</td>\n",
       "      <td>CIDs00002333</td>\n",
       "      <td>benzbromarone</td>\n",
       "      <td>DB12319</td>\n",
       "      <td>D01056</td>\n",
       "      <td>3887</td>\n",
       "      <td>[0, 0, 0, 0, 0, 0, 0, 0, 0, 0, 0, 0, 0, 0, 0, ...</td>\n",
       "    </tr>\n",
       "    <tr>\n",
       "      <th>8</th>\n",
       "      <td>TOLBUTAMIDE</td>\n",
       "      <td>CHEMBL782</td>\n",
       "      <td>JLRGJRBPOGGCBT-UHFFFAOYSA-N</td>\n",
       "      <td>CCCCNC(=O)NS(=O)(=O)C1=CC=C(C=C1)C</td>\n",
       "      <td>5505</td>\n",
       "      <td>C12H18N2O3S</td>\n",
       "      <td>4</td>\n",
       "      <td>CIDm00005505</td>\n",
       "      <td>CIDs00005505</td>\n",
       "      <td>tolbutamide</td>\n",
       "      <td>DB01124</td>\n",
       "      <td>D00380</td>\n",
       "      <td>3785</td>\n",
       "      <td>[0, 0, 0, 0, 0, 0, 0, 0, 0, 0, 0, 0, 0, 0, 0, ...</td>\n",
       "    </tr>\n",
       "    <tr>\n",
       "      <th>9</th>\n",
       "      <td>REPAGLINIDE</td>\n",
       "      <td>CHEMBL1272</td>\n",
       "      <td>FAEKWTJYAYMJKF-QHCPKHFHSA-N</td>\n",
       "      <td>CCOC1=C(C=CC(=C1)CC(=O)NC(CC(C)C)C2=CC=CC=C2N3...</td>\n",
       "      <td>65981</td>\n",
       "      <td>C27H36N2O4</td>\n",
       "      <td>4</td>\n",
       "      <td>CIDm00004547</td>\n",
       "      <td>CIDs00065981</td>\n",
       "      <td>repaglinide</td>\n",
       "      <td>DB00912</td>\n",
       "      <td>D00594</td>\n",
       "      <td>2523</td>\n",
       "      <td>[0, 0, 0, 0, 0, 0, 0, 0, 0, 0, 0, 0, 0, 0, 0, ...</td>\n",
       "    </tr>\n",
       "  </tbody>\n",
       "</table>\n",
       "</div>"
      ],
      "text/plain": [
       "                  dname     chembl_id                     inchikey  \\\n",
       "0         VALPROIC ACID     CHEMBL109  NIJJYAXOARWZEE-UHFFFAOYSA-N   \n",
       "1              PROBUCOL     CHEMBL608  FYPMFJGVHOHGLL-UHFFFAOYSA-N   \n",
       "2         CARBAMAZEPINE     CHEMBL108  FFGPTBGBLSHEPO-UHFFFAOYSA-N   \n",
       "3             PHENYTOIN      CHEMBL16  CXOFVDLJLONNDW-UHFFFAOYSA-N   \n",
       "4           Tesmilifene   CHEMBL26424  NFIXBCVWIPOYCD-UHFFFAOYSA-N   \n",
       "5             NOBILETIN   CHEMBL76447  MRIAQLRQZPPODS-UHFFFAOYSA-N   \n",
       "6  (+/-)-SULFINPYRAZONE     CHEMBL832  MBGGBVCUIVRRBF-UHFFFAOYSA-N   \n",
       "7         BENZBROMARONE  CHEMBL388590  WHQCHUCQKNIQEC-UHFFFAOYSA-N   \n",
       "8           TOLBUTAMIDE     CHEMBL782  JLRGJRBPOGGCBT-UHFFFAOYSA-N   \n",
       "9           REPAGLINIDE    CHEMBL1272  FAEKWTJYAYMJKF-QHCPKHFHSA-N   \n",
       "\n",
       "                                              smiles     cid  \\\n",
       "0                                    CCCC(CCC)C(=O)O    3121   \n",
       "1  CC(C)(C)C1=CC(=CC(=C1O)C(C)(C)C)SC(C)(C)SC2=CC...    4912   \n",
       "2               C1=CC=C2C(=C1)C=CC3=CC=CC=C3N2C(=O)N    2554   \n",
       "3          C1=CC=C(C=C1)C2(C(=O)NC(=O)N2)C3=CC=CC=C3    1775   \n",
       "4                CCN(CC)CCOC1=CC=C(C=C1)CC2=CC=CC=C2  108092   \n",
       "5  COC1=C(C=C(C=C1)C2=CC(=O)C3=C(O2)C(=C(C(=C3OC)...   72344   \n",
       "6  C1=CC=C(C=C1)N2C(=O)C(C(=O)N2C3=CC=CC=C3)CCS(=...    5342   \n",
       "7   CCC1=C(C2=CC=CC=C2O1)C(=O)C3=CC(=C(C(=C3)Br)O)Br    2333   \n",
       "8                 CCCCNC(=O)NS(=O)(=O)C1=CC=C(C=C1)C    5505   \n",
       "9  CCOC1=C(C=CC(=C1)CC(=O)NC(CC(C)C)C2=CC=CC=C2N3...   65981   \n",
       "\n",
       "  molecular_formula  clinical_phase         cid_m         cid_s  \\\n",
       "0           C8H16O2               4  CIDm00003121  CIDs00003121   \n",
       "1        C31H48O2S2               4  CIDm00004912  CIDs00004912   \n",
       "2         C15H12N2O               4  CIDm00002554  CIDs00002554   \n",
       "3        C15H12N2O2               4  CIDm00001775  CIDs00001775   \n",
       "4          C19H25NO               2  CIDm00108092  CIDs00108092   \n",
       "5          C21H22O8               0  CIDm00072344  CIDs00072344   \n",
       "6       C23H20N2O3S               4  CIDm00005342  CIDs00005342   \n",
       "7       C17H12Br2O3               4  CIDm00002333  CIDs00002333   \n",
       "8       C12H18N2O3S               4  CIDm00005505  CIDs00005505   \n",
       "9        C27H36N2O4               4  CIDm00004547  CIDs00065981   \n",
       "\n",
       "      stitch_name drugbank_id kegg_id    id  \\\n",
       "0       valproate     DB00313  D00399  1716   \n",
       "1        probucol     DB01599  D00476  1407   \n",
       "2   carbamazepine     DB00564  D00252   695   \n",
       "3       phenytoin     DB00252  D00512  3844   \n",
       "4     tesmilifene     DB04905     NaN   515   \n",
       "5       nobiletin         NaN  C10112  1155   \n",
       "6  sulfinpyrazone     DB01138  D00449  1355   \n",
       "7   benzbromarone     DB12319  D01056  3887   \n",
       "8     tolbutamide     DB01124  D00380  3785   \n",
       "9     repaglinide     DB00912  D00594  2523   \n",
       "\n",
       "                                                 fps  \n",
       "0  [0, 0, 0, 0, 0, 0, 0, 0, 0, 0, 0, 0, 0, 0, 0, ...  \n",
       "1  [0, 0, 0, 0, 0, 0, 0, 0, 0, 0, 0, 0, 0, 0, 0, ...  \n",
       "2  [0, 0, 0, 0, 0, 0, 0, 0, 0, 0, 0, 0, 0, 0, 0, ...  \n",
       "3  [0, 0, 0, 0, 0, 0, 0, 0, 0, 0, 0, 0, 0, 0, 0, ...  \n",
       "4  [0, 0, 0, 0, 0, 0, 0, 0, 0, 0, 0, 0, 0, 0, 0, ...  \n",
       "5  [0, 0, 0, 0, 0, 0, 0, 0, 0, 0, 0, 0, 0, 0, 0, ...  \n",
       "6  [0, 0, 0, 0, 0, 0, 0, 0, 0, 0, 0, 0, 0, 0, 0, ...  \n",
       "7  [0, 0, 0, 0, 0, 0, 0, 0, 0, 0, 0, 0, 0, 0, 0, ...  \n",
       "8  [0, 0, 0, 0, 0, 0, 0, 0, 0, 0, 0, 0, 0, 0, 0, ...  \n",
       "9  [0, 0, 0, 0, 0, 0, 0, 0, 0, 0, 0, 0, 0, 0, 0, ...  "
      ]
     },
     "execution_count": 18,
     "metadata": {},
     "output_type": "execute_result"
    }
   ],
   "source": [
    "drug.head(10)"
   ]
  },
  {
   "cell_type": "markdown",
   "metadata": {},
   "source": [
    "Then, we convert the SMILES sequences to indices for zero embedding"
   ]
  },
  {
   "cell_type": "code",
   "execution_count": 19,
   "metadata": {},
   "outputs": [],
   "source": [
    "seqs = drug['smiles'].to_list()\n",
    "chars = set([char for seq in seqs for char in seq])\n",
    "chars = ['']+list(chars) #for zero embedding\n",
    "codes['mole'] = Mapping(chars)\n",
    "drug['smiles'] = drug['smiles'].apply(lambda x : [codes['mole'].item2idx[char] for char in x])\n"
   ]
  },
  {
   "cell_type": "markdown",
   "metadata": {},
   "source": [
    "##### <a id='toc1_4_2_5_2_'></a>[Aligning Drug's Target Gene(s)](#toc0_)"
   ]
  },
  {
   "cell_type": "markdown",
   "metadata": {},
   "source": [
    "After preprocessing the drugs data, we need to align the drugs with their target genes from DrugBank, TTD, and LINC"
   ]
  },
  {
   "cell_type": "markdown",
   "metadata": {},
   "source": [
    "Merge target genes from DrugBank"
   ]
  },
  {
   "cell_type": "code",
   "execution_count": 20,
   "metadata": {},
   "outputs": [],
   "source": [
    "drug_DrugBank_target = pd.read_csv(f'{DATA_PATH}/drug/raw/drug_DrugBank_target.csv')\n",
    "drug_DrugBank_target =  drug_DrugBank_target[['Gene', 'drugbank_id']].groupby('drugbank_id').agg(lambda x: set(x)).applymap(list).reset_index()\n",
    "drug = pd.merge(drug, drug_DrugBank_target, how='left', on='drugbank_id')\n",
    "drug.rename(columns={'Gene':'gene_drugbank'}, inplace=True)\n",
    "drug['gene_drugbank'] = drug['gene_drugbank'].apply(lambda x: [] if type(x) is float else x)"
   ]
  },
  {
   "cell_type": "markdown",
   "metadata": {},
   "source": [
    "Merge target genes from TTD"
   ]
  },
  {
   "cell_type": "code",
   "execution_count": 21,
   "metadata": {},
   "outputs": [],
   "source": [
    "drug_TTD_target=pd.read_csv(f'{DATA_PATH}/drug/raw/drug_TTD_target.csv')\n",
    "drug_TTD_target['TTD_TARGETS']=drug_TTD_target['TTD_TARGETS'].apply(lambda x: re.split(',|;', x))\n",
    "drug=pd.merge(drug, drug_TTD_target.loc[:,['TTD_TARGETS', 'cid']],how='left', on='cid')\n",
    "drug.rename(columns={'TTD_TARGETS':'gene_ttd'}, inplace=True)\n",
    "drug['gene_ttd']=drug['gene_ttd'].apply(lambda x: [] if type(x) is float else x)\n"
   ]
  },
  {
   "cell_type": "markdown",
   "metadata": {},
   "source": [
    "Merge target genes from LINC"
   ]
  },
  {
   "cell_type": "code",
   "execution_count": 22,
   "metadata": {},
   "outputs": [],
   "source": [
    "drug_lincs_target = pd.read_csv(f'{DATA_PATH}/drug/raw/drug_lincs_target.csv')\n",
    "drug_lincs_target['target_genes']=drug_lincs_target['target_genes'].apply(lambda x: x.split(',') if type(x) is not float else [])\n",
    "drug = pd.merge(drug, drug_lincs_target.loc[:, ['target_genes', 'cid']], how='left', on='cid')\n",
    "drug.rename(columns={'target_genes':'gene_linc'}, inplace=True)"
   ]
  },
  {
   "cell_type": "markdown",
   "metadata": {},
   "source": [
    "Then, we combine all of the target genes identified for a particular drug into a single list"
   ]
  },
  {
   "cell_type": "code",
   "execution_count": 23,
   "metadata": {},
   "outputs": [],
   "source": [
    "drug['gene'] = drug.apply(lambda row: list(set(row['gene_drugbank']+row['gene_ttd']+row['gene_linc'])), axis=1)\n"
   ]
  },
  {
   "cell_type": "markdown",
   "metadata": {},
   "source": [
    "And map the genes accordingly"
   ]
  },
  {
   "cell_type": "code",
   "execution_count": 24,
   "metadata": {},
   "outputs": [],
   "source": [
    "unique_genes_drug = [l for lst in drug['gene'].aggregate(list).values for l in lst]"
   ]
  },
  {
   "cell_type": "markdown",
   "metadata": {},
   "source": [
    "#### <a id='toc1_4_2_6_'></a>[Cells](#toc0_)"
   ]
  },
  {
   "cell_type": "markdown",
   "metadata": {},
   "source": [
    "##### <a id='toc1_4_2_6_1_'></a>[Preprocessing](#toc0_)"
   ]
  },
  {
   "cell_type": "markdown",
   "metadata": {},
   "source": [
    "Load in the data"
   ]
  },
  {
   "cell_type": "code",
   "execution_count": 25,
   "metadata": {},
   "outputs": [],
   "source": [
    "cell_line = pd.read_csv(f'{DATA_PATH}/cell/raw/cell_lines.csv')"
   ]
  },
  {
   "cell_type": "markdown",
   "metadata": {},
   "source": [
    "Correct errors in raw data and apply mapping"
   ]
  },
  {
   "cell_type": "code",
   "execution_count": 26,
   "metadata": {},
   "outputs": [],
   "source": [
    "cell_line.replace({'large_intestine':'colon'}, inplace=True)\n",
    "cell_line.drop('id',axis=1, inplace=True)\n",
    "cell_line['cell_id'] = cell_line['name'].apply(lambda x: codes['cell'].item2idx.get(x))"
   ]
  },
  {
   "cell_type": "markdown",
   "metadata": {},
   "source": [
    "Then, we create a subset of cell line features"
   ]
  },
  {
   "cell_type": "code",
   "execution_count": 27,
   "metadata": {},
   "outputs": [],
   "source": [
    "cell_line_tissue = cell_line.loc[~cell_line['cell_id'].isna(), ['cell_id', 'tissue_name', 'disease_name']]\n",
    "cell_line_tissue['cell_id'] = cell_line_tissue['cell_id'].astype(int)\n",
    "cell_line_tissue = cell_line_tissue.groupby('cell_id').first()"
   ]
  },
  {
   "cell_type": "markdown",
   "metadata": {},
   "source": [
    "And apply our mapping logic again to map tissue ids to names"
   ]
  },
  {
   "cell_type": "code",
   "execution_count": 28,
   "metadata": {},
   "outputs": [],
   "source": [
    "codes['tissue'] = Mapping(cell_line_tissue['tissue_name'].unique())\n",
    "cell_line_tissue['tissue_name'] = cell_line_tissue['tissue_name'].apply(lambda x: codes['tissue'].item2idx[x])\n",
    "cell_line_tissue.rename(columns={'tissue_name':'tissue_id'}, inplace=True)"
   ]
  },
  {
   "cell_type": "markdown",
   "metadata": {},
   "source": [
    "We do the same mapping process for diseases"
   ]
  },
  {
   "cell_type": "code",
   "execution_count": 29,
   "metadata": {},
   "outputs": [],
   "source": [
    "codes['disease'] = Mapping(cell_line_tissue['disease_name'].apply(lambda x: x.split(' ')[-1].lower() if type(x) is not float else '').unique())\n",
    "cell_line_tissue['disease_name'] = cell_line_tissue['disease_name'].apply(lambda x: codes['disease'].item2idx[x.split(' ')[-1].lower()] if type(x) is not float else codes['disease'].item2idx[''])\n",
    "cell_line_tissue.rename(columns={'disease_name':'disease_id'},inplace=True)"
   ]
  },
  {
   "cell_type": "markdown",
   "metadata": {},
   "source": [
    "And perform some more error correction"
   ]
  },
  {
   "cell_type": "code",
   "execution_count": 30,
   "metadata": {},
   "outputs": [],
   "source": [
    "codes['tissue'].item2idx['haematopoietic_and_lymphoid'] = 1\n",
    "codes['tissue'].idx2item[1] = 'hem&lymp'"
   ]
  },
  {
   "cell_type": "markdown",
   "metadata": {},
   "source": [
    "Now we check out what our mapping logic has done to our tissues and diseases for verification"
   ]
  },
  {
   "cell_type": "code",
   "execution_count": 31,
   "metadata": {},
   "outputs": [
    {
     "data": {
      "text/plain": [
       "{'brain': 0,\n",
       " 'haematopoietic_and_lymphoid': 1,\n",
       " 'soft_tissue': 2,\n",
       " 'bone': 3,\n",
       " 'kidney': 4,\n",
       " 'lung': 5,\n",
       " 'breast': 6,\n",
       " 'colon': 7,\n",
       " 'prostate': 8,\n",
       " 'ovary': 9,\n",
       " 'skin': 10,\n",
       " 'endometrium': 11,\n",
       " 'pancreas': 12}"
      ]
     },
     "execution_count": 31,
     "metadata": {},
     "output_type": "execute_result"
    }
   ],
   "source": [
    "codes['tissue'].item2idx"
   ]
  },
  {
   "cell_type": "code",
   "execution_count": 32,
   "metadata": {},
   "outputs": [
    {
     "data": {
      "text/plain": [
       "{'c3058': 0,\n",
       " 'c8851': 1,\n",
       " 'c8971': 2,\n",
       " 'c94764': 3,\n",
       " 'c3716': 4,\n",
       " 'c9357': 5,\n",
       " 'c4817': 6,\n",
       " 'c3174': 7,\n",
       " 'c9385': 8,\n",
       " 'c3512': 9,\n",
       " 'c6975': 10,\n",
       " 'c4194': 11,\n",
       " 'c4033': 12,\n",
       " 'c7953': 13,\n",
       " 'c4349': 14,\n",
       " 'c4863': 15,\n",
       " 'c2926': 16,\n",
       " 'c4910': 17,\n",
       " 'c9154': 18,\n",
       " 'c7979': 19,\n",
       " 'c3802': 20,\n",
       " 'c3224': 21,\n",
       " 'c5214': 22,\n",
       " 'c9142': 23,\n",
       " 'c3493': 24,\n",
       " 'c2923': 25,\n",
       " 'c4450': 26,\n",
       " 'c105555': 27,\n",
       " 'c3242': 28,\n",
       " 'c60781': 29,\n",
       " 'c3796': 30,\n",
       " 'c3510': 31,\n",
       " 'c7978': 32,\n",
       " 'c7873': 33,\n",
       " 'c27677': 34,\n",
       " 'c4872': 35,\n",
       " 'c40078': 36,\n",
       " 'c9351': 37,\n",
       " 'c7700': 38,\n",
       " 'c4908': 39,\n",
       " 'c9383': 40,\n",
       " 'c9120': 41}"
      ]
     },
     "execution_count": 32,
     "metadata": {},
     "output_type": "execute_result"
    }
   ],
   "source": [
    "codes['disease'].item2idx"
   ]
  },
  {
   "cell_type": "markdown",
   "metadata": {},
   "source": [
    "We count the number of cell lines per tissue"
   ]
  },
  {
   "cell_type": "code",
   "execution_count": 33,
   "metadata": {},
   "outputs": [
    {
     "data": {
      "text/plain": [
       "Text(0, 0.5, 'Number of Cell Lines')"
      ]
     },
     "execution_count": 33,
     "metadata": {},
     "output_type": "execute_result"
    },
    {
     "data": {
      "image/png": "[encoded data removed]",
      "text/plain": [
       "<Figure size 800x500 with 1 Axes>"
      ]
     },
     "metadata": {},
     "output_type": "display_data"
    }
   ],
   "source": [
    "tissue_cell_cnts = cell_line_tissue.groupby('tissue_id').count().sort_values(by='disease_id', ascending=False)['disease_id']\n",
    "plt.figure(figsize=(8,5))\n",
    "plt.bar([codes['tissue'].idx2item[tissue_id] for tissue_id in tissue_cell_cnts.index], tissue_cell_cnts)\n",
    "plt.xticks(rotation=90)\n",
    "plt.xlabel('Tissue')\n",
    "plt.ylabel('Number of Cell Lines')\n",
    "\n",
    "#plt.savefig(data_path+'tissue_num_cell.png', bbox_inches='tight', dpi=200)"
   ]
  },
  {
   "cell_type": "markdown",
   "metadata": {},
   "source": [
    "##### <a id='toc1_4_2_6_2_'></a>[Aligning Cell Lines with Gene Expression(s)](#toc0_)"
   ]
  },
  {
   "cell_type": "markdown",
   "metadata": {},
   "source": [
    "Next, using the `gene_identifiers` and `cell_line_meta` files, we can align the cell lines with their respective gene expressions from Broad Institute and SANGAR"
   ]
  },
  {
   "cell_type": "markdown",
   "metadata": {},
   "source": [
    "Load in the data"
   ]
  },
  {
   "cell_type": "code",
   "execution_count": 34,
   "metadata": {},
   "outputs": [],
   "source": [
    "gene_identifiers = pd.read_csv(f'{DATA_PATH}/gene/raw/gene_identifiers_latest.csv')\n",
    "cell_line_meta = pd.read_csv(f'{DATA_PATH}/cell/raw/cell_line_meta.csv')\n",
    "fpkm_broad = pd.read_csv(f'{DATA_PATH}/gene/raw/fpkm_broad.csv')\n",
    "fpkm_sangar = pd.read_csv(f'{DATA_PATH}/gene/raw/fpkm_sangar.csv')"
   ]
  },
  {
   "cell_type": "markdown",
   "metadata": {},
   "source": [
    "Map the gene ids to the cell lines"
   ]
  },
  {
   "cell_type": "code",
   "execution_count": 35,
   "metadata": {},
   "outputs": [],
   "source": [
    "_codes={}\n",
    "_codes['gene_id2hgnc_symbol'] = gene_identifiers[['gene_id', 'hgnc_symbol']].set_index('gene_id').to_dict('index')\n",
    "_codes['SANGAR_ID2cell_name'] = cell_line_meta.loc[cell_line_meta['name'].isin(codes['cell'].idx2item) & ~cell_line_meta['SANGAR_ID'].isna(), ['SANGAR_ID', 'name']].set_index('SANGAR_ID').to_dict('index')"
   ]
  },
  {
   "cell_type": "markdown",
   "metadata": {},
   "source": [
    "Align the gene expressions from Broad Institute"
   ]
  },
  {
   "cell_type": "code",
   "execution_count": 36,
   "metadata": {},
   "outputs": [],
   "source": [
    "fpkm_broad = fpkm_broad.loc[fpkm_broad['model_id'].isin(_codes['SANGAR_ID2cell_name'])]#apply(lambda x: _codes['SANGAR_ID2cell_name'].get(x))\n",
    "fpkm_broad['model_id'] = fpkm_broad['model_id'].apply(lambda x: codes['cell'].item2idx[_codes['SANGAR_ID2cell_name'][x]['name']])\n",
    "fpkm_broad.rename(columns={col:_codes['gene_id2hgnc_symbol'][col]['hgnc_symbol'] for col in fpkm_broad.columns[1:]}, inplace=True)\n",
    "\n",
    "fpkm_broad.rename(columns={'model_id':'cell_id'}, inplace=True)\n",
    "fpkm_broad.set_index('cell_id', inplace=True)\n"
   ]
  },
  {
   "cell_type": "markdown",
   "metadata": {},
   "source": [
    "Sanity check"
   ]
  },
  {
   "cell_type": "code",
   "execution_count": 37,
   "metadata": {},
   "outputs": [
    {
     "data": {
      "text/plain": [
       "21732"
      ]
     },
     "execution_count": 37,
     "metadata": {},
     "output_type": "execute_result"
    }
   ],
   "source": [
    "(fpkm_broad.sum()>0).sum()"
   ]
  },
  {
   "cell_type": "markdown",
   "metadata": {},
   "source": [
    "Align gene expressions from SANGAR"
   ]
  },
  {
   "cell_type": "code",
   "execution_count": 38,
   "metadata": {},
   "outputs": [],
   "source": [
    "fpkm_sangar = pd.read_csv(f'{DATA_PATH}/gene/raw/fpkm_sangar.csv')\n",
    "\n",
    "fpkm_sangar = fpkm_sangar.loc[fpkm_sangar['model_id'].isin(_codes['SANGAR_ID2cell_name'])]#apply(lambda x: _codes['SANGAR_ID2cell_name'].get(x))\n",
    "fpkm_sangar['model_id'] = fpkm_sangar['model_id'].apply(lambda x: codes['cell'].item2idx[_codes['SANGAR_ID2cell_name'][x]['name']])\n",
    "fpkm_sangar.rename(columns={col:_codes['gene_id2hgnc_symbol'][col]['hgnc_symbol'] for col in fpkm_sangar.columns[1:]}, inplace=True)\n",
    "\n",
    "fpkm_sangar.rename(columns={'model_id':'cell_id'}, inplace=True)\n",
    "fpkm_sangar.set_index('cell_id', inplace=True)\n"
   ]
  },
  {
   "cell_type": "markdown",
   "metadata": {},
   "source": [
    "Sanity check"
   ]
  },
  {
   "cell_type": "code",
   "execution_count": 39,
   "metadata": {},
   "outputs": [
    {
     "data": {
      "text/plain": [
       "18421"
      ]
     },
     "execution_count": 39,
     "metadata": {},
     "output_type": "execute_result"
    }
   ],
   "source": [
    "(fpkm_sangar.sum()>0).sum()"
   ]
  },
  {
   "cell_type": "markdown",
   "metadata": {},
   "source": [
    "Finally, integrate gene expressions from Broad Institute and SANGAR into the cell lines"
   ]
  },
  {
   "cell_type": "code",
   "execution_count": 40,
   "metadata": {},
   "outputs": [],
   "source": [
    "cell_gene_fpkm = pd.concat([fpkm_broad,fpkm_sangar], sort=True) \n",
    "cell_gene_fpkm = cell_gene_fpkm.loc[:,(cell_gene_fpkm.std(skipna=True)!=0)] #drop genes with std=0\n",
    "cell_gene_fpkm.fillna(0, inplace=True)\n",
    "\n",
    "cell_gene_fpkm_norm = ((cell_gene_fpkm-cell_gene_fpkm.mean())/cell_gene_fpkm.std()) #z-score, gene-wise\n",
    "\n",
    "unique_genes_cell = cell_gene_fpkm_norm.columns.to_list()"
   ]
  },
  {
   "cell_type": "markdown",
   "metadata": {},
   "source": [
    "Check the unique genes across all cell lines"
   ]
  },
  {
   "cell_type": "code",
   "execution_count": 41,
   "metadata": {},
   "outputs": [
    {
     "data": {
      "text/plain": [
       "22586"
      ]
     },
     "execution_count": 41,
     "metadata": {},
     "output_type": "execute_result"
    }
   ],
   "source": [
    "len(unique_genes_cell)"
   ]
  },
  {
   "cell_type": "markdown",
   "metadata": {},
   "source": [
    "##### <a id='toc1_4_2_6_3_'></a>[Gene Integration](#toc0_)"
   ]
  },
  {
   "cell_type": "markdown",
   "metadata": {},
   "source": [
    "After getting the unique genes for the cell lines, we can map them to indices in our codes "
   ]
  },
  {
   "cell_type": "code",
   "execution_count": 42,
   "metadata": {},
   "outputs": [],
   "source": [
    "codes['gene'] = Mapping(set(unique_genes_cell).union(set(unique_genes_drug)))"
   ]
  },
  {
   "cell_type": "markdown",
   "metadata": {},
   "source": [
    "And again count the number of unique genes we have mapped"
   ]
  },
  {
   "cell_type": "code",
   "execution_count": 43,
   "metadata": {},
   "outputs": [
    {
     "data": {
      "text/plain": [
       "24342"
      ]
     },
     "execution_count": 43,
     "metadata": {},
     "output_type": "execute_result"
    }
   ],
   "source": [
    "len(codes['gene'].idx2item)"
   ]
  },
  {
   "cell_type": "markdown",
   "metadata": {},
   "source": [
    "Finally, we map the genes back to our drugs data and extract a subset of drug information to serve as our features for training the model"
   ]
  },
  {
   "cell_type": "code",
   "execution_count": 44,
   "metadata": {},
   "outputs": [],
   "source": [
    "drug['gene_id']=drug['gene'].apply(lambda genes: [codes['gene'].item2idx[gene] for gene in genes])\n",
    "drug_features = drug[['id', 'smiles', 'fps', 'gene_id']].groupby('id').first()"
   ]
  },
  {
   "cell_type": "markdown",
   "metadata": {},
   "source": [
    "Save the drug features"
   ]
  },
  {
   "cell_type": "code",
   "execution_count": 45,
   "metadata": {},
   "outputs": [],
   "source": [
    "drug_features.to_pickle(f'{DATA_PATH}/drug/processed/drug_features.p')"
   ]
  },
  {
   "cell_type": "markdown",
   "metadata": {},
   "source": [
    "We then merge the cell line's tissue and disease type with the gene"
   ]
  },
  {
   "cell_type": "code",
   "execution_count": 46,
   "metadata": {},
   "outputs": [],
   "source": [
    "cell_gene = cell_gene_fpkm_norm.apply(lambda row: {codes['gene'].item2idx[gene]:row[gene] for gene in cell_gene_fpkm_norm.columns}, axis=1).reset_index()\n",
    "cell_gene.rename(columns={0:'gene_id'}, inplace=True)\n",
    "cell_gene = cell_gene.groupby('cell_id').first()\n",
    "cell_line = pd.merge(cell_line_tissue, cell_gene, how='left', on='cell_id')\n",
    "cell_line['gene_id']=cell_line['gene_id'].apply(lambda x: {} if type(x) is float else x)"
   ]
  },
  {
   "cell_type": "markdown",
   "metadata": {},
   "source": [
    "And save the updated cell lines and our code map for later use"
   ]
  },
  {
   "cell_type": "code",
   "execution_count": 47,
   "metadata": {},
   "outputs": [],
   "source": [
    "cell_line.to_pickle(f'{DATA_PATH}/cell/processed/cell_features.p')\n",
    "pickle.dump(codes, open(f'{DATA_PATH}/summary/processed/codes.p', 'wb'))"
   ]
  },
  {
   "cell_type": "markdown",
   "metadata": {},
   "source": [
    "##### <a id='toc1_4_2_6_4_'></a>[Data Exploration](#toc0_)"
   ]
  },
  {
   "cell_type": "markdown",
   "metadata": {},
   "source": [
    "For data exploration and visualization purposes, we will add the cell line's tissue information into our summary table"
   ]
  },
  {
   "cell_type": "code",
   "execution_count": 48,
   "metadata": {},
   "outputs": [],
   "source": [
    "summary_mean['tissue'] = summary_mean['cell_line_name'].apply(lambda x: cell_line_tissue.loc[x, 'tissue_id'])"
   ]
  },
  {
   "cell_type": "markdown",
   "metadata": {},
   "source": [
    "Plot number of blocks per cell line"
   ]
  },
  {
   "cell_type": "code",
   "execution_count": 49,
   "metadata": {},
   "outputs": [
    {
     "data": {
      "text/plain": [
       "Text(0, 0.5, 'number of blocks')"
      ]
     },
     "execution_count": 49,
     "metadata": {},
     "output_type": "execute_result"
    },
    {
     "data": {
      "image/png": "[encoded data removed]",
      "text/plain": [
       "<Figure size 2000x600 with 1 Axes>"
      ]
     },
     "metadata": {},
     "output_type": "display_data"
    }
   ],
   "source": [
    "cell_line_exp = summary_mean.groupby('cell_line_name').count()['drug_row'].sort_values(ascending=False)\n",
    "\n",
    "plt.figure(figsize=(20,6))\n",
    "plt.bar([codes['cell'].idx2item[cell_id]\n",
    "         +'('+codes['tissue'].idx2item[cell_line_tissue.loc[cell_id, 'tissue_id']]\n",
    "         +')' for cell_id in cell_line_exp.index], cell_line_exp)\n",
    "plt.xticks(rotation=90)\n",
    "plt.xlabel('cell line')\n",
    "plt.ylabel('number of blocks')"
   ]
  },
  {
   "cell_type": "markdown",
   "metadata": {},
   "source": [
    "Plot number of blocks per tissue\n"
   ]
  },
  {
   "cell_type": "code",
   "execution_count": 50,
   "metadata": {},
   "outputs": [
    {
     "data": {
      "text/plain": [
       "Text(0, 0.5, 'number of drug combinations')"
      ]
     },
     "execution_count": 50,
     "metadata": {},
     "output_type": "execute_result"
    },
    {
     "data": {
      "image/png": "[encoded data removed]",
      "text/plain": [
       "<Figure size 640x480 with 1 Axes>"
      ]
     },
     "metadata": {},
     "output_type": "display_data"
    }
   ],
   "source": [
    "tissue_exp = summary_mean.groupby('tissue').count()['drug_row'].sort_values(ascending=False)\n",
    "\n",
    "plt.bar([codes['tissue'].idx2item[tissue_id] for tissue_id in tissue_exp.index], tissue_exp)\n",
    "plt.xticks(rotation=90)\n",
    "plt.xlabel('tissue')\n",
    "plt.ylabel('number of drug combinations')\n",
    "#plt.savefig(data_path+'tissue_num_comb.png', bbox_inches='tight', dpi=200)"
   ]
  },
  {
   "cell_type": "markdown",
   "metadata": {},
   "source": [
    "Plot number of blocks per study & tissue"
   ]
  },
  {
   "cell_type": "code",
   "execution_count": 51,
   "metadata": {},
   "outputs": [],
   "source": [
    "study_ids = ['', 'ONEIL','CLOUD','ALMANAC','FORCINA','NCATS_ATL','Mathews','NCATS_DIPG','NCATS_ES(FAKi/AURKi)','NCATS_ES(Nampt+PARP)','Wilson','NCATS_HL','Yohe','NCATS_2D_3D','Phelan','NCATS_MDR_CS','CCLE','CTRPv2','FIMM','gCSI','GDSC1','GRAY','UHNBreast','BEATAML'] #from study.csv\n",
    "num_blocks = summary_mean.groupby(['study_id', 'tissue'], as_index=False)['drug_row'].count().rename(columns={'drug_row':'num_blocks'})\n",
    "num_blocks['tissue'] = num_blocks['tissue'].apply(lambda x: codes['tissue'].idx2item[x])\n",
    "num_blocks['study_id'] = num_blocks['study_id'].apply(lambda x: study_ids[int(x)])\n",
    "\n",
    "# num_blocks_pivot=num_blocks.pivot(\"study_id\", \"tissue\", \"num_blocks\").fillna(0)\n",
    "num_blocks_pivot = num_blocks.pivot(index=\"study_id\", columns=\"tissue\", values=\"num_blocks\").fillna(0)\n",
    "num_blocks_pivot = num_blocks_pivot.loc[['ALMANAC', 'CLOUD', 'NCATS_HL', 'FORCINA','Mathews','Wilson','Yohe','NCATS_MDR_CS','Phelan','NCATS_ATL','NCATS_2D_3D',\n",
    "                      'NCATS_DIPG', 'NCATS_ES(FAKi/AURKi)',\n",
    "                      'NCATS_ES(Nampt+PARP)','ONEIL'],\n",
    "                     ['brain','breast','colon','endometrium','hem&lymp','kidney','lung','ovary',\n",
    "                      'bone','prostate']]"
   ]
  },
  {
   "cell_type": "code",
   "execution_count": 52,
   "metadata": {},
   "outputs": [
    {
     "data": {
      "image/png": "[encoded data removed]",
      "text/plain": [
       "<Figure size 640x480 with 2 Axes>"
      ]
     },
     "metadata": {},
     "output_type": "display_data"
    }
   ],
   "source": [
    "log_norm = LogNorm(vmin=num_blocks_pivot.min().min()+1, vmax=num_blocks_pivot.max().max())\n",
    "cbar_ticks = [math.pow(10, i) for i in range(math.floor(math.log10(num_blocks_pivot.min().min()+1)), 1+math.ceil(math.log10(num_blocks_pivot.max().max())))]\n",
    "\n",
    "cmap = sns.cubehelix_palette(light=1, as_cmap=True)\n",
    "\n",
    "ax = sns.heatmap(num_blocks_pivot.replace(0,1),\n",
    "           norm=log_norm,\n",
    "            cbar_kws={'ticks':cbar_ticks},\n",
    "            cmap=cmap)\n",
    "\n",
    "#fig=ax.get_figure()\n",
    "#fig.tight_layout()\n",
    "#fig.savefig(data_path+'study_heatmap.png', dpi=200)"
   ]
  },
  {
   "cell_type": "markdown",
   "metadata": {},
   "source": [
    "Counts number of unique drugs for each tissue"
   ]
  },
  {
   "cell_type": "code",
   "execution_count": 53,
   "metadata": {},
   "outputs": [],
   "source": [
    "tissue_drugs = pd.merge(summary_mean.groupby('tissue')['drug_row'].apply(set).reset_index(name='drug_row'),\n",
    "         summary_mean.groupby('tissue')['drug_col'].apply(set).reset_index(name='drug_row'),\n",
    "         on='tissue')\n",
    "tissue_drugs['drugs']=tissue_drugs.apply(lambda row: row[1].union(row[2]), axis=1)\n",
    "tissue_drugs.drop(['drug_row_x','drug_row_y'], axis=1, inplace=True)"
   ]
  },
  {
   "cell_type": "code",
   "execution_count": 54,
   "metadata": {},
   "outputs": [],
   "source": [
    "tissue_drugs['num_drugs']=tissue_drugs['drugs'].apply(lambda x: len(x))\n",
    "tissue_drugs.sort_values('num_drugs', ascending=False, inplace=True)"
   ]
  },
  {
   "cell_type": "code",
   "execution_count": 55,
   "metadata": {},
   "outputs": [
    {
     "data": {
      "text/plain": [
       "Text(0, 0.5, 'number of unique drugs')"
      ]
     },
     "execution_count": 55,
     "metadata": {},
     "output_type": "execute_result"
    },
    {
     "data": {
      "image/png": "[encoded data removed]",
      "text/plain": [
       "<Figure size 640x480 with 1 Axes>"
      ]
     },
     "metadata": {},
     "output_type": "display_data"
    }
   ],
   "source": [
    "plt.bar([codes['tissue'].idx2item[tissue_id] for tissue_id in tissue_drugs['tissue']], tissue_drugs['num_drugs'])\n",
    "plt.xticks(rotation=90)\n",
    "plt.xlabel('tissue')\n",
    "plt.ylabel('number of unique drugs')\n",
    "#plt.savefig(data_path+'tissue_num_drugs.png', bbox_inches='tight', dpi=200)"
   ]
  },
  {
   "cell_type": "markdown",
   "metadata": {},
   "source": [
    "Count number of shared drugs between tissues"
   ]
  },
  {
   "cell_type": "code",
   "execution_count": 56,
   "metadata": {},
   "outputs": [
    {
     "data": {
      "text/plain": [
       "[None,\n",
       " None,\n",
       " None,\n",
       " None,\n",
       " None,\n",
       " None,\n",
       " None,\n",
       " None,\n",
       " None,\n",
       " None,\n",
       " None,\n",
       " None,\n",
       " None,\n",
       " None,\n",
       " None,\n",
       " None,\n",
       " None,\n",
       " None,\n",
       " None,\n",
       " None,\n",
       " None,\n",
       " None,\n",
       " None,\n",
       " None,\n",
       " None,\n",
       " None]"
      ]
     },
     "execution_count": 56,
     "metadata": {},
     "output_type": "execute_result"
    },
    {
     "data": {
      "image/png": "[encoded data removed]",
      "text/plain": [
       "<Figure size 640x480 with 2 Axes>"
      ]
     },
     "metadata": {},
     "output_type": "display_data"
    }
   ],
   "source": [
    "num_intersects=np.zeros((len(tissue_drugs),len(tissue_drugs)))\n",
    "for i, tissue_id in enumerate(tissue_drugs['tissue']):    \n",
    "    num_intersects[i,:]=tissue_drugs['drugs'].apply(lambda x: len(x.intersection(tissue_drugs.loc[tissue_id, 'drugs']))).values\n",
    "\n",
    "\n",
    "fig,ax=plt.subplots()\n",
    "im=ax.imshow(num_intersects)\n",
    "ax.tick_params(top=True, bottom=False, labeltop=True, labelbottom=False)\n",
    "ax.set_xticks(np.arange(len(tissue_drugs)))\n",
    "ax.set_yticks(np.arange(len(tissue_drugs)))\n",
    "ax.set_xticklabels([codes['tissue'].idx2item[tissue_id] for tissue_id in tissue_drugs['tissue']])\n",
    "ax.set_yticklabels([codes['tissue'].idx2item[tissue_id] for tissue_id in tissue_drugs['tissue']])\n",
    "\n",
    "fig.colorbar(im, ax=ax)\n",
    "\n",
    "plt.setp(ax.get_xticklabels(), rotation=90)\n",
    "#fig.tight_layout()\n",
    "#plt.savefig(data_path+'heatmap.png', bb_inches='tight', dpi=200)"
   ]
  },
  {
   "cell_type": "markdown",
   "metadata": {},
   "source": [
    "At this point, we have successfully preprocessed all of the data required to train the model. In the next section, we will load this data back in, define the model architecture, and begin training"
   ]
  },
  {
   "cell_type": "markdown",
   "metadata": {},
   "source": [
    "### <a id='toc1_4_3_'></a>[Model](#toc0_)"
   ]
  },
  {
   "cell_type": "markdown",
   "metadata": {},
   "source": [
    "#### <a id='toc1_4_3_1_'></a>[Architecture](#toc0_)\n",
    "\n",
    "The model architecture is designed to integrate multi-modal data inputs and predict two main outputs: monotherapy sensitivity and combination drug synergy. This architecture comprises several components:\n",
    "\n",
    "##### <a id='toc1_4_3_1_1_'></a>[Drug Encoder](#toc0_)\n",
    "\n",
    "This component processes the features of each drug, which include drug ID, MACCS fingerprints, canonical SMILES (a text notation for describing the structure of chemical species), and target genes. These features are transformed into embeddings, which are compact vector representations that capture the essence of the input features. SMILES sequences, which vary in length, are handled by a Transformer encoder—a type of model that is highly effective in managing sequence data in natural language processing.\n",
    "\n",
    "<div align=\"center\">\n",
    "    <img src=\"public/assets/drug_encoder_figure.png\" width=\"300\">\n",
    "    <p><b>Figure 1:</b> Drug Encoder Diagram from <a href=\"https://doi.org/10.1101/2020.02.05.932657\">Kim et al. (2020)</a></p>\n",
    "</div>\n",
    "\n",
    "##### <a id='toc1_4_3_1_2_'></a>[Cell Line Encoder](#toc0_)\n",
    "\n",
    "Similar to the drug encoder, this component processes features related to cell lines, such as cell line ID, tissue type, cancer type, and gene expression profiles. These features are also converted into embeddings to facilitate further analysis.\n",
    "\n",
    "<div align=\"center\">\n",
    "    <img src=\"public/assets/cell_line_encoder_figure.png\" width=\"300\">\n",
    "    <p><b>Figure 2:</b> Cell Line Encoder Diagram from <a href=\"https://doi.org/10.1101/2020.02.05.932657\">Kim et al. (2020)</a></p>\n",
    "</div>\n",
    "\n",
    "##### <a id='toc1_4_3_1_3_'></a>[Merging Layers](#toc0_)\n",
    "\n",
    " The embeddings from the drug encoder and the cell line encoder are combined and fed into a neural network to predict the drug response. This part of the network uses feed-forward layers with ReLU activation functions to process the combined embeddings for final output predictions.\n",
    "\n",
    " <div align=\"center\">\n",
    "    <img src=\"public/assets/encoding_scheme_figure.png\" width=\"500\">\n",
    "    <p><b>Figure 3:</b> Merging Drug and Cell Lines Encoders Diagram from <a href=\"https://doi.org/10.1101/2020.02.05.932657\">Kim et al. (2020)</a></p>\n",
    "</div>"
   ]
  },
  {
   "cell_type": "markdown",
   "metadata": {},
   "source": [
    "#### <a id='toc1_4_3_2_'></a>[Configuration](#toc0_)"
   ]
  },
  {
   "cell_type": "markdown",
   "metadata": {},
   "source": [
    "Import modules"
   ]
  },
  {
   "cell_type": "code",
   "execution_count": 57,
   "metadata": {},
   "outputs": [],
   "source": [
    "import os\n",
    "import torch\n",
    "import numpy as np\n",
    "import pandas as pd\n",
    "import pdb\n",
    "import time\n",
    "import pickle\n",
    "import logging\n",
    "import matplotlib.pyplot as plt\n",
    "from utilities import Mapping\n",
    "\n",
    "\n",
    "import torch.nn as nn\n",
    "from torch.autograd import Variable\n",
    "import torch.optim as optim\n",
    "import torch.nn.functional as F\n",
    "from torch.utils.data import Dataset, DataLoader\n",
    "\n",
    "from sklearn.linear_model import LogisticRegression\n",
    "from sklearn.model_selection import train_test_split\n",
    "from sklearn import metrics "
   ]
  },
  {
   "cell_type": "markdown",
   "metadata": {},
   "source": [
    "Set parameters"
   ]
  },
  {
   "cell_type": "code",
   "execution_count": 58,
   "metadata": {},
   "outputs": [],
   "source": [
    "DATA_PATH='synergy_transfer_data'\n",
    "\n",
    "bsz=128\n",
    "cuda=True\n",
    "device=0\n",
    "torch.cuda.set_device(device)\n",
    "\n",
    "num_gene_compressed_drug=64\n",
    "num_gene_compressed_cell=128\n",
    "\n",
    "#isClassification=True #False for regression task\n",
    "syn_threshold=30\n",
    "ri_threshold=50\n",
    "\n",
    "log_interval=100\n",
    "epochs=10"
   ]
  },
  {
   "cell_type": "markdown",
   "metadata": {},
   "source": [
    "Load the summary and codes"
   ]
  },
  {
   "cell_type": "code",
   "execution_count": 59,
   "metadata": {},
   "outputs": [],
   "source": [
    "df=pickle.load(open(f'{DATA_PATH}/summary/processed/summary_mean.p', 'rb'))\n",
    "codes=pickle.load(open(f'{DATA_PATH}/summary/processed/codes.p', 'rb'))"
   ]
  },
  {
   "cell_type": "code",
   "execution_count": 60,
   "metadata": {},
   "outputs": [
    {
     "data": {
      "text/html": [
       "<div>\n",
       "<style scoped>\n",
       "    .dataframe tbody tr th:only-of-type {\n",
       "        vertical-align: middle;\n",
       "    }\n",
       "\n",
       "    .dataframe tbody tr th {\n",
       "        vertical-align: top;\n",
       "    }\n",
       "\n",
       "    .dataframe thead th {\n",
       "        text-align: right;\n",
       "    }\n",
       "</style>\n",
       "<table border=\"1\" class=\"dataframe\">\n",
       "  <thead>\n",
       "    <tr style=\"text-align: right;\">\n",
       "      <th></th>\n",
       "      <th>drug_row</th>\n",
       "      <th>drug_col</th>\n",
       "      <th>cell_line_name</th>\n",
       "      <th>study_id</th>\n",
       "      <th>ri_row</th>\n",
       "      <th>ri_col</th>\n",
       "      <th>synergy_loewe</th>\n",
       "    </tr>\n",
       "  </thead>\n",
       "  <tbody>\n",
       "    <tr>\n",
       "      <th>0</th>\n",
       "      <td>3528</td>\n",
       "      <td>3467</td>\n",
       "      <td>0</td>\n",
       "      <td>4.0</td>\n",
       "      <td>-21.0794</td>\n",
       "      <td>17.392589</td>\n",
       "      <td>4.436431</td>\n",
       "    </tr>\n",
       "    <tr>\n",
       "      <th>1</th>\n",
       "      <td>702</td>\n",
       "      <td>2554</td>\n",
       "      <td>1</td>\n",
       "      <td>6.0</td>\n",
       "      <td>-20.0430</td>\n",
       "      <td>25.595000</td>\n",
       "      <td>-44.555935</td>\n",
       "    </tr>\n",
       "    <tr>\n",
       "      <th>2</th>\n",
       "      <td>702</td>\n",
       "      <td>2003</td>\n",
       "      <td>1</td>\n",
       "      <td>6.0</td>\n",
       "      <td>-9.7760</td>\n",
       "      <td>29.111000</td>\n",
       "      <td>-37.189720</td>\n",
       "    </tr>\n",
       "    <tr>\n",
       "      <th>3</th>\n",
       "      <td>2554</td>\n",
       "      <td>2554</td>\n",
       "      <td>2</td>\n",
       "      <td>12.0</td>\n",
       "      <td>6.7970</td>\n",
       "      <td>6.964000</td>\n",
       "      <td>1.283298</td>\n",
       "    </tr>\n",
       "    <tr>\n",
       "      <th>4</th>\n",
       "      <td>2554</td>\n",
       "      <td>2554</td>\n",
       "      <td>3</td>\n",
       "      <td>12.0</td>\n",
       "      <td>11.5280</td>\n",
       "      <td>7.190000</td>\n",
       "      <td>-3.028745</td>\n",
       "    </tr>\n",
       "  </tbody>\n",
       "</table>\n",
       "</div>"
      ],
      "text/plain": [
       "   drug_row  drug_col  cell_line_name  study_id   ri_row     ri_col  \\\n",
       "0      3528      3467               0       4.0 -21.0794  17.392589   \n",
       "1       702      2554               1       6.0 -20.0430  25.595000   \n",
       "2       702      2003               1       6.0  -9.7760  29.111000   \n",
       "3      2554      2554               2      12.0   6.7970   6.964000   \n",
       "4      2554      2554               3      12.0  11.5280   7.190000   \n",
       "\n",
       "   synergy_loewe  \n",
       "0       4.436431  \n",
       "1     -44.555935  \n",
       "2     -37.189720  \n",
       "3       1.283298  \n",
       "4      -3.028745  "
      ]
     },
     "execution_count": 60,
     "metadata": {},
     "output_type": "execute_result"
    }
   ],
   "source": [
    "df.head()"
   ]
  },
  {
   "cell_type": "markdown",
   "metadata": {},
   "source": [
    "Load drug external features"
   ]
  },
  {
   "cell_type": "code",
   "execution_count": 61,
   "metadata": {},
   "outputs": [],
   "source": [
    "drug_features=pickle.load(open(f'{DATA_PATH}/drug/processed/drug_features.p', 'rb'))"
   ]
  },
  {
   "cell_type": "markdown",
   "metadata": {},
   "source": [
    "Load cell external features"
   ]
  },
  {
   "cell_type": "code",
   "execution_count": 62,
   "metadata": {},
   "outputs": [],
   "source": [
    "cell_features=pickle.load(open(f'{DATA_PATH}/cell/processed/cell_features.p', 'rb'))"
   ]
  },
  {
   "cell_type": "markdown",
   "metadata": {},
   "source": [
    "Set parameters based on size of data"
   ]
  },
  {
   "cell_type": "code",
   "execution_count": 63,
   "metadata": {},
   "outputs": [],
   "source": [
    "num_celllines= len(codes['cell'].idx2item)\n",
    "num_drugs=len(codes['drugs'].idx2item)\n",
    "\n",
    "num_genes = len(codes['gene'].idx2item)\n",
    "num_tissue = len(codes['tissue'].idx2item)\n",
    "num_disease = len(codes['disease'].idx2item)\n",
    "\n",
    "num_drug_fp=len(drug_features.loc[0,'fps'])\n",
    "max_drug_sm_len = drug_features['smiles'].apply(lambda x: len(x)).max()"
   ]
  },
  {
   "cell_type": "markdown",
   "metadata": {},
   "source": [
    "#### <a id='toc1_4_3_3_'></a>[Gene Compression](#toc0_)"
   ]
  },
  {
   "cell_type": "markdown",
   "metadata": {},
   "source": [
    "##### <a id='toc1_4_3_3_1_'></a>[Dataset and Dataloader](#toc0_)"
   ]
  },
  {
   "cell_type": "code",
   "execution_count": 64,
   "metadata": {},
   "outputs": [],
   "source": [
    "class DrugTargetDataset(Dataset):\n",
    "    def __init__(self, drug_features):\n",
    "        self.drug_features = drug_features\n",
    "    def __len__(self):\n",
    "        return len(self.drug_features)\n",
    "    def __getitem__(self,idx):\n",
    "        gene_ids=self.drug_features.loc[idx, 'gene_id']\n",
    "        genes=np.zeros(num_genes)\n",
    "        genes[gene_ids]=1\n",
    "        \n",
    "        return genes\n",
    "    \n",
    "class CellGeneDataset(Dataset):\n",
    "    def __init__(self, cell_features):\n",
    "        self.cell_features = cell_features\n",
    "    def __len__(self):\n",
    "        return len(self.cell_features)\n",
    "    def __getitem__(self,idx):\n",
    "        gene_ids=self.cell_features.loc[idx,'gene_id']\n",
    "        genes = np.zeros(num_genes)\n",
    "        for key,value in gene_ids.items():\n",
    "            genes[key]=value\n",
    "            \n",
    "        return genes\n",
    "            "
   ]
  },
  {
   "cell_type": "code",
   "execution_count": 65,
   "metadata": {},
   "outputs": [],
   "source": [
    "#Two layers of fully connected layers\n",
    "class FC2(nn.Module):\n",
    "    def __init__(self, in_features, out_features, dropout):\n",
    "        super(FC2, self).__init__()\n",
    "        \n",
    "        self.bn = nn.BatchNorm1d(in_features)\n",
    "        self.fc1 = nn.Linear(in_features, int(in_features/2))\n",
    "        self.fc2 = nn.Linear(int(in_features/2),out_features)\n",
    "        self.dropout= nn.Dropout(dropout)\n",
    "                \n",
    "    def forward(self, x):\n",
    "        x = self.bn(x)\n",
    "        x = self.dropout(x)\n",
    "        x = self.dropout(F.relu(self.fc1(x)))\n",
    "        x = self.fc2(x)\n",
    "        \n",
    "        return x\n"
   ]
  },
  {
   "cell_type": "markdown",
   "metadata": {},
   "source": [
    "##### <a id='toc1_4_3_3_2_'></a>[Compress gene features](#toc0_)"
   ]
  },
  {
   "cell_type": "code",
   "execution_count": 66,
   "metadata": {},
   "outputs": [],
   "source": [
    "class GeneCompressor(nn.Module):\n",
    "    def __init__(self, num_in, num_out, dropout=0.1):\n",
    "        super(GeneCompressor, self).__init__()\n",
    "        self.dropout=dropout\n",
    "        self.encoder=nn.Linear(num_in, num_out)\n",
    "        self.decoder=nn.Linear(num_out,num_in)\n",
    "\n",
    "    def _encoder(self,x):\n",
    "        return F.dropout(F.relu(self.encoder(x)), self.dropout, training=self.training)\n",
    "    \n",
    "    def _decoder(self,x):\n",
    "        return F.dropout(self.decoder(x), self.dropout, training=self.training)\n",
    "    \n",
    "    def forward(self, x):\n",
    "        x=self._encoder(x)\n",
    "        x=self._decoder(x)\n",
    "        return x"
   ]
  },
  {
   "cell_type": "code",
   "execution_count": 67,
   "metadata": {},
   "outputs": [],
   "source": [
    "def geneCompressing(data_loader,num_gene_compressed, noise_weight=0.2, epochs=20, log_interval=10 ):\n",
    "    #model\n",
    "    geneCompressor=GeneCompressor(num_genes, num_out=num_gene_compressed, dropout=0.1)\n",
    "    if cuda: \n",
    "        geneCompressor=geneCompressor.cuda()\n",
    "    criterion=nn.MSELoss()\n",
    "    optimizer=optim.Adam(geneCompressor.parameters())\n",
    "\n",
    "    for epoch in range(1,epochs+1):\n",
    "        #train\n",
    "        geneCompressor.train()\n",
    "        total_loss=0\n",
    "        start_time=time.time()\n",
    "        for iteration, gene in enumerate(data_loader):\n",
    "            gene=Variable(gene).float()\n",
    "            noise=noise_weight*torch.randn(gene.shape)\n",
    "\n",
    "            if cuda:\n",
    "                gene=gene.cuda()\n",
    "                noise=noise.cuda()\n",
    "            optimizer.zero_grad()\n",
    "            output=geneCompressor(gene+noise)\n",
    "            loss=criterion(output,gene)\n",
    "            loss.backward()\n",
    "            optimizer.step()\n",
    "            total_loss += loss.data\n",
    "            if iteration % log_interval == 0 and iteration > 0:\n",
    "                cur_loss = total_loss.item() / log_interval\n",
    "                elapsed = time.time() - start_time\n",
    "                print('| epoch {:3d} | {:5d}/{:5d} batches | ms/batch {:5.2f} | loss {:8.5f}'.format(epoch, iteration, int(len(data_loader)/bsz), elapsed * 1000/log_interval, cur_loss))\n",
    "                total_loss = 0\n",
    "                start_time = time.time()\n",
    "#         #test\n",
    "#         geneCompressor.eval()\n",
    "#         total_loss=0\n",
    "#         start_time=time.time()\n",
    "#         with torch.no_grad():\n",
    "#             for iteration, gene in enumerate(test_data_loader):\n",
    "#                 gene=Variable(gene).float()\n",
    "#                 if cuda:\n",
    "#                     gene=gene.cuda(device)\n",
    "#                 output=geneCompressor(gene)\n",
    "#                 loss=criterion(output,gene)\n",
    "#                 total_loss += loss.data\n",
    "#             print(total_loss.item()/iteration)\n",
    "    return geneCompressor\n"
   ]
  },
  {
   "cell_type": "code",
   "execution_count": 68,
   "metadata": {},
   "outputs": [
    {
     "name": "stdout",
     "output_type": "stream",
     "text": [
      "| epoch   1 |    10/    0 batches | ms/batch 31.56 | loss  0.00790\n",
      "| epoch   1 |    20/    0 batches | ms/batch 14.72 | loss  0.00530\n",
      "| epoch   1 |    30/    0 batches | ms/batch 15.43 | loss  0.00506\n",
      "| epoch   1 |    40/    0 batches | ms/batch 15.96 | loss  0.00512\n",
      "| epoch   1 |    50/    0 batches | ms/batch 15.98 | loss  0.00444\n",
      "| epoch   1 |    60/    0 batches | ms/batch 15.23 | loss  0.00451\n",
      "| epoch   2 |    10/    0 batches | ms/batch 16.78 | loss  0.00410\n",
      "| epoch   2 |    20/    0 batches | ms/batch 14.97 | loss  0.00347\n",
      "| epoch   2 |    30/    0 batches | ms/batch 14.86 | loss  0.00289\n",
      "| epoch   2 |    40/    0 batches | ms/batch 16.68 | loss  0.00247\n",
      "| epoch   2 |    50/    0 batches | ms/batch 15.74 | loss  0.00204\n",
      "| epoch   2 |    60/    0 batches | ms/batch 16.15 | loss  0.00181\n",
      "| epoch   3 |    10/    0 batches | ms/batch 18.75 | loss  0.00154\n",
      "| epoch   3 |    20/    0 batches | ms/batch 15.98 | loss  0.00117\n",
      "| epoch   3 |    30/    0 batches | ms/batch 16.10 | loss  0.00101\n",
      "| epoch   3 |    40/    0 batches | ms/batch 15.76 | loss  0.00087\n",
      "| epoch   3 |    50/    0 batches | ms/batch 16.22 | loss  0.00071\n",
      "| epoch   3 |    60/    0 batches | ms/batch 15.93 | loss  0.00063\n",
      "| epoch   4 |    10/    0 batches | ms/batch 17.64 | loss  0.00058\n",
      "| epoch   4 |    20/    0 batches | ms/batch 15.90 | loss  0.00045\n",
      "| epoch   4 |    30/    0 batches | ms/batch 16.27 | loss  0.00042\n",
      "| epoch   4 |    40/    0 batches | ms/batch 16.35 | loss  0.00036\n",
      "| epoch   4 |    50/    0 batches | ms/batch 15.90 | loss  0.00036\n",
      "| epoch   4 |    60/    0 batches | ms/batch 16.49 | loss  0.00029\n",
      "| epoch   5 |    10/    0 batches | ms/batch 17.33 | loss  0.00028\n",
      "| epoch   5 |    20/    0 batches | ms/batch 15.39 | loss  0.00024\n",
      "| epoch   5 |    30/    0 batches | ms/batch 16.12 | loss  0.00021\n",
      "| epoch   5 |    40/    0 batches | ms/batch 16.90 | loss  0.00020\n",
      "| epoch   5 |    50/    0 batches | ms/batch 14.91 | loss  0.00024\n",
      "| epoch   5 |    60/    0 batches | ms/batch 15.80 | loss  0.00018\n",
      "| epoch   6 |    10/    0 batches | ms/batch 16.84 | loss  0.00018\n",
      "| epoch   6 |    20/    0 batches | ms/batch 15.13 | loss  0.00017\n",
      "| epoch   6 |    30/    0 batches | ms/batch 16.14 | loss  0.00020\n",
      "| epoch   6 |    40/    0 batches | ms/batch 15.78 | loss  0.00015\n",
      "| epoch   6 |    50/    0 batches | ms/batch 15.27 | loss  0.00014\n",
      "| epoch   6 |    60/    0 batches | ms/batch 16.05 | loss  0.00014\n",
      "| epoch   7 |    10/    0 batches | ms/batch 16.60 | loss  0.00015\n",
      "| epoch   7 |    20/    0 batches | ms/batch 15.73 | loss  0.00019\n",
      "| epoch   7 |    30/    0 batches | ms/batch 16.48 | loss  0.00012\n",
      "| epoch   7 |    40/    0 batches | ms/batch 16.28 | loss  0.00012\n",
      "| epoch   7 |    50/    0 batches | ms/batch 16.54 | loss  0.00012\n",
      "| epoch   7 |    60/    0 batches | ms/batch 17.42 | loss  0.00013\n",
      "| epoch   8 |    10/    0 batches | ms/batch 17.72 | loss  0.00014\n",
      "| epoch   8 |    20/    0 batches | ms/batch 15.27 | loss  0.00013\n",
      "| epoch   8 |    30/    0 batches | ms/batch 15.66 | loss  0.00013\n",
      "| epoch   8 |    40/    0 batches | ms/batch 15.55 | loss  0.00016\n",
      "| epoch   8 |    50/    0 batches | ms/batch 15.19 | loss  0.00009\n",
      "| epoch   8 |    60/    0 batches | ms/batch 15.02 | loss  0.00011\n",
      "| epoch   9 |    10/    0 batches | ms/batch 16.58 | loss  0.00011\n",
      "| epoch   9 |    20/    0 batches | ms/batch 15.60 | loss  0.00012\n",
      "| epoch   9 |    30/    0 batches | ms/batch 15.75 | loss  0.00017\n",
      "| epoch   9 |    40/    0 batches | ms/batch 15.27 | loss  0.00012\n",
      "| epoch   9 |    50/    0 batches | ms/batch 15.52 | loss  0.00011\n",
      "| epoch   9 |    60/    0 batches | ms/batch 15.47 | loss  0.00011\n",
      "| epoch  10 |    10/    0 batches | ms/batch 18.16 | loss  0.00014\n",
      "| epoch  10 |    20/    0 batches | ms/batch 15.32 | loss  0.00009\n",
      "| epoch  10 |    30/    0 batches | ms/batch 16.52 | loss  0.00011\n",
      "| epoch  10 |    40/    0 batches | ms/batch 16.47 | loss  0.00012\n",
      "| epoch  10 |    50/    0 batches | ms/batch 15.38 | loss  0.00011\n",
      "| epoch  10 |    60/    0 batches | ms/batch 15.63 | loss  0.00017\n",
      "| epoch  11 |    10/    0 batches | ms/batch 17.88 | loss  0.00013\n",
      "| epoch  11 |    20/    0 batches | ms/batch 14.94 | loss  0.00011\n",
      "| epoch  11 |    30/    0 batches | ms/batch 15.12 | loss  0.00012\n",
      "| epoch  11 |    40/    0 batches | ms/batch 16.26 | loss  0.00016\n",
      "| epoch  11 |    50/    0 batches | ms/batch 14.60 | loss  0.00010\n",
      "| epoch  11 |    60/    0 batches | ms/batch 15.19 | loss  0.00011\n",
      "| epoch  12 |    10/    0 batches | ms/batch 18.22 | loss  0.00011\n",
      "| epoch  12 |    20/    0 batches | ms/batch 15.23 | loss  0.00011\n",
      "| epoch  12 |    30/    0 batches | ms/batch 15.36 | loss  0.00017\n",
      "| epoch  12 |    40/    0 batches | ms/batch 14.83 | loss  0.00009\n",
      "| epoch  12 |    50/    0 batches | ms/batch 15.22 | loss  0.00012\n",
      "| epoch  12 |    60/    0 batches | ms/batch 15.05 | loss  0.00013\n",
      "| epoch  13 |    10/    0 batches | ms/batch 18.09 | loss  0.00011\n",
      "| epoch  13 |    20/    0 batches | ms/batch 15.10 | loss  0.00012\n",
      "| epoch  13 |    30/    0 batches | ms/batch 15.57 | loss  0.00011\n",
      "| epoch  13 |    40/    0 batches | ms/batch 18.18 | loss  0.00018\n",
      "| epoch  13 |    50/    0 batches | ms/batch 15.88 | loss  0.00011\n",
      "| epoch  13 |    60/    0 batches | ms/batch 15.80 | loss  0.00011\n",
      "| epoch  14 |    10/    0 batches | ms/batch 17.59 | loss  0.00012\n",
      "| epoch  14 |    20/    0 batches | ms/batch 15.61 | loss  0.00012\n",
      "| epoch  14 |    30/    0 batches | ms/batch 15.46 | loss  0.00011\n",
      "| epoch  14 |    40/    0 batches | ms/batch 14.86 | loss  0.00015\n",
      "| epoch  14 |    50/    0 batches | ms/batch 15.14 | loss  0.00013\n",
      "| epoch  14 |    60/    0 batches | ms/batch 15.19 | loss  0.00011\n",
      "| epoch  15 |    10/    0 batches | ms/batch 18.51 | loss  0.00014\n",
      "| epoch  15 |    20/    0 batches | ms/batch 16.24 | loss  0.00011\n",
      "| epoch  15 |    30/    0 batches | ms/batch 17.31 | loss  0.00011\n",
      "| epoch  15 |    40/    0 batches | ms/batch 16.73 | loss  0.00015\n",
      "| epoch  15 |    50/    0 batches | ms/batch 16.47 | loss  0.00012\n",
      "| epoch  15 |    60/    0 batches | ms/batch 16.19 | loss  0.00011\n",
      "| epoch  16 |    10/    0 batches | ms/batch 16.62 | loss  0.00012\n",
      "| epoch  16 |    20/    0 batches | ms/batch 14.99 | loss  0.00012\n",
      "| epoch  16 |    30/    0 batches | ms/batch 14.91 | loss  0.00010\n",
      "| epoch  16 |    40/    0 batches | ms/batch 15.10 | loss  0.00012\n",
      "| epoch  16 |    50/    0 batches | ms/batch 14.93 | loss  0.00011\n",
      "| epoch  16 |    60/    0 batches | ms/batch 15.08 | loss  0.00011\n",
      "| epoch  17 |    10/    0 batches | ms/batch 17.74 | loss  0.00011\n",
      "| epoch  17 |    20/    0 batches | ms/batch 15.04 | loss  0.00012\n",
      "| epoch  17 |    30/    0 batches | ms/batch 15.40 | loss  0.00011\n",
      "| epoch  17 |    40/    0 batches | ms/batch 15.32 | loss  0.00012\n",
      "| epoch  17 |    50/    0 batches | ms/batch 15.06 | loss  0.00012\n",
      "| epoch  17 |    60/    0 batches | ms/batch 15.07 | loss  0.00015\n",
      "| epoch  18 |    10/    0 batches | ms/batch 16.52 | loss  0.00011\n",
      "| epoch  18 |    20/    0 batches | ms/batch 15.14 | loss  0.00012\n",
      "| epoch  18 |    30/    0 batches | ms/batch 18.08 | loss  0.00010\n",
      "| epoch  18 |    40/    0 batches | ms/batch 15.96 | loss  0.00016\n",
      "| epoch  18 |    50/    0 batches | ms/batch 15.50 | loss  0.00011\n",
      "| epoch  18 |    60/    0 batches | ms/batch 15.80 | loss  0.00012\n",
      "| epoch  19 |    10/    0 batches | ms/batch 18.27 | loss  0.00013\n",
      "| epoch  19 |    20/    0 batches | ms/batch 16.33 | loss  0.00012\n",
      "| epoch  19 |    30/    0 batches | ms/batch 16.99 | loss  0.00015\n",
      "| epoch  19 |    40/    0 batches | ms/batch 16.18 | loss  0.00012\n",
      "| epoch  19 |    50/    0 batches | ms/batch 15.46 | loss  0.00010\n",
      "| epoch  19 |    60/    0 batches | ms/batch 16.69 | loss  0.00011\n",
      "| epoch  20 |    10/    0 batches | ms/batch 18.88 | loss  0.00018\n",
      "| epoch  20 |    20/    0 batches | ms/batch 15.76 | loss  0.00011\n",
      "| epoch  20 |    30/    0 batches | ms/batch 17.45 | loss  0.00012\n",
      "| epoch  20 |    40/    0 batches | ms/batch 15.94 | loss  0.00011\n",
      "| epoch  20 |    50/    0 batches | ms/batch 15.65 | loss  0.00010\n",
      "| epoch  20 |    60/    0 batches | ms/batch 15.12 | loss  0.00010\n"
     ]
    }
   ],
   "source": [
    "#drug's target gene data\n",
    "drugGeneDataset=DrugTargetDataset(drug_features)\n",
    "drugGeneDataset_loader = DataLoader(drugGeneDataset, batch_size=64, shuffle=True)\n",
    "#learn\n",
    "drugGeneCompressor=geneCompressing(drugGeneDataset_loader, num_gene_compressed_drug)\n",
    "#save\n",
    "drugGeneCompressor.eval()\n",
    "drugGeneCompressed=np.array([drugGeneCompressor.cpu()._encoder(torch.FloatTensor(drugGeneDataset[d])).data.numpy() for d in range(num_drugs)])\n",
    "torch.save(drugGeneCompressor.state_dict(), f'{DATA_PATH}/models/drugGeneCompressor.p')\n",
    "pickle.dump(drugGeneCompressed, open(f'{DATA_PATH}/models/drugGeneCompressed.p', 'wb'))"
   ]
  },
  {
   "cell_type": "code",
   "execution_count": 69,
   "metadata": {},
   "outputs": [],
   "source": [
    "drugGeneCompressed=pickle.load(open(f'{DATA_PATH}/models/drugGeneCompressed.p', 'rb'))\n",
    "drugGeneCompressed=torch.FloatTensor(drugGeneCompressed)"
   ]
  },
  {
   "cell_type": "code",
   "execution_count": 70,
   "metadata": {},
   "outputs": [
    {
     "name": "stdout",
     "output_type": "stream",
     "text": [
      "| epoch   1 |     1/    0 batches | ms/batch 155.43 | loss  2.29992\n",
      "| epoch   2 |     1/    0 batches | ms/batch 152.85 | loss  3.31703\n",
      "| epoch   3 |     1/    0 batches | ms/batch 153.76 | loss  2.99331\n",
      "| epoch   4 |     1/    0 batches | ms/batch 161.74 | loss  2.58272\n",
      "| epoch   5 |     1/    0 batches | ms/batch 155.35 | loss  2.24655\n",
      "| epoch   6 |     1/    0 batches | ms/batch 155.01 | loss  2.06670\n",
      "| epoch   7 |     1/    0 batches | ms/batch 154.29 | loss  2.00173\n",
      "| epoch   8 |     1/    0 batches | ms/batch 152.88 | loss  1.86386\n",
      "| epoch   9 |     1/    0 batches | ms/batch 153.28 | loss  1.79390\n",
      "| epoch  10 |     1/    0 batches | ms/batch 154.21 | loss  1.67008\n",
      "| epoch  11 |     1/    0 batches | ms/batch 155.46 | loss  1.64380\n",
      "| epoch  12 |     1/    0 batches | ms/batch 154.56 | loss  1.58257\n",
      "| epoch  13 |     1/    0 batches | ms/batch 153.29 | loss  1.62956\n",
      "| epoch  14 |     1/    0 batches | ms/batch 151.98 | loss  1.54405\n",
      "| epoch  15 |     1/    0 batches | ms/batch 153.49 | loss  1.54732\n",
      "| epoch  16 |     1/    0 batches | ms/batch 152.70 | loss  1.48662\n",
      "| epoch  17 |     1/    0 batches | ms/batch 155.41 | loss  1.47165\n",
      "| epoch  18 |     1/    0 batches | ms/batch 153.39 | loss  1.50418\n",
      "| epoch  19 |     1/    0 batches | ms/batch 152.45 | loss  1.48205\n",
      "| epoch  20 |     1/    0 batches | ms/batch 152.89 | loss  1.50635\n"
     ]
    }
   ],
   "source": [
    "\n",
    "#cell line's gene expression data\n",
    "cellGeneDataset=CellGeneDataset(cell_features)\n",
    "cellGeneDataset_loader = DataLoader(cellGeneDataset, batch_size=64, shuffle=True)\n",
    "#learn\n",
    "cellGeneCompressor=geneCompressing(cellGeneDataset_loader,num_gene_compressed_cell, noise_weight=0.01, log_interval=1 )\n",
    "#save\n",
    "cellGeneCompressor.eval()\n",
    "cellGeneCompressed=np.array([cellGeneCompressor.cpu()._encoder(torch.FloatTensor(cellGeneDataset[d])).data.numpy() for d in range(num_celllines)])\n",
    "torch.save(cellGeneCompressor.state_dict(), f'{DATA_PATH}/models/cellGeneCompressor.p')\n",
    "pickle.dump(cellGeneCompressed, open(f'{DATA_PATH}/models/cellGeneCompressed.p', 'wb'))\n"
   ]
  },
  {
   "cell_type": "code",
   "execution_count": 71,
   "metadata": {},
   "outputs": [],
   "source": [
    "cellGeneCompressed=pickle.load(open(f'{DATA_PATH}/models/cellGeneCompressed.p', 'rb'))\n",
    "cellGeneCompressed=torch.FloatTensor(cellGeneCompressed)"
   ]
  },
  {
   "cell_type": "markdown",
   "metadata": {},
   "source": [
    "#### <a id='toc1_4_3_4_'></a>[Synergy prediction](#toc0_)"
   ]
  },
  {
   "cell_type": "markdown",
   "metadata": {},
   "source": [
    "##### <a id='toc1_4_3_4_1_'></a>[Train/test split in cross or external validation](#toc0_)"
   ]
  },
  {
   "cell_type": "code",
   "execution_count": 72,
   "metadata": {},
   "outputs": [],
   "source": [
    "def get_cell_of_interest(tissues):\n",
    "    tissues_of_interests = [codes['tissue'].item2idx[minor_tissue] for minor_tissue in tissues]\n",
    "    cell_of_interest = cell_features.index[cell_features['tissue_id'].isin(tissues_of_interests)].tolist()\n",
    "    return cell_of_interest"
   ]
  },
  {
   "cell_type": "markdown",
   "metadata": {},
   "source": [
    "Train/test for general model"
   ]
  },
  {
   "cell_type": "code",
   "execution_count": 73,
   "metadata": {},
   "outputs": [],
   "source": [
    "minor_tissues=['bone', 'prostate' ]\n",
    "cell_of_interest = get_cell_of_interest(minor_tissues)\n",
    "df_tissue_of_interest = df.loc[df['cell_line_name'].isin(cell_of_interest),:]\n",
    "df_all = df.drop(df_tissue_of_interest.index)\n",
    "#specific database\n",
    "#df_all=df_all.loc[df_all['study_id']==3]\n",
    "#cross validation\n",
    "df_train, df_test = train_test_split(df_all, test_size=0.2) #cross validation\n",
    "#external validation\n",
    "#df_train=df_all.loc[df_all['study_id']==3] 3: 'ALMANAC'\n",
    "#df_test=df_all.loc[df_all['study_id']==1] 1: 'ONEIL'"
   ]
  },
  {
   "cell_type": "markdown",
   "metadata": {},
   "source": [
    "Train/test for bone"
   ]
  },
  {
   "cell_type": "code",
   "execution_count": 74,
   "metadata": {},
   "outputs": [],
   "source": [
    "_df_bone = df.loc[df['cell_line_name'].isin(get_cell_of_interest(['bone'])),:]\n",
    "# Cross validation\n",
    "_df_train_bone, _df_test_bone = train_test_split(_df_bone, test_size=0.2, random_state=1)\n",
    "# External validation\n",
    "#_df_train_bone=_df_bone.loc[_df_bone['study_id']!=9]\n",
    "#_df_test_bone= _df_bone.loc[_df_bone['study_id']==9]"
   ]
  },
  {
   "cell_type": "markdown",
   "metadata": {},
   "source": [
    "Train/test for prostate"
   ]
  },
  {
   "cell_type": "code",
   "execution_count": 75,
   "metadata": {},
   "outputs": [],
   "source": [
    "_df_prostate= df.loc[df['cell_line_name'].isin(get_cell_of_interest(['prostate'])),:]\n",
    "#Cross validation\n",
    "_df_train_prostate, _df_test_prostate = train_test_split(_df_prostate, test_size=0.2, random_state=1)\n",
    "# External validation\n",
    "#_df_train_prostate=_df_prostate.loc[_df_prostate['study_id']!=1]\n",
    "#_df_test_prostate=_df_prostate.loc[_df_prostate['study_id']==1]"
   ]
  },
  {
   "cell_type": "markdown",
   "metadata": {},
   "source": [
    "##### <a id='toc1_4_3_4_2_'></a>[Dataset and Dataloader](#toc0_)"
   ]
  },
  {
   "cell_type": "code",
   "execution_count": 76,
   "metadata": {},
   "outputs": [],
   "source": [
    "class DrugCombDataset(Dataset):\n",
    "    def __init__(self, df, drug_features, cell_features):\n",
    "        self.df = df\n",
    "        self.drug_features = drug_features\n",
    "        self.cell_features = cell_features\n",
    "        \n",
    "    def __len__(self):\n",
    "        return len(self.df)\n",
    "    \n",
    "    def __getitem__(self, idx):\n",
    "        \n",
    "        d1 = self.df.iloc[idx, 0]\n",
    "        d2 = self.df.iloc[idx, 1]\n",
    "        cell = self.df.iloc[idx,2]\n",
    "        ri_d1 = 1.0 if self.df.iloc[idx,3] >ri_threshold else 0\n",
    "        ri_d2 = 1.0 if self.df.iloc[idx,4] >ri_threshold else 0\n",
    "        syn = 1.0 if self.df.iloc[idx, 5] >syn_threshold else 0\n",
    "        \n",
    "        \n",
    "        #external features\n",
    "        d1_fp = np.array(self.drug_features.loc[d1, 'fps'])\n",
    "        d1_sm = self.drug_features.loc[d1, 'smiles']\n",
    "        d1_sm = np.pad(d1_sm, pad_width=(0, max_drug_sm_len-len(d1_sm)), mode='constant', constant_values=0)\n",
    "        d1_gn=drugGeneCompressed[d1]\n",
    "        \n",
    "        d2_fp = np.array(self.drug_features.loc[d2, 'fps'])\n",
    "        d2_sm = self.drug_features.loc[d2, 'smiles']\n",
    "        d2_sm = np.pad(d2_sm, pad_width=(0, max_drug_sm_len-len(d2_sm)), mode='constant', constant_values=0)\n",
    "        d2_gn=drugGeneCompressed[d2]\n",
    "        \n",
    "        c_ts = self.cell_features.loc[cell, 'tissue_id']\n",
    "        c_ds = self.cell_features.loc[cell, 'disease_id']\n",
    "        c_gn= cellGeneCompressed[cell]\n",
    "        \n",
    "        sample = {\n",
    "            'd1': d1,\n",
    "            'd1_fp': d1_fp,\n",
    "            'd1_sm': d1_sm,\n",
    "            'd1_gn': d1_gn,\n",
    "            \n",
    "            'd2': d2,\n",
    "            'd2_fp': d2_fp,\n",
    "            'd2_sm': d2_sm,\n",
    "            'd2_gn': d2_gn,\n",
    "            \n",
    "            'cell': cell,\n",
    "            'c_ts': c_ts,\n",
    "            'c_ds': c_ds, #missing -1\n",
    "            'c_gn': c_gn,\n",
    "            \n",
    "            'ri_d1': ri_d1,\n",
    "            'ri_d2': ri_d2,\n",
    "            'syn': syn\n",
    "        }\n",
    "        \n",
    "        return sample"
   ]
  },
  {
   "cell_type": "markdown",
   "metadata": {},
   "source": [
    "##### <a id='toc1_4_3_4_3_'></a>[Load dataset](#toc0_)"
   ]
  },
  {
   "cell_type": "markdown",
   "metadata": {},
   "source": [
    "General model"
   ]
  },
  {
   "cell_type": "code",
   "execution_count": 77,
   "metadata": {},
   "outputs": [],
   "source": [
    "train = DrugCombDataset(df_train, drug_features, cell_features)\n",
    "train_loader = DataLoader(train, batch_size=bsz, shuffle=True )\n",
    "test = DrugCombDataset(df_test, drug_features, cell_features)\n",
    "test_loader = DataLoader(test, batch_size=bsz, shuffle=True )"
   ]
  },
  {
   "cell_type": "markdown",
   "metadata": {},
   "source": [
    "Bone"
   ]
  },
  {
   "cell_type": "code",
   "execution_count": 78,
   "metadata": {},
   "outputs": [],
   "source": [
    "_train_bone = DrugCombDataset(_df_train_bone, drug_features, cell_features)\n",
    "_train_loader_bone = DataLoader(_train_bone, batch_size=bsz, shuffle=True )\n",
    "_test_bone = DrugCombDataset(_df_test_bone, drug_features, cell_features)\n",
    "_test_loader_bone = DataLoader(_test_bone, batch_size=bsz, shuffle=False )"
   ]
  },
  {
   "cell_type": "markdown",
   "metadata": {},
   "source": [
    "Prostate"
   ]
  },
  {
   "cell_type": "code",
   "execution_count": 79,
   "metadata": {},
   "outputs": [],
   "source": [
    "_train_prostate = DrugCombDataset(_df_train_prostate, drug_features, cell_features)\n",
    "_train_loader_prostate = DataLoader(_train_prostate, batch_size=bsz, shuffle=True )\n",
    "_test_prostate = DrugCombDataset(_df_test_prostate, drug_features, cell_features)\n",
    "_test_loader_prostate = DataLoader(_test_prostate, batch_size=bsz, shuffle=False )"
   ]
  },
  {
   "cell_type": "markdown",
   "metadata": {},
   "source": [
    "#### <a id='toc1_4_3_5_'></a>[Prediction model](#toc0_)"
   ]
  },
  {
   "cell_type": "code",
   "execution_count": 80,
   "metadata": {},
   "outputs": [],
   "source": [
    "class DrugEncoder(nn.Module):\n",
    "    def __init__(self,\n",
    "                 num_drugs=num_drugs,\n",
    "                 num_ID_emb=0,\n",
    "                 num_drug_fp=num_drug_fp,\n",
    "                 max_drug_sm_len=max_drug_sm_len,\n",
    "                 num_gene = num_gene_compressed_drug,\n",
    "                 num_comp_char=len(codes['mole'].idx2item),\n",
    "                 fp_embed_sz = 32,\n",
    "                 gene_embed_sz = int(num_gene_compressed_drug/2),\n",
    "                 out_size=64,\n",
    "                 dropout=0.3):\n",
    "        super(DrugEncoder, self).__init__()\n",
    "        \n",
    "        self.dropout= dropout\n",
    "        #DRUG\n",
    "        #drug ID\n",
    "        #self.embed_id = nn.Embedding(num_drugs, num_ID_emb)\n",
    "        \n",
    "        #compound ID\n",
    "        self.embed_comp = nn.Embedding(num_comp_char, num_comp_char, padding_idx=0)#padding's idx=0\n",
    "        #encoding compound\n",
    "        self.encoderlayer = nn.TransformerEncoderLayer(d_model=num_comp_char, nhead=4)\n",
    "        self.encoder = nn.TransformerEncoder(self.encoderlayer, num_layers=1)\n",
    "        \n",
    "        #fingerprint\n",
    "        self.dense_fp = nn.Linear(num_drug_fp,fp_embed_sz)\n",
    "        #gene\n",
    "        self.dense_gene = nn.Linear(num_gene,gene_embed_sz)\n",
    "        \n",
    "        #depthwise for compound encoding\n",
    "        self.conv = nn.Conv2d(1, 1, (1, num_comp_char), groups=1)\n",
    "        \n",
    "        #combined\n",
    "        combined_sz = num_ID_emb+fp_embed_sz+max_drug_sm_len+gene_embed_sz\n",
    "        self.FC2 = FC2(combined_sz, out_size, dropout)\n",
    "\n",
    "    def forward(self, d_list):\n",
    "        \"\"\"\n",
    "            id: bsz*1\n",
    "            fp: bsz*num_drug_fp\n",
    "            sm: bsz*max_drug_sm_len\n",
    "        \"\"\"\n",
    "        id, fp, sm, gn = d_list\n",
    "        \n",
    "        sm = self.embed_comp(sm) #bsz*max_drug_sm_len*num_comp_char(embedding size)\n",
    "        sm = self.encoder(sm)\n",
    "        sm = self.conv(sm.unsqueeze(1)).squeeze()\n",
    "        \n",
    "        fp = F.relu(self.dense_fp(fp))\n",
    "        gn = F.relu(self.dense_gene(gn))\n",
    "        \n",
    "        #combine\n",
    "        x = torch.cat((fp, sm, gn),1) # bsz*[num_emb_id+num_drug_fp+max+drug_sm]\n",
    "        x = self.FC2(x)\n",
    "        \n",
    "        return x\n",
    "        "
   ]
  },
  {
   "cell_type": "code",
   "execution_count": 81,
   "metadata": {},
   "outputs": [],
   "source": [
    "class CellEncoder(nn.Module):\n",
    "    def __init__(self,\n",
    "                 num_cells=num_celllines,\n",
    "                 num_tissue=0,\n",
    "                 num_disease=num_disease,\n",
    "                 num_ID_emb=0,\n",
    "                 gene_embed_sz=int(num_gene_compressed_cell/2),\n",
    "                 num_gene=num_gene_compressed_cell,\n",
    "                 out_size=64,\n",
    "                 dropout=0.3):\n",
    "        super(CellEncoder, self).__init__()\n",
    "        \n",
    "        self.dropout= dropout\n",
    "        #cell ID\n",
    "        #self.embed_id = nn.Embedding(num_cells, num_ID_emb)\n",
    "        #cell tissue\n",
    "        #self.embed_ts = nn.Embedding(num_tissue, num_tissue)\n",
    "        #cell disease\n",
    "        self.embed_ds = nn.Embedding(num_disease, num_disease, padding_idx=3)\n",
    "        #gene\n",
    "        self.dense_gene = nn.Linear(num_gene,gene_embed_sz)\n",
    "        \n",
    "        #combined\n",
    "        combined_sz = num_ID_emb+num_tissue+num_disease+gene_embed_sz\n",
    "        self.FC2 = FC2(combined_sz, out_size, dropout)\n",
    "    \n",
    "        \n",
    "    def forward(self, c_list):\n",
    "        \"\"\"\n",
    "            id: bsz*1\n",
    "            fp: bsz*num_drug_fp\n",
    "            sm: bsz*max_drug_sm_len\n",
    "        \"\"\"\n",
    "        id, ts, ds, gn = c_list\n",
    "        ds = F.relu(self.embed_ds(ds)) #bsz*num_diesaes\n",
    "        \n",
    "        gn = F.relu(self.dense_gene(gn)) #bsz*gene_embed_sz\n",
    "        \n",
    "        #combine\n",
    "        x = torch.cat((ds, gn),1) # bsz*combined_sz\n",
    "        x = self.FC2(x)\n",
    "\n",
    "        return x\n",
    "        "
   ]
  },
  {
   "cell_type": "code",
   "execution_count": 82,
   "metadata": {},
   "outputs": [],
   "source": [
    "class Comb(nn.Module):\n",
    "    def __init__(self, num_cells=num_celllines, \n",
    "                 num_drugs=num_drugs,\n",
    "                 num_drug_fp=num_drug_fp,\n",
    "                 max_drug_sm_len=max_drug_sm_len,\n",
    "                num_comp_char=len(codes['mole'].idx2item),\n",
    "                 num_ID_emb=0,\n",
    "                 out_size=64,\n",
    "                dropout=0.3):\n",
    "        \n",
    "        super(Comb, self).__init__()\n",
    "        \n",
    "        self.dropout=dropout    \n",
    "        #drug\n",
    "        self.drugEncoder = DrugEncoder()\n",
    "        #cell\n",
    "        self.cellEncoder = CellEncoder()\n",
    "        #fc\n",
    "        self.fc_syn = FC2(out_size*3, 1, dropout)\n",
    "        self.fc_ri = FC2(out_size*2, 1, dropout)\n",
    "        \n",
    "    def forward(self, d1_list, d2_list, c_list):\n",
    "        d1 = self.drugEncoder(d1_list)\n",
    "        d2 = self.drugEncoder(d2_list)\n",
    "        c = self.cellEncoder(c_list)\n",
    "        \n",
    "        syn = self.fc_syn(torch.cat((d1, d2, c),1))\n",
    "        ri1 = self.fc_ri(torch.cat((d1,c),1))\n",
    "        ri2 = self.fc_ri(torch.cat((d2,c),1))\n",
    "        \n",
    "        return syn, ri1, ri2\n",
    "    "
   ]
  },
  {
   "cell_type": "markdown",
   "metadata": {},
   "source": [
    "#### <a id='toc1_4_3_6_'></a>[Training](#toc0_)"
   ]
  },
  {
   "cell_type": "markdown",
   "metadata": {},
   "source": [
    "The model employs a multi-task learning framework, meaning it simultaneously learns to predict both monotherapy sensitivity and drug combination synergy. This approach helps the model leverage commonalities between the two tasks to improve its predictive accuracy. The training loss is a combination of mean squared error (MSE) for the regression tasks (predicting the exact scores of sensitivity and synergy) and binary cross-entropy for classification tasks (predicting whether a drug combination is above a certain synergy threshold).\n",
    "\n",
    "Transfer learning is a crucial aspect of the training process. The model first learns from data-rich tissues and then transfers its learned parameters to models targeting understudied tissues. This transfer is fine-tuned with data from the understudied tissues to adapt the model to their specific characteristics."
   ]
  },
  {
   "cell_type": "markdown",
   "metadata": {},
   "source": [
    "<div align=\"center\">\n",
    "    <img src=\"public/assets/transfer_learning_figure.png\" width=\"700\">\n",
    "    <p><b>Figure 4:</b> Transfer Learning Diagram from <a href=\"https://doi.org/10.1101/2020.02.05.932657\">Kim et al. (2020)</a></p>\n",
    "</div>"
   ]
  },
  {
   "cell_type": "markdown",
   "metadata": {},
   "source": [
    "##### <a id='toc1_4_3_6_1_'></a>[Hyperparameters](#toc0_)"
   ]
  },
  {
   "cell_type": "markdown",
   "metadata": {},
   "source": [
    "We defined the hyperparameters above in Cell 58. These hyperparameters are the same as those used by [Kim et al. (2020)](https://doi.org/10.1101/2020.02.05.932657). This includes 10 total epochs for the general model, a batch size of 128, and a dropout of 0.3. For more information on the default hyperparameters, you can find them all in Cell 58 above in the [Configuration](#configuration) section."
   ]
  },
  {
   "cell_type": "markdown",
   "metadata": {},
   "source": [
    "##### <a id='toc1_4_3_6_2_'></a>[Computational Requirements](#toc0_)"
   ]
  },
  {
   "cell_type": "markdown",
   "metadata": {},
   "source": [
    "In terms of the computational feasibility of this paper, you should be able to perform all data preprocessing and training on your local machine, without a need for any additional computing clusters, assuming you have a GPU. In my own testing, I trained the model for 20 epochs with two different GPUs to compare performance on high versus medium-end consumer GPUs. Specifically, I first ran this notebook using an NVIDIA GTX 4090 GPU, which had no issues at all during training. The average minutes per epoch (m/e) using this hardware was ~3 minutes, for a total runtime of ~30 minutes. I also tested this on a NVIDIA GTX 2060 SUPER GPU, which obviously performed worse in comparison, but not prohibitively so. The 2060 SUPER completed training with 5.5 m/e and a total runtime of ~55 minutes. All tests were carried out using the same conda environment and on Ubuntu 22.04."
   ]
  },
  {
   "cell_type": "code",
   "execution_count": 83,
   "metadata": {},
   "outputs": [
    {
     "name": "stderr",
     "output_type": "stream",
     "text": [
      "/home/blake/miniconda3/envs/synergy/lib/python3.8/site-packages/torch/nn/modules/transformer.py:286: UserWarning: enable_nested_tensor is True, but self.use_nested_tensor is False because encoder_layer.self_attn.batch_first was not True(use batch_first for better inference performance)\n",
      "  warnings.warn(f\"enable_nested_tensor is True, but self.use_nested_tensor is False because {why_not_sparsity_fast_path}\")\n"
     ]
    }
   ],
   "source": [
    "model = Comb()\n",
    "if cuda:\n",
    "    model = model.cuda()\n",
    "#Regression\n",
    "#criterion_mse = nn.MSELoss()\n",
    "#Classification\n",
    "criterion_bce = nn.BCEWithLogitsLoss()\n",
    "optimizer = optim.Adagrad(model.parameters())\n"
   ]
  },
  {
   "cell_type": "code",
   "execution_count": 84,
   "metadata": {},
   "outputs": [],
   "source": [
    "#Training\n",
    "def training(isAux, data_loader):\n",
    "    model.train()\n",
    "    total_loss = 0\n",
    "    start_time = time.time()\n",
    "\n",
    "    for iteration, sample in enumerate(data_loader):\n",
    "        d1=Variable(sample['d1'])\n",
    "        d1_fp = Variable(sample['d1_fp'].float())\n",
    "        d1_sm = Variable(sample['d1_sm'])\n",
    "        d1_gn = Variable(sample['d1_gn'].float())\n",
    "        \n",
    "        d2=Variable(sample['d2'])\n",
    "        d2_fp = Variable(sample['d2_fp'].float())\n",
    "        d2_sm = Variable(sample['d2_sm'])\n",
    "        d2_gn = Variable(sample['d2_gn'].float())\n",
    "        \n",
    "        cell = Variable(sample['cell'])\n",
    "        c_ts = Variable(sample['c_ts'])\n",
    "        c_ds = Variable(sample['c_ds'])\n",
    "        c_gn = Variable(sample['c_gn'].float())\n",
    "        \n",
    "        syn_true = Variable(sample['syn'].float())\n",
    "        ri_d1=Variable(sample['ri_d1'].float())\n",
    "        ri_d2=Variable(sample['ri_d2'].float())\n",
    "\n",
    "\n",
    "        if cuda:\n",
    "            d1=d1.cuda()\n",
    "            d1_fp=d1_fp.cuda()\n",
    "            d1_sm=d1_sm.cuda()\n",
    "            d1_gn=d1_gn.cuda()\n",
    "            \n",
    "            d2=d2.cuda()\n",
    "            d2_fp=d2_fp.cuda()\n",
    "            d2_sm=d2_sm.cuda()\n",
    "            d2_gn=d2_gn.cuda()\n",
    "            \n",
    "            cell=cell.cuda()\n",
    "            c_ts=c_ts.cuda()\n",
    "            c_ds=c_ds.cuda()\n",
    "            c_gn=c_gn.cuda()\n",
    "            \n",
    "            syn_true=syn_true.cuda()\n",
    "            ri_d1=ri_d1.cuda()\n",
    "            ri_d2=ri_d2.cuda()\n",
    "\n",
    "        optimizer.zero_grad()\n",
    "        \n",
    "        syn, ri1, ri2 = model((d1, d1_fp, d1_sm, d1_gn), (d2, d2_fp, d2_sm, d2_gn), (cell, c_ts, c_ds, c_gn) )\n",
    "        \n",
    "        if not isAux:\n",
    "            loss = criterion_bce(syn, syn_true.view(-1,1))\n",
    "        else:\n",
    "            loss = criterion_bce(ri1, ri_d1.view(-1,1))+criterion_bce(ri2, ri_d2.view(-1,1))\n",
    "            \n",
    "        loss.backward()\n",
    "        optimizer.step()\n",
    "        total_loss += loss.data\n",
    "\n",
    "        if iteration % log_interval == 0 and iteration > 0:\n",
    "            cur_loss = total_loss.item() / log_interval\n",
    "            elapsed = time.time() - start_time\n",
    "            print('| epoch {:3d} | {:5d}/{:5d} batches | ms/batch {:5.2f} | loss {:8.5f}'.format(epoch, iteration, int(len(train_loader)/bsz), elapsed * 1000/log_interval, cur_loss))\n",
    "\n",
    "            total_loss = 0\n",
    "            start_time = time.time()\n"
   ]
  },
  {
   "cell_type": "code",
   "execution_count": 85,
   "metadata": {},
   "outputs": [],
   "source": [
    "def evaluate(data_loader):\n",
    "    model.eval()\n",
    "    total_loss = 0\n",
    "    total_loss_sen = 0\n",
    "\n",
    "    \n",
    "    #loss\n",
    "    with torch.no_grad():\n",
    "        for iteration, sample in enumerate(data_loader):\n",
    "            d1=Variable(sample['d1'])\n",
    "            d1_fp = Variable(sample['d1_fp'].float())\n",
    "            d1_sm = Variable(sample['d1_sm'])\n",
    "            d1_gn = Variable(sample['d1_gn'].float())\n",
    "\n",
    "            d2=Variable(sample['d2'])\n",
    "            d2_fp = Variable(sample['d2_fp'].float())\n",
    "            d2_sm = Variable(sample['d2_sm'])\n",
    "            d2_gn = Variable(sample['d2_gn'].float())\n",
    "\n",
    "            cell = Variable(sample['cell'])\n",
    "            c_ts = Variable(sample['c_ts'])\n",
    "            c_ds = Variable(sample['c_ds'])\n",
    "            c_gn = Variable(sample['c_gn'].float())\n",
    "\n",
    "            syn_true = Variable(sample['syn'].float())\n",
    "            ri_d1=Variable(sample['ri_d1'].float())\n",
    "            ri_d2=Variable(sample['ri_d2'].float())\n",
    "\n",
    "\n",
    "            if cuda:\n",
    "                d1=d1.cuda()\n",
    "                d1_fp=d1_fp.cuda()\n",
    "                d1_sm=d1_sm.cuda()\n",
    "                d1_gn=d1_gn.cuda()\n",
    "\n",
    "                d2=d2.cuda()\n",
    "                d2_fp=d2_fp.cuda()\n",
    "                d2_sm=d2_sm.cuda()\n",
    "                d2_gn=d2_gn.cuda()\n",
    "\n",
    "                cell=cell.cuda()\n",
    "                c_ts=c_ts.cuda()\n",
    "                c_ds=c_ds.cuda()\n",
    "                c_gn=c_gn.cuda()\n",
    "\n",
    "                syn_true=syn_true.cuda()\n",
    "                ri_d1=ri_d1.cuda()\n",
    "                ri_d2=ri_d2.cuda()\n",
    "\n",
    "\n",
    "            syn,ri1,ri2 = model((d1, d1_fp, d1_sm, d1_gn), (d2, d2_fp, d2_sm, d2_gn), (cell, c_ts,c_ds,c_gn) )\n",
    "            loss = criterion_bce(syn, syn_true.view(-1,1))\n",
    "            total_loss +=loss.data\n",
    "            loss_sen = (criterion_bce(ri1, ri_d1.view(-1,1))+criterion_bce(ri2, ri_d2.view(-1,1)))/2\n",
    "            total_loss_sen += loss_sen.data\n",
    "\n",
    "        print('syn mse', total_loss.item()/(iteration+1))\n",
    "        print('sen_mse', total_loss_sen.item()/(iteration+1))"
   ]
  },
  {
   "cell_type": "code",
   "execution_count": 86,
   "metadata": {},
   "outputs": [
    {
     "name": "stdout",
     "output_type": "stream",
     "text": [
      "| epoch   1 |   100/   18 batches | ms/batch 62.58 | loss  0.38068\n",
      "| epoch   1 |   200/   18 batches | ms/batch 61.15 | loss  0.33605\n",
      "| epoch   1 |   300/   18 batches | ms/batch 59.03 | loss  0.31480\n",
      "| epoch   1 |   400/   18 batches | ms/batch 61.55 | loss  0.30493\n",
      "| epoch   1 |   500/   18 batches | ms/batch 58.84 | loss  0.29916\n",
      "| epoch   1 |   600/   18 batches | ms/batch 58.40 | loss  0.28708\n",
      "| epoch   1 |   700/   18 batches | ms/batch 58.45 | loss  0.28399\n",
      "| epoch   1 |   800/   18 batches | ms/batch 61.39 | loss  0.28293\n",
      "| epoch   1 |   900/   18 batches | ms/batch 58.60 | loss  0.27937\n",
      "| epoch   1 |  1000/   18 batches | ms/batch 58.79 | loss  0.28504\n",
      "| epoch   1 |  1100/   18 batches | ms/batch 58.81 | loss  0.27313\n",
      "| epoch   1 |  1200/   18 batches | ms/batch 62.14 | loss  0.27800\n",
      "| epoch   1 |  1300/   18 batches | ms/batch 59.00 | loss  0.27238\n",
      "| epoch   1 |  1400/   18 batches | ms/batch 59.12 | loss  0.25997\n",
      "| epoch   1 |  1500/   18 batches | ms/batch 59.29 | loss  0.26617\n",
      "| epoch   1 |  1600/   18 batches | ms/batch 62.92 | loss  0.25985\n",
      "| epoch   1 |  1700/   18 batches | ms/batch 59.36 | loss  0.26113\n",
      "| epoch   1 |  1800/   18 batches | ms/batch 59.50 | loss  0.26331\n",
      "| epoch   1 |  1900/   18 batches | ms/batch 59.59 | loss  0.25985\n",
      "| epoch   1 |  2000/   18 batches | ms/batch 60.32 | loss  0.25813\n",
      "| epoch   1 |  2100/   18 batches | ms/batch 60.43 | loss  0.26029\n",
      "| epoch   1 |  2200/   18 batches | ms/batch 64.81 | loss  0.25321\n",
      "| epoch   1 |  2300/   18 batches | ms/batch 61.41 | loss  0.25466\n",
      "| epoch   1 |   100/   18 batches | ms/batch 62.48 | loss  0.27817\n",
      "| epoch   1 |   200/   18 batches | ms/batch 61.90 | loss  0.19894\n",
      "| epoch   1 |   300/   18 batches | ms/batch 62.01 | loss  0.20873\n",
      "| epoch   1 |   400/   18 batches | ms/batch 62.08 | loss  0.18356\n",
      "| epoch   1 |   500/   18 batches | ms/batch 62.27 | loss  0.19218\n",
      "| epoch   1 |   600/   18 batches | ms/batch 67.26 | loss  0.18990\n",
      "| epoch   1 |   700/   18 batches | ms/batch 62.50 | loss  0.18233\n",
      "| epoch   1 |   800/   18 batches | ms/batch 62.83 | loss  0.19936\n",
      "| epoch   1 |   900/   18 batches | ms/batch 62.95 | loss  0.19113\n",
      "| epoch   1 |  1000/   18 batches | ms/batch 63.43 | loss  0.18770\n",
      "| epoch   1 |  1100/   18 batches | ms/batch 63.49 | loss  0.19279\n",
      "| epoch   1 |  1200/   18 batches | ms/batch 63.34 | loss  0.19413\n",
      "| epoch   1 |  1300/   18 batches | ms/batch 63.45 | loss  0.19312\n",
      "| epoch   1 |  1400/   18 batches | ms/batch 63.30 | loss  0.19516\n",
      "| epoch   1 |  1500/   18 batches | ms/batch 68.85 | loss  0.18924\n",
      "| epoch   1 |  1600/   18 batches | ms/batch 63.43 | loss  0.19128\n",
      "| epoch   1 |  1700/   18 batches | ms/batch 63.40 | loss  0.18930\n",
      "| epoch   1 |  1800/   18 batches | ms/batch 63.26 | loss  0.18812\n",
      "| epoch   1 |  1900/   18 batches | ms/batch 63.34 | loss  0.18743\n",
      "| epoch   1 |  2000/   18 batches | ms/batch 63.19 | loss  0.18539\n",
      "| epoch   1 |  2100/   18 batches | ms/batch 63.24 | loss  0.18334\n",
      "| epoch   1 |  2200/   18 batches | ms/batch 63.34 | loss  0.18253\n",
      "| epoch   1 |  2300/   18 batches | ms/batch 63.24 | loss  0.18551\n",
      "syn mse 0.2542644559021514\n",
      "sen_mse 0.0890474173735277\n",
      "-----------------------------------------------------------------------------------------\n",
      "| epoch   2 |   100/   18 batches | ms/batch 63.97 | loss  0.27243\n",
      "| epoch   2 |   200/   18 batches | ms/batch 63.21 | loss  0.26230\n",
      "| epoch   2 |   300/   18 batches | ms/batch 63.29 | loss  0.26228\n",
      "| epoch   2 |   400/   18 batches | ms/batch 63.18 | loss  0.24879\n",
      "| epoch   2 |   500/   18 batches | ms/batch 63.22 | loss  0.24909\n",
      "| epoch   2 |   600/   18 batches | ms/batch 63.25 | loss  0.25628\n",
      "| epoch   2 |   700/   18 batches | ms/batch 63.45 | loss  0.25072\n",
      "| epoch   2 |   800/   18 batches | ms/batch 63.56 | loss  0.25410\n",
      "| epoch   2 |   900/   18 batches | ms/batch 63.15 | loss  0.24968\n",
      "| epoch   2 |  1000/   18 batches | ms/batch 70.29 | loss  0.24893\n",
      "| epoch   2 |  1100/   18 batches | ms/batch 62.92 | loss  0.25495\n",
      "| epoch   2 |  1200/   18 batches | ms/batch 63.00 | loss  0.25666\n",
      "| epoch   2 |  1300/   18 batches | ms/batch 63.04 | loss  0.25567\n",
      "| epoch   2 |  1400/   18 batches | ms/batch 63.07 | loss  0.24263\n",
      "| epoch   2 |  1500/   18 batches | ms/batch 63.20 | loss  0.24543\n",
      "| epoch   2 |  1600/   18 batches | ms/batch 63.28 | loss  0.24239\n",
      "| epoch   2 |  1700/   18 batches | ms/batch 63.25 | loss  0.23940\n",
      "| epoch   2 |  1800/   18 batches | ms/batch 63.70 | loss  0.23778\n",
      "| epoch   2 |  1900/   18 batches | ms/batch 64.20 | loss  0.24348\n",
      "| epoch   2 |  2000/   18 batches | ms/batch 64.20 | loss  0.24137\n",
      "| epoch   2 |  2100/   18 batches | ms/batch 64.13 | loss  0.24327\n",
      "| epoch   2 |  2200/   18 batches | ms/batch 63.77 | loss  0.24162\n",
      "| epoch   2 |  2300/   18 batches | ms/batch 63.42 | loss  0.24502\n",
      "| epoch   2 |   100/   18 batches | ms/batch 64.38 | loss  0.18045\n",
      "| epoch   2 |   200/   18 batches | ms/batch 63.64 | loss  0.19188\n",
      "| epoch   2 |   300/   18 batches | ms/batch 72.48 | loss  0.18953\n",
      "| epoch   2 |   400/   18 batches | ms/batch 63.72 | loss  0.18995\n",
      "| epoch   2 |   500/   18 batches | ms/batch 63.85 | loss  0.18735\n",
      "| epoch   2 |   600/   18 batches | ms/batch 63.99 | loss  0.18337\n",
      "| epoch   2 |   700/   18 batches | ms/batch 64.07 | loss  0.19097\n",
      "| epoch   2 |   800/   18 batches | ms/batch 64.03 | loss  0.18006\n",
      "| epoch   2 |   900/   18 batches | ms/batch 64.03 | loss  0.18266\n",
      "| epoch   2 |  1000/   18 batches | ms/batch 64.15 | loss  0.18987\n",
      "| epoch   2 |  1100/   18 batches | ms/batch 64.39 | loss  0.18352\n",
      "| epoch   2 |  1200/   18 batches | ms/batch 65.21 | loss  0.17555\n",
      "| epoch   2 |  1300/   18 batches | ms/batch 65.13 | loss  0.17115\n",
      "| epoch   2 |  1400/   18 batches | ms/batch 65.21 | loss  0.18102\n",
      "| epoch   2 |  1500/   18 batches | ms/batch 64.50 | loss  0.18782\n",
      "| epoch   2 |  1600/   18 batches | ms/batch 64.52 | loss  0.17842\n",
      "| epoch   2 |  1700/   18 batches | ms/batch 64.70 | loss  0.18034\n",
      "| epoch   2 |  1800/   18 batches | ms/batch 64.64 | loss  0.18799\n",
      "| epoch   2 |  1900/   18 batches | ms/batch 64.73 | loss  0.18178\n",
      "| epoch   2 |  2000/   18 batches | ms/batch 64.68 | loss  0.19336\n",
      "| epoch   2 |  2100/   18 batches | ms/batch 64.79 | loss  0.18208\n",
      "| epoch   2 |  2200/   18 batches | ms/batch 75.18 | loss  0.17151\n",
      "| epoch   2 |  2300/   18 batches | ms/batch 64.57 | loss  0.17630\n",
      "syn mse 0.22917623471323217\n",
      "sen_mse 0.08896537871433641\n",
      "-----------------------------------------------------------------------------------------\n",
      "| epoch   3 |   100/   18 batches | ms/batch 64.66 | loss  0.24733\n",
      "| epoch   3 |   200/   18 batches | ms/batch 64.34 | loss  0.24291\n",
      "| epoch   3 |   300/   18 batches | ms/batch 64.50 | loss  0.24256\n",
      "| epoch   3 |   400/   18 batches | ms/batch 64.71 | loss  0.23931\n",
      "| epoch   3 |   500/   18 batches | ms/batch 64.93 | loss  0.24627\n",
      "| epoch   3 |   600/   18 batches | ms/batch 64.88 | loss  0.23975\n",
      "| epoch   3 |   700/   18 batches | ms/batch 64.94 | loss  0.24486\n",
      "| epoch   3 |   800/   18 batches | ms/batch 65.05 | loss  0.23056\n",
      "| epoch   3 |   900/   18 batches | ms/batch 65.08 | loss  0.23620\n",
      "| epoch   3 |  1000/   18 batches | ms/batch 65.18 | loss  0.23782\n",
      "| epoch   3 |  1100/   18 batches | ms/batch 65.13 | loss  0.23638\n",
      "| epoch   3 |  1200/   18 batches | ms/batch 65.17 | loss  0.23869\n",
      "| epoch   3 |  1300/   18 batches | ms/batch 65.37 | loss  0.23074\n",
      "| epoch   3 |  1400/   18 batches | ms/batch 65.32 | loss  0.24049\n",
      "| epoch   3 |  1500/   18 batches | ms/batch 65.34 | loss  0.23918\n",
      "| epoch   3 |  1600/   18 batches | ms/batch 65.31 | loss  0.23694\n",
      "| epoch   3 |  1700/   18 batches | ms/batch 65.28 | loss  0.22922\n",
      "| epoch   3 |  1800/   18 batches | ms/batch 77.25 | loss  0.23295\n",
      "| epoch   3 |  1900/   18 batches | ms/batch 65.15 | loss  0.23485\n",
      "| epoch   3 |  2000/   18 batches | ms/batch 65.24 | loss  0.23448\n",
      "| epoch   3 |  2100/   18 batches | ms/batch 65.16 | loss  0.23309\n",
      "| epoch   3 |  2200/   18 batches | ms/batch 65.21 | loss  0.23687\n",
      "| epoch   3 |  2300/   18 batches | ms/batch 64.71 | loss  0.24009\n",
      "| epoch   3 |   100/   18 batches | ms/batch 64.78 | loss  0.18772\n",
      "| epoch   3 |   200/   18 batches | ms/batch 64.00 | loss  0.18010\n",
      "| epoch   3 |   300/   18 batches | ms/batch 64.02 | loss  0.18561\n",
      "| epoch   3 |   400/   18 batches | ms/batch 64.02 | loss  0.18719\n",
      "| epoch   3 |   500/   18 batches | ms/batch 64.10 | loss  0.17789\n",
      "| epoch   3 |   600/   18 batches | ms/batch 64.17 | loss  0.18376\n",
      "| epoch   3 |   700/   18 batches | ms/batch 64.27 | loss  0.18466\n",
      "| epoch   3 |   800/   18 batches | ms/batch 64.44 | loss  0.18449\n",
      "| epoch   3 |   900/   18 batches | ms/batch 64.91 | loss  0.18031\n",
      "| epoch   3 |  1000/   18 batches | ms/batch 64.95 | loss  0.18699\n",
      "| epoch   3 |  1100/   18 batches | ms/batch 64.88 | loss  0.17422\n",
      "| epoch   3 |  1200/   18 batches | ms/batch 65.06 | loss  0.18485\n",
      "| epoch   3 |  1300/   18 batches | ms/batch 64.54 | loss  0.17909\n",
      "| epoch   3 |  1400/   18 batches | ms/batch 64.60 | loss  0.18431\n",
      "| epoch   3 |  1500/   18 batches | ms/batch 64.49 | loss  0.17228\n",
      "| epoch   3 |  1600/   18 batches | ms/batch 64.45 | loss  0.18337\n",
      "| epoch   3 |  1700/   18 batches | ms/batch 64.49 | loss  0.19001\n",
      "| epoch   3 |  1800/   18 batches | ms/batch 64.50 | loss  0.17347\n",
      "| epoch   3 |  1900/   18 batches | ms/batch 64.57 | loss  0.16922\n",
      "| epoch   3 |  2000/   18 batches | ms/batch 64.56 | loss  0.16636\n",
      "| epoch   3 |  2100/   18 batches | ms/batch 64.51 | loss  0.17390\n",
      "| epoch   3 |  2200/   18 batches | ms/batch 64.52 | loss  0.17072\n",
      "| epoch   3 |  2300/   18 batches | ms/batch 78.79 | loss  0.17015\n",
      "syn mse 0.22457002338610196\n",
      "sen_mse 0.08815972630965487\n",
      "-----------------------------------------------------------------------------------------\n",
      "| epoch   4 |   100/   18 batches | ms/batch 65.00 | loss  0.24840\n",
      "| epoch   4 |   200/   18 batches | ms/batch 64.55 | loss  0.23020\n",
      "| epoch   4 |   300/   18 batches | ms/batch 64.76 | loss  0.23184\n",
      "| epoch   4 |   400/   18 batches | ms/batch 64.88 | loss  0.22434\n",
      "| epoch   4 |   500/   18 batches | ms/batch 64.93 | loss  0.23659\n",
      "| epoch   4 |   600/   18 batches | ms/batch 64.90 | loss  0.23267\n",
      "| epoch   4 |   700/   18 batches | ms/batch 65.39 | loss  0.23034\n",
      "| epoch   4 |   800/   18 batches | ms/batch 65.88 | loss  0.23289\n",
      "| epoch   4 |   900/   18 batches | ms/batch 65.98 | loss  0.22784\n",
      "| epoch   4 |  1000/   18 batches | ms/batch 66.00 | loss  0.23778\n",
      "| epoch   4 |  1100/   18 batches | ms/batch 66.09 | loss  0.23858\n",
      "| epoch   4 |  1200/   18 batches | ms/batch 65.98 | loss  0.23268\n",
      "| epoch   4 |  1300/   18 batches | ms/batch 65.96 | loss  0.22390\n",
      "| epoch   4 |  1400/   18 batches | ms/batch 65.24 | loss  0.23180\n",
      "| epoch   4 |  1500/   18 batches | ms/batch 64.83 | loss  0.23081\n",
      "| epoch   4 |  1600/   18 batches | ms/batch 65.11 | loss  0.23661\n",
      "| epoch   4 |  1700/   18 batches | ms/batch 64.88 | loss  0.23334\n",
      "| epoch   4 |  1800/   18 batches | ms/batch 64.99 | loss  0.22580\n",
      "| epoch   4 |  1900/   18 batches | ms/batch 64.84 | loss  0.22550\n",
      "| epoch   4 |  2000/   18 batches | ms/batch 64.82 | loss  0.23151\n",
      "| epoch   4 |  2100/   18 batches | ms/batch 64.87 | loss  0.22961\n",
      "| epoch   4 |  2200/   18 batches | ms/batch 64.95 | loss  0.23122\n",
      "| epoch   4 |  2300/   18 batches | ms/batch 64.87 | loss  0.22916\n",
      "| epoch   4 |   100/   18 batches | ms/batch 65.74 | loss  0.19166\n",
      "| epoch   4 |   200/   18 batches | ms/batch 64.89 | loss  0.17918\n",
      "| epoch   4 |   300/   18 batches | ms/batch 64.89 | loss  0.18517\n",
      "| epoch   4 |   400/   18 batches | ms/batch 64.81 | loss  0.16604\n",
      "| epoch   4 |   500/   18 batches | ms/batch 64.92 | loss  0.17947\n",
      "| epoch   4 |   600/   18 batches | ms/batch 82.24 | loss  0.16836\n",
      "| epoch   4 |   700/   18 batches | ms/batch 64.62 | loss  0.18693\n",
      "| epoch   4 |   800/   18 batches | ms/batch 64.67 | loss  0.18315\n",
      "| epoch   4 |   900/   18 batches | ms/batch 64.68 | loss  0.17209\n",
      "| epoch   4 |  1000/   18 batches | ms/batch 64.67 | loss  0.16567\n",
      "| epoch   4 |  1100/   18 batches | ms/batch 64.69 | loss  0.17458\n",
      "| epoch   4 |  1200/   18 batches | ms/batch 64.68 | loss  0.16869\n",
      "| epoch   4 |  1300/   18 batches | ms/batch 64.81 | loss  0.16942\n",
      "| epoch   4 |  1400/   18 batches | ms/batch 64.59 | loss  0.18366\n",
      "| epoch   4 |  1500/   18 batches | ms/batch 64.47 | loss  0.17354\n",
      "| epoch   4 |  1600/   18 batches | ms/batch 64.48 | loss  0.17506\n",
      "| epoch   4 |  1700/   18 batches | ms/batch 64.48 | loss  0.18240\n",
      "| epoch   4 |  1800/   18 batches | ms/batch 64.62 | loss  0.16480\n",
      "| epoch   4 |  1900/   18 batches | ms/batch 64.46 | loss  0.17851\n",
      "| epoch   4 |  2000/   18 batches | ms/batch 64.44 | loss  0.17113\n",
      "| epoch   4 |  2100/   18 batches | ms/batch 64.37 | loss  0.16156\n",
      "| epoch   4 |  2200/   18 batches | ms/batch 64.34 | loss  0.17112\n",
      "| epoch   4 |  2300/   18 batches | ms/batch 64.94 | loss  0.16650\n",
      "syn mse 0.2151266204885797\n",
      "sen_mse 0.0878093894349699\n",
      "-----------------------------------------------------------------------------------------\n",
      "| epoch   5 |   100/   18 batches | ms/batch 64.15 | loss  0.24138\n",
      "| epoch   5 |   200/   18 batches | ms/batch 64.00 | loss  0.22818\n",
      "| epoch   5 |   300/   18 batches | ms/batch 64.20 | loss  0.23143\n",
      "| epoch   5 |   400/   18 batches | ms/batch 64.30 | loss  0.22878\n",
      "| epoch   5 |   500/   18 batches | ms/batch 64.27 | loss  0.22988\n",
      "| epoch   5 |   600/   18 batches | ms/batch 64.35 | loss  0.22441\n",
      "| epoch   5 |   700/   18 batches | ms/batch 64.53 | loss  0.22529\n",
      "| epoch   5 |   800/   18 batches | ms/batch 64.56 | loss  0.23407\n",
      "| epoch   5 |   900/   18 batches | ms/batch 64.67 | loss  0.22502\n",
      "| epoch   5 |  1000/   18 batches | ms/batch 64.53 | loss  0.22478\n",
      "| epoch   5 |  1100/   18 batches | ms/batch 64.57 | loss  0.22453\n",
      "| epoch   5 |  1200/   18 batches | ms/batch 64.43 | loss  0.22476\n",
      "| epoch   5 |  1300/   18 batches | ms/batch 64.76 | loss  0.22444\n",
      "| epoch   5 |  1400/   18 batches | ms/batch 65.11 | loss  0.22214\n",
      "| epoch   5 |  1500/   18 batches | ms/batch 65.17 | loss  0.22667\n",
      "| epoch   5 |  1600/   18 batches | ms/batch 65.07 | loss  0.21915\n",
      "| epoch   5 |  1700/   18 batches | ms/batch 65.05 | loss  0.23038\n",
      "| epoch   5 |  1800/   18 batches | ms/batch 64.94 | loss  0.22192\n",
      "| epoch   5 |  1900/   18 batches | ms/batch 64.84 | loss  0.22253\n",
      "| epoch   5 |  2000/   18 batches | ms/batch 64.95 | loss  0.22094\n",
      "| epoch   5 |  2100/   18 batches | ms/batch 85.76 | loss  0.22446\n",
      "| epoch   5 |  2200/   18 batches | ms/batch 64.74 | loss  0.22469\n",
      "| epoch   5 |  2300/   18 batches | ms/batch 64.82 | loss  0.21663\n",
      "| epoch   5 |   100/   18 batches | ms/batch 65.70 | loss  0.18750\n",
      "| epoch   5 |   200/   18 batches | ms/batch 64.76 | loss  0.17486\n",
      "| epoch   5 |   300/   18 batches | ms/batch 65.03 | loss  0.18491\n",
      "| epoch   5 |   400/   18 batches | ms/batch 65.13 | loss  0.17137\n",
      "| epoch   5 |   500/   18 batches | ms/batch 64.96 | loss  0.17419\n",
      "| epoch   5 |   600/   18 batches | ms/batch 65.08 | loss  0.17619\n",
      "| epoch   5 |   700/   18 batches | ms/batch 65.07 | loss  0.16497\n",
      "| epoch   5 |   800/   18 batches | ms/batch 65.12 | loss  0.17450\n",
      "| epoch   5 |   900/   18 batches | ms/batch 65.23 | loss  0.16786\n",
      "| epoch   5 |  1000/   18 batches | ms/batch 65.26 | loss  0.17568\n",
      "| epoch   5 |  1100/   18 batches | ms/batch 65.27 | loss  0.16274\n",
      "| epoch   5 |  1200/   18 batches | ms/batch 65.23 | loss  0.17329\n",
      "| epoch   5 |  1300/   18 batches | ms/batch 65.24 | loss  0.16588\n",
      "| epoch   5 |  1400/   18 batches | ms/batch 65.37 | loss  0.16967\n",
      "| epoch   5 |  1500/   18 batches | ms/batch 65.34 | loss  0.15990\n",
      "| epoch   5 |  1600/   18 batches | ms/batch 65.33 | loss  0.16635\n",
      "| epoch   5 |  1700/   18 batches | ms/batch 65.34 | loss  0.16775\n",
      "| epoch   5 |  1800/   18 batches | ms/batch 65.29 | loss  0.17554\n",
      "| epoch   5 |  1900/   18 batches | ms/batch 65.40 | loss  0.17427\n",
      "| epoch   5 |  2000/   18 batches | ms/batch 65.36 | loss  0.17303\n",
      "| epoch   5 |  2100/   18 batches | ms/batch 65.38 | loss  0.16771\n",
      "| epoch   5 |  2200/   18 batches | ms/batch 65.30 | loss  0.16573\n",
      "| epoch   5 |  2300/   18 batches | ms/batch 65.41 | loss  0.15874\n",
      "syn mse 0.20826143481735462\n",
      "sen_mse 0.08820411669175775\n",
      "-----------------------------------------------------------------------------------------\n",
      "| epoch   6 |   100/   18 batches | ms/batch 64.95 | loss  0.22952\n",
      "| epoch   6 |   200/   18 batches | ms/batch 64.02 | loss  0.23040\n",
      "| epoch   6 |   300/   18 batches | ms/batch 64.24 | loss  0.23705\n",
      "| epoch   6 |   400/   18 batches | ms/batch 64.25 | loss  0.21771\n",
      "| epoch   6 |   500/   18 batches | ms/batch 64.27 | loss  0.22849\n",
      "| epoch   6 |   600/   18 batches | ms/batch 64.37 | loss  0.22589\n",
      "| epoch   6 |   700/   18 batches | ms/batch 64.48 | loss  0.21919\n",
      "| epoch   6 |   800/   18 batches | ms/batch 64.53 | loss  0.22072\n",
      "| epoch   6 |   900/   18 batches | ms/batch 64.63 | loss  0.22008\n",
      "| epoch   6 |  1000/   18 batches | ms/batch 64.68 | loss  0.21094\n",
      "| epoch   6 |  1100/   18 batches | ms/batch 65.50 | loss  0.22616\n",
      "| epoch   6 |  1200/   18 batches | ms/batch 65.67 | loss  0.22269\n",
      "| epoch   6 |  1300/   18 batches | ms/batch 65.47 | loss  0.21267\n",
      "| epoch   6 |  1400/   18 batches | ms/batch 64.96 | loss  0.22482\n",
      "| epoch   6 |  1500/   18 batches | ms/batch 64.53 | loss  0.21535\n",
      "| epoch   6 |  1600/   18 batches | ms/batch 64.39 | loss  0.21553\n",
      "| epoch   6 |  1700/   18 batches | ms/batch 64.43 | loss  0.21704\n",
      "| epoch   6 |  1800/   18 batches | ms/batch 64.50 | loss  0.22425\n",
      "| epoch   6 |  1900/   18 batches | ms/batch 64.34 | loss  0.21710\n",
      "| epoch   6 |  2000/   18 batches | ms/batch 64.22 | loss  0.22167\n",
      "| epoch   6 |  2100/   18 batches | ms/batch 64.14 | loss  0.22140\n",
      "| epoch   6 |  2200/   18 batches | ms/batch 89.30 | loss  0.22364\n",
      "| epoch   6 |  2300/   18 batches | ms/batch 63.67 | loss  0.21464\n",
      "| epoch   6 |   100/   18 batches | ms/batch 64.70 | loss  0.17472\n",
      "| epoch   6 |   200/   18 batches | ms/batch 63.98 | loss  0.16648\n",
      "| epoch   6 |   300/   18 batches | ms/batch 64.20 | loss  0.17421\n",
      "| epoch   6 |   400/   18 batches | ms/batch 64.72 | loss  0.16456\n",
      "| epoch   6 |   500/   18 batches | ms/batch 64.82 | loss  0.16902\n",
      "| epoch   6 |   600/   18 batches | ms/batch 64.77 | loss  0.16720\n",
      "| epoch   6 |   700/   18 batches | ms/batch 64.77 | loss  0.17426\n",
      "| epoch   6 |   800/   18 batches | ms/batch 64.77 | loss  0.16860\n",
      "| epoch   6 |   900/   18 batches | ms/batch 64.78 | loss  0.17007\n",
      "| epoch   6 |  1000/   18 batches | ms/batch 64.73 | loss  0.16797\n",
      "| epoch   6 |  1100/   18 batches | ms/batch 64.88 | loss  0.16916\n",
      "| epoch   6 |  1200/   18 batches | ms/batch 64.81 | loss  0.15749\n",
      "| epoch   6 |  1300/   18 batches | ms/batch 64.78 | loss  0.17112\n",
      "| epoch   6 |  1400/   18 batches | ms/batch 64.83 | loss  0.16084\n",
      "| epoch   6 |  1500/   18 batches | ms/batch 64.85 | loss  0.16402\n",
      "| epoch   6 |  1600/   18 batches | ms/batch 64.78 | loss  0.16328\n",
      "| epoch   6 |  1700/   18 batches | ms/batch 64.69 | loss  0.17556\n",
      "| epoch   6 |  1800/   18 batches | ms/batch 64.71 | loss  0.16850\n",
      "| epoch   6 |  1900/   18 batches | ms/batch 64.51 | loss  0.17020\n",
      "| epoch   6 |  2000/   18 batches | ms/batch 64.74 | loss  0.17053\n",
      "| epoch   6 |  2100/   18 batches | ms/batch 64.74 | loss  0.16472\n",
      "| epoch   6 |  2200/   18 batches | ms/batch 64.61 | loss  0.15573\n",
      "| epoch   6 |  2300/   18 batches | ms/batch 64.72 | loss  0.16707\n",
      "syn mse 0.20467287332376113\n",
      "sen_mse 0.08909818069639351\n",
      "-----------------------------------------------------------------------------------------\n",
      "| epoch   7 |   100/   18 batches | ms/batch 64.34 | loss  0.22209\n",
      "| epoch   7 |   200/   18 batches | ms/batch 64.07 | loss  0.21492\n",
      "| epoch   7 |   300/   18 batches | ms/batch 64.25 | loss  0.23058\n",
      "| epoch   7 |   400/   18 batches | ms/batch 64.43 | loss  0.21942\n",
      "| epoch   7 |   500/   18 batches | ms/batch 64.36 | loss  0.22310\n",
      "| epoch   7 |   600/   18 batches | ms/batch 64.54 | loss  0.22438\n",
      "| epoch   7 |   700/   18 batches | ms/batch 64.56 | loss  0.21777\n",
      "| epoch   7 |   800/   18 batches | ms/batch 64.79 | loss  0.22274\n",
      "| epoch   7 |   900/   18 batches | ms/batch 64.74 | loss  0.22066\n",
      "| epoch   7 |  1000/   18 batches | ms/batch 64.70 | loss  0.20632\n",
      "| epoch   7 |  1100/   18 batches | ms/batch 64.57 | loss  0.22030\n",
      "| epoch   7 |  1200/   18 batches | ms/batch 64.69 | loss  0.21776\n",
      "| epoch   7 |  1300/   18 batches | ms/batch 64.85 | loss  0.21882\n",
      "| epoch   7 |  1400/   18 batches | ms/batch 64.72 | loss  0.21903\n",
      "| epoch   7 |  1500/   18 batches | ms/batch 64.65 | loss  0.21824\n",
      "| epoch   7 |  1600/   18 batches | ms/batch 64.47 | loss  0.22060\n",
      "| epoch   7 |  1700/   18 batches | ms/batch 64.29 | loss  0.22209\n",
      "| epoch   7 |  1800/   18 batches | ms/batch 64.39 | loss  0.20859\n",
      "| epoch   7 |  1900/   18 batches | ms/batch 64.29 | loss  0.21463\n",
      "| epoch   7 |  2000/   18 batches | ms/batch 64.29 | loss  0.21234\n",
      "| epoch   7 |  2100/   18 batches | ms/batch 64.19 | loss  0.21409\n",
      "| epoch   7 |  2200/   18 batches | ms/batch 64.24 | loss  0.20553\n",
      "| epoch   7 |  2300/   18 batches | ms/batch 64.31 | loss  0.21529\n",
      "| epoch   7 |   100/   18 batches | ms/batch 65.41 | loss  0.17418\n",
      "| epoch   7 |   200/   18 batches | ms/batch 64.99 | loss  0.16138\n",
      "| epoch   7 |   300/   18 batches | ms/batch 64.94 | loss  0.17174\n",
      "| epoch   7 |   400/   18 batches | ms/batch 64.89 | loss  0.15638\n",
      "| epoch   7 |   500/   18 batches | ms/batch 64.40 | loss  0.17093\n",
      "| epoch   7 |   600/   18 batches | ms/batch 64.09 | loss  0.16861\n",
      "| epoch   7 |   700/   18 batches | ms/batch 63.99 | loss  0.16112\n",
      "| epoch   7 |   800/   18 batches | ms/batch 63.98 | loss  0.16548\n",
      "| epoch   7 |   900/   18 batches | ms/batch 63.85 | loss  0.15994\n",
      "| epoch   7 |  1000/   18 batches | ms/batch 63.88 | loss  0.16216\n",
      "| epoch   7 |  1100/   18 batches | ms/batch 63.90 | loss  0.16483\n",
      "| epoch   7 |  1200/   18 batches | ms/batch 94.57 | loss  0.16532\n",
      "| epoch   7 |  1300/   18 batches | ms/batch 63.35 | loss  0.16592\n",
      "| epoch   7 |  1400/   18 batches | ms/batch 63.61 | loss  0.16508\n",
      "| epoch   7 |  1500/   18 batches | ms/batch 63.57 | loss  0.16535\n",
      "| epoch   7 |  1600/   18 batches | ms/batch 63.64 | loss  0.16169\n",
      "| epoch   7 |  1700/   18 batches | ms/batch 63.78 | loss  0.16137\n",
      "| epoch   7 |  1800/   18 batches | ms/batch 64.53 | loss  0.17068\n",
      "| epoch   7 |  1900/   18 batches | ms/batch 64.67 | loss  0.16147\n",
      "| epoch   7 |  2000/   18 batches | ms/batch 64.51 | loss  0.16897\n",
      "| epoch   7 |  2100/   18 batches | ms/batch 64.63 | loss  0.16873\n",
      "| epoch   7 |  2200/   18 batches | ms/batch 64.44 | loss  0.16589\n",
      "| epoch   7 |  2300/   18 batches | ms/batch 64.71 | loss  0.15991\n",
      "syn mse 0.19934043171855104\n",
      "sen_mse 0.08910459249655135\n",
      "-----------------------------------------------------------------------------------------\n",
      "| epoch   8 |   100/   18 batches | ms/batch 64.41 | loss  0.23189\n",
      "| epoch   8 |   200/   18 batches | ms/batch 64.02 | loss  0.20750\n",
      "| epoch   8 |   300/   18 batches | ms/batch 64.38 | loss  0.21593\n",
      "| epoch   8 |   400/   18 batches | ms/batch 64.36 | loss  0.21536\n",
      "| epoch   8 |   500/   18 batches | ms/batch 64.40 | loss  0.22152\n",
      "| epoch   8 |   600/   18 batches | ms/batch 64.52 | loss  0.21439\n",
      "| epoch   8 |   700/   18 batches | ms/batch 64.66 | loss  0.21437\n",
      "| epoch   8 |   800/   18 batches | ms/batch 64.75 | loss  0.21517\n",
      "| epoch   8 |   900/   18 batches | ms/batch 64.66 | loss  0.21374\n",
      "| epoch   8 |  1000/   18 batches | ms/batch 64.77 | loss  0.21544\n",
      "| epoch   8 |  1100/   18 batches | ms/batch 64.75 | loss  0.20966\n",
      "| epoch   8 |  1200/   18 batches | ms/batch 64.77 | loss  0.21049\n",
      "| epoch   8 |  1300/   18 batches | ms/batch 64.88 | loss  0.21398\n",
      "| epoch   8 |  1400/   18 batches | ms/batch 64.83 | loss  0.21394\n",
      "| epoch   8 |  1500/   18 batches | ms/batch 64.94 | loss  0.21823\n",
      "| epoch   8 |  1600/   18 batches | ms/batch 64.93 | loss  0.21694\n",
      "| epoch   8 |  1700/   18 batches | ms/batch 64.79 | loss  0.21223\n",
      "| epoch   8 |  1800/   18 batches | ms/batch 64.87 | loss  0.21233\n",
      "| epoch   8 |  1900/   18 batches | ms/batch 64.92 | loss  0.20548\n",
      "| epoch   8 |  2000/   18 batches | ms/batch 64.92 | loss  0.20663\n",
      "| epoch   8 |  2100/   18 batches | ms/batch 64.94 | loss  0.21589\n",
      "| epoch   8 |  2200/   18 batches | ms/batch 64.99 | loss  0.21096\n",
      "| epoch   8 |  2300/   18 batches | ms/batch 64.93 | loss  0.20795\n",
      "| epoch   8 |   100/   18 batches | ms/batch 65.88 | loss  0.16566\n",
      "| epoch   8 |   200/   18 batches | ms/batch 65.01 | loss  0.17108\n",
      "| epoch   8 |   300/   18 batches | ms/batch 65.14 | loss  0.15709\n",
      "| epoch   8 |   400/   18 batches | ms/batch 65.90 | loss  0.16469\n",
      "| epoch   8 |   500/   18 batches | ms/batch 65.15 | loss  0.16886\n",
      "| epoch   8 |   600/   18 batches | ms/batch 65.00 | loss  0.16271\n",
      "| epoch   8 |   700/   18 batches | ms/batch 64.32 | loss  0.17054\n",
      "| epoch   8 |   800/   18 batches | ms/batch 64.28 | loss  0.16548\n",
      "| epoch   8 |   900/   18 batches | ms/batch 64.47 | loss  0.16231\n",
      "| epoch   8 |  1000/   18 batches | ms/batch 64.33 | loss  0.16076\n",
      "| epoch   8 |  1100/   18 batches | ms/batch 64.20 | loss  0.16225\n",
      "| epoch   8 |  1200/   18 batches | ms/batch 64.27 | loss  0.16129\n",
      "| epoch   8 |  1300/   18 batches | ms/batch 64.19 | loss  0.15776\n",
      "| epoch   8 |  1400/   18 batches | ms/batch 64.28 | loss  0.16765\n",
      "| epoch   8 |  1500/   18 batches | ms/batch 64.54 | loss  0.15683\n",
      "| epoch   8 |  1600/   18 batches | ms/batch 65.55 | loss  0.16223\n",
      "| epoch   8 |  1700/   18 batches | ms/batch 65.43 | loss  0.15506\n",
      "| epoch   8 |  1800/   18 batches | ms/batch 65.22 | loss  0.15865\n",
      "| epoch   8 |  1900/   18 batches | ms/batch 64.79 | loss  0.16261\n",
      "| epoch   8 |  2000/   18 batches | ms/batch 64.10 | loss  0.16541\n",
      "| epoch   8 |  2100/   18 batches | ms/batch 64.08 | loss  0.15660\n",
      "| epoch   8 |  2200/   18 batches | ms/batch 64.16 | loss  0.16476\n",
      "| epoch   8 |  2300/   18 batches | ms/batch 64.08 | loss  0.16571\n",
      "syn mse 0.18707780562758647\n",
      "sen_mse 0.09010832419014948\n",
      "-----------------------------------------------------------------------------------------\n",
      "| epoch   9 |   100/   18 batches | ms/batch 63.74 | loss  0.22775\n",
      "| epoch   9 |   200/   18 batches | ms/batch 63.31 | loss  0.21153\n",
      "| epoch   9 |   300/   18 batches | ms/batch 63.45 | loss  0.21347\n",
      "| epoch   9 |   400/   18 batches | ms/batch 63.55 | loss  0.21558\n",
      "| epoch   9 |   500/   18 batches | ms/batch 63.55 | loss  0.21624\n",
      "| epoch   9 |   600/   18 batches | ms/batch 64.45 | loss  0.20914\n",
      "| epoch   9 |   700/   18 batches | ms/batch 65.54 | loss  0.21077\n",
      "| epoch   9 |   800/   18 batches | ms/batch 65.23 | loss  0.21292\n",
      "| epoch   9 |   900/   18 batches | ms/batch 65.21 | loss  0.20243\n",
      "| epoch   9 |  1000/   18 batches | ms/batch 65.27 | loss  0.21058\n",
      "| epoch   9 |  1100/   18 batches | ms/batch 102.41 | loss  0.21570\n",
      "| epoch   9 |  1200/   18 batches | ms/batch 64.18 | loss  0.20971\n",
      "| epoch   9 |  1300/   18 batches | ms/batch 64.48 | loss  0.21001\n",
      "| epoch   9 |  1400/   18 batches | ms/batch 64.50 | loss  0.21152\n",
      "| epoch   9 |  1500/   18 batches | ms/batch 64.57 | loss  0.20926\n",
      "| epoch   9 |  1600/   18 batches | ms/batch 64.73 | loss  0.20704\n",
      "| epoch   9 |  1700/   18 batches | ms/batch 64.68 | loss  0.20695\n",
      "| epoch   9 |  1800/   18 batches | ms/batch 64.74 | loss  0.21323\n",
      "| epoch   9 |  1900/   18 batches | ms/batch 64.72 | loss  0.21103\n",
      "| epoch   9 |  2000/   18 batches | ms/batch 64.77 | loss  0.20146\n",
      "| epoch   9 |  2100/   18 batches | ms/batch 64.75 | loss  0.20448\n",
      "| epoch   9 |  2200/   18 batches | ms/batch 64.84 | loss  0.21643\n",
      "| epoch   9 |  2300/   18 batches | ms/batch 64.76 | loss  0.20880\n",
      "| epoch   9 |   100/   18 batches | ms/batch 65.67 | loss  0.16611\n",
      "| epoch   9 |   200/   18 batches | ms/batch 64.97 | loss  0.16688\n",
      "| epoch   9 |   300/   18 batches | ms/batch 64.97 | loss  0.16169\n",
      "| epoch   9 |   400/   18 batches | ms/batch 64.86 | loss  0.15350\n",
      "| epoch   9 |   500/   18 batches | ms/batch 64.81 | loss  0.15500\n",
      "| epoch   9 |   600/   18 batches | ms/batch 64.86 | loss  0.17103\n",
      "| epoch   9 |   700/   18 batches | ms/batch 64.87 | loss  0.15587\n",
      "| epoch   9 |   800/   18 batches | ms/batch 64.85 | loss  0.16219\n",
      "| epoch   9 |   900/   18 batches | ms/batch 64.79 | loss  0.15474\n",
      "| epoch   9 |  1000/   18 batches | ms/batch 64.95 | loss  0.15711\n",
      "| epoch   9 |  1100/   18 batches | ms/batch 65.19 | loss  0.16073\n",
      "| epoch   9 |  1200/   18 batches | ms/batch 65.28 | loss  0.15885\n",
      "| epoch   9 |  1300/   18 batches | ms/batch 65.27 | loss  0.15893\n",
      "| epoch   9 |  1400/   18 batches | ms/batch 65.27 | loss  0.16448\n",
      "| epoch   9 |  1500/   18 batches | ms/batch 64.74 | loss  0.16345\n",
      "| epoch   9 |  1600/   18 batches | ms/batch 64.76 | loss  0.15812\n",
      "| epoch   9 |  1700/   18 batches | ms/batch 64.58 | loss  0.16506\n",
      "| epoch   9 |  1800/   18 batches | ms/batch 64.61 | loss  0.17054\n",
      "| epoch   9 |  1900/   18 batches | ms/batch 64.54 | loss  0.15207\n",
      "| epoch   9 |  2000/   18 batches | ms/batch 64.36 | loss  0.16045\n",
      "| epoch   9 |  2100/   18 batches | ms/batch 63.78 | loss  0.16086\n",
      "| epoch   9 |  2200/   18 batches | ms/batch 63.79 | loss  0.15384\n",
      "| epoch   9 |  2300/   18 batches | ms/batch 63.87 | loss  0.15983\n",
      "syn mse 0.18386133579325392\n",
      "sen_mse 0.08963999723942859\n",
      "-----------------------------------------------------------------------------------------\n",
      "| epoch  10 |   100/   18 batches | ms/batch 63.55 | loss  0.21663\n",
      "| epoch  10 |   200/   18 batches | ms/batch 63.28 | loss  0.21753\n",
      "| epoch  10 |   300/   18 batches | ms/batch 63.98 | loss  0.21139\n",
      "| epoch  10 |   400/   18 batches | ms/batch 64.29 | loss  0.20405\n",
      "| epoch  10 |   500/   18 batches | ms/batch 64.62 | loss  0.21202\n",
      "| epoch  10 |   600/   18 batches | ms/batch 64.63 | loss  0.20875\n",
      "| epoch  10 |   700/   18 batches | ms/batch 64.39 | loss  0.22063\n",
      "| epoch  10 |   800/   18 batches | ms/batch 64.25 | loss  0.20335\n",
      "| epoch  10 |   900/   18 batches | ms/batch 64.39 | loss  0.21105\n",
      "| epoch  10 |  1000/   18 batches | ms/batch 64.35 | loss  0.20642\n",
      "| epoch  10 |  1100/   18 batches | ms/batch 64.33 | loss  0.20260\n",
      "| epoch  10 |  1200/   18 batches | ms/batch 64.49 | loss  0.21925\n",
      "| epoch  10 |  1300/   18 batches | ms/batch 64.39 | loss  0.20763\n",
      "| epoch  10 |  1400/   18 batches | ms/batch 64.52 | loss  0.21103\n",
      "| epoch  10 |  1500/   18 batches | ms/batch 64.77 | loss  0.21300\n",
      "| epoch  10 |  1600/   18 batches | ms/batch 64.54 | loss  0.21577\n",
      "| epoch  10 |  1700/   18 batches | ms/batch 64.68 | loss  0.21236\n",
      "| epoch  10 |  1800/   18 batches | ms/batch 64.58 | loss  0.21292\n",
      "| epoch  10 |  1900/   18 batches | ms/batch 64.58 | loss  0.20708\n",
      "| epoch  10 |  2000/   18 batches | ms/batch 65.20 | loss  0.20761\n",
      "| epoch  10 |  2100/   18 batches | ms/batch 65.11 | loss  0.20885\n",
      "| epoch  10 |  2200/   18 batches | ms/batch 64.97 | loss  0.21189\n",
      "| epoch  10 |  2300/   18 batches | ms/batch 65.00 | loss  0.20778\n",
      "| epoch  10 |   100/   18 batches | ms/batch 65.97 | loss  0.16304\n",
      "| epoch  10 |   200/   18 batches | ms/batch 65.23 | loss  0.16080\n",
      "| epoch  10 |   300/   18 batches | ms/batch 65.37 | loss  0.16057\n",
      "| epoch  10 |   400/   18 batches | ms/batch 65.37 | loss  0.16225\n",
      "| epoch  10 |   500/   18 batches | ms/batch 65.42 | loss  0.15547\n",
      "| epoch  10 |   600/   18 batches | ms/batch 65.36 | loss  0.16745\n",
      "| epoch  10 |   700/   18 batches | ms/batch 65.60 | loss  0.16300\n",
      "| epoch  10 |   800/   18 batches | ms/batch 65.37 | loss  0.16689\n",
      "| epoch  10 |   900/   18 batches | ms/batch 65.39 | loss  0.15724\n",
      "| epoch  10 |  1000/   18 batches | ms/batch 65.35 | loss  0.15699\n",
      "| epoch  10 |  1100/   18 batches | ms/batch 65.44 | loss  0.15230\n",
      "| epoch  10 |  1200/   18 batches | ms/batch 65.28 | loss  0.16267\n",
      "| epoch  10 |  1300/   18 batches | ms/batch 65.35 | loss  0.15448\n",
      "| epoch  10 |  1400/   18 batches | ms/batch 64.78 | loss  0.16518\n",
      "| epoch  10 |  1500/   18 batches | ms/batch 64.75 | loss  0.15430\n",
      "| epoch  10 |  1600/   18 batches | ms/batch 64.68 | loss  0.16270\n",
      "| epoch  10 |  1700/   18 batches | ms/batch 64.81 | loss  0.15425\n",
      "| epoch  10 |  1800/   18 batches | ms/batch 64.81 | loss  0.16837\n",
      "| epoch  10 |  1900/   18 batches | ms/batch 64.81 | loss  0.15849\n",
      "| epoch  10 |  2000/   18 batches | ms/batch 64.64 | loss  0.15316\n",
      "| epoch  10 |  2100/   18 batches | ms/batch 64.74 | loss  0.16070\n",
      "| epoch  10 |  2200/   18 batches | ms/batch 64.78 | loss  0.16036\n",
      "| epoch  10 |  2300/   18 batches | ms/batch 64.70 | loss  0.16282\n",
      "syn mse 0.17977936360953417\n",
      "sen_mse 0.08998357257940166\n",
      "-----------------------------------------------------------------------------------------\n"
     ]
    }
   ],
   "source": [
    "best_val_loss = None\n",
    "try:\n",
    "    for epoch in range(1, epochs+1):\n",
    "        epoch_start_time = time.time()\n",
    "        training(False, train_loader)\n",
    "        training(True, train_loader)\n",
    "        evaluate(test_loader)\n",
    "        print('-'*89)\n",
    "except KeyboardInterrupt:\n",
    "    print('-'*89)\n",
    "    print('Existing from training early')"
   ]
  },
  {
   "cell_type": "code",
   "execution_count": 87,
   "metadata": {},
   "outputs": [],
   "source": [
    "model_name = 'id_feat_gene_4'"
   ]
  },
  {
   "cell_type": "code",
   "execution_count": 88,
   "metadata": {},
   "outputs": [],
   "source": [
    "#model save\n",
    "torch.save(model.state_dict(), f'{DATA_PATH}/models/{model_name}.p')"
   ]
  },
  {
   "cell_type": "code",
   "execution_count": 89,
   "metadata": {},
   "outputs": [
    {
     "data": {
      "text/plain": [
       "Comb(\n",
       "  (drugEncoder): DrugEncoder(\n",
       "    (embed_comp): Embedding(48, 48, padding_idx=0)\n",
       "    (encoderlayer): TransformerEncoderLayer(\n",
       "      (self_attn): MultiheadAttention(\n",
       "        (out_proj): NonDynamicallyQuantizableLinear(in_features=48, out_features=48, bias=True)\n",
       "      )\n",
       "      (linear1): Linear(in_features=48, out_features=2048, bias=True)\n",
       "      (dropout): Dropout(p=0.1, inplace=False)\n",
       "      (linear2): Linear(in_features=2048, out_features=48, bias=True)\n",
       "      (norm1): LayerNorm((48,), eps=1e-05, elementwise_affine=True)\n",
       "      (norm2): LayerNorm((48,), eps=1e-05, elementwise_affine=True)\n",
       "      (dropout1): Dropout(p=0.1, inplace=False)\n",
       "      (dropout2): Dropout(p=0.1, inplace=False)\n",
       "    )\n",
       "    (encoder): TransformerEncoder(\n",
       "      (layers): ModuleList(\n",
       "        (0): TransformerEncoderLayer(\n",
       "          (self_attn): MultiheadAttention(\n",
       "            (out_proj): NonDynamicallyQuantizableLinear(in_features=48, out_features=48, bias=True)\n",
       "          )\n",
       "          (linear1): Linear(in_features=48, out_features=2048, bias=True)\n",
       "          (dropout): Dropout(p=0.1, inplace=False)\n",
       "          (linear2): Linear(in_features=2048, out_features=48, bias=True)\n",
       "          (norm1): LayerNorm((48,), eps=1e-05, elementwise_affine=True)\n",
       "          (norm2): LayerNorm((48,), eps=1e-05, elementwise_affine=True)\n",
       "          (dropout1): Dropout(p=0.1, inplace=False)\n",
       "          (dropout2): Dropout(p=0.1, inplace=False)\n",
       "        )\n",
       "      )\n",
       "    )\n",
       "    (dense_fp): Linear(in_features=167, out_features=32, bias=True)\n",
       "    (dense_gene): Linear(in_features=64, out_features=32, bias=True)\n",
       "    (conv): Conv2d(1, 1, kernel_size=(1, 48), stride=(1, 1))\n",
       "    (FC2): FC2(\n",
       "      (bn): BatchNorm1d(352, eps=1e-05, momentum=0.1, affine=True, track_running_stats=True)\n",
       "      (fc1): Linear(in_features=352, out_features=176, bias=True)\n",
       "      (fc2): Linear(in_features=176, out_features=64, bias=True)\n",
       "      (dropout): Dropout(p=0.3, inplace=False)\n",
       "    )\n",
       "  )\n",
       "  (cellEncoder): CellEncoder(\n",
       "    (embed_ds): Embedding(42, 42, padding_idx=3)\n",
       "    (dense_gene): Linear(in_features=128, out_features=64, bias=True)\n",
       "    (FC2): FC2(\n",
       "      (bn): BatchNorm1d(106, eps=1e-05, momentum=0.1, affine=True, track_running_stats=True)\n",
       "      (fc1): Linear(in_features=106, out_features=53, bias=True)\n",
       "      (fc2): Linear(in_features=53, out_features=64, bias=True)\n",
       "      (dropout): Dropout(p=0.3, inplace=False)\n",
       "    )\n",
       "  )\n",
       "  (fc_syn): FC2(\n",
       "    (bn): BatchNorm1d(192, eps=1e-05, momentum=0.1, affine=True, track_running_stats=True)\n",
       "    (fc1): Linear(in_features=192, out_features=96, bias=True)\n",
       "    (fc2): Linear(in_features=96, out_features=1, bias=True)\n",
       "    (dropout): Dropout(p=0.3, inplace=False)\n",
       "  )\n",
       "  (fc_ri): FC2(\n",
       "    (bn): BatchNorm1d(128, eps=1e-05, momentum=0.1, affine=True, track_running_stats=True)\n",
       "    (fc1): Linear(in_features=128, out_features=64, bias=True)\n",
       "    (fc2): Linear(in_features=64, out_features=1, bias=True)\n",
       "    (dropout): Dropout(p=0.3, inplace=False)\n",
       "  )\n",
       ")"
      ]
     },
     "execution_count": 89,
     "metadata": {},
     "output_type": "execute_result"
    }
   ],
   "source": [
    "#model load\n",
    "model.load_state_dict(torch.load(f'{DATA_PATH}/models/{model_name}.p'))\n",
    "model.eval()"
   ]
  },
  {
   "cell_type": "markdown",
   "metadata": {},
   "source": [
    "#### <a id='toc1_4_3_7_'></a>[Evaluation](#toc0_)"
   ]
  },
  {
   "cell_type": "markdown",
   "metadata": {},
   "source": [
    "##### <a id='toc1_4_3_7_1_'></a>[Evaluation Metrics](#toc0_)\n",
    "\n",
    "The model's performance is evaluated using several metrics:\n",
    "\n",
    "**Area Under the Receiver Operating Characteristic Curve (AUC-ROC)**\n",
    "\n",
    "This metric evaluates the binary classification performance of the model at various threshold settings. AUC-ROC is a plot of true positive rate against false positive rate at different classification thresholds, and the AUC provides a single scalar value to indicate performance.\n",
    "\n",
    "**Normalized Discounted Cumulative Gain (NDCG)**\n",
    "\n",
    "Used in ranking problems, NDCG measures the performance of ranking predictions based on their relevance. It gives more importance to higher-ranked items, thus accommodating the notion that hits at the top of the ranking are more valuable than hits at lower ranks."
   ]
  },
  {
   "cell_type": "code",
   "execution_count": 90,
   "metadata": {},
   "outputs": [],
   "source": [
    "def dcg_score(y_score, y_true, k):\n",
    "    \"\"\"\n",
    "        https://www.kaggle.com/davidgasquez/ndcg-scorer\n",
    "        y_true: np.array, size= [n_samples]\n",
    "        y_score: np.array, size=[n_samples]\n",
    "        k: int, rank\n",
    "    \"\"\"\n",
    "    order = np.argsort(y_score)[::-1]\n",
    "    y_true = np.take(y_true, order[:k])\n",
    "    \n",
    "    #gain = 2 ** y_true -1\n",
    "    gain = y_true \n",
    "    \n",
    "    discounts = np.log2(np.arange(len(y_true)) + 2)\n",
    "    return np.sum(gain/discounts)\n",
    "\n",
    "def evaluate_accuracy(data_loader):\n",
    "    model.eval()\n",
    "    \n",
    "    syn_all=[]\n",
    "    syn_true_all=[]\n",
    "    ri1_all=[]\n",
    "    ri1_true_all=[]\n",
    "    ri2_all=[]\n",
    "    ri2_true_all=[]\n",
    "    \n",
    "    #loss\n",
    "    with torch.no_grad():\n",
    "        for iteration, sample in enumerate(data_loader):\n",
    "            d1=Variable(sample['d1'])\n",
    "            d1_fp = Variable(sample['d1_fp'].float())\n",
    "            d1_sm = Variable(sample['d1_sm'])\n",
    "            d1_gn = Variable(sample['d1_gn'].float())\n",
    "\n",
    "            d2=Variable(sample['d2'])\n",
    "            d2_fp = Variable(sample['d2_fp'].float())\n",
    "            d2_sm = Variable(sample['d2_sm'])\n",
    "            d2_gn = Variable(sample['d2_gn'].float())\n",
    "\n",
    "            cell = Variable(sample['cell'])\n",
    "            c_ts = Variable(sample['c_ts'])\n",
    "            c_ds = Variable(sample['c_ds'])\n",
    "            c_gn = Variable(sample['c_gn'].float())\n",
    "\n",
    "            syn_true = Variable(sample['syn'].float())\n",
    "            ri_d1=Variable(sample['ri_d1'])\n",
    "            ri_d2=Variable(sample['ri_d2'])\n",
    "\n",
    "\n",
    "            if cuda:\n",
    "                d1=d1.cuda()\n",
    "                d1_fp=d1_fp.cuda()\n",
    "                d1_sm=d1_sm.cuda()\n",
    "                d1_gn=d1_gn.cuda()\n",
    "\n",
    "                d2=d2.cuda()\n",
    "                d2_fp=d2_fp.cuda()\n",
    "                d2_sm=d2_sm.cuda()\n",
    "                d2_gn=d2_gn.cuda()\n",
    "\n",
    "                cell=cell.cuda()\n",
    "                c_ts=c_ts.cuda()\n",
    "                c_ds=c_ds.cuda()\n",
    "                c_gn=c_gn.cuda()\n",
    "\n",
    "\n",
    "            syn,ri1,ri2 = model((d1, d1_fp, d1_sm, d1_gn), (d2, d2_fp, d2_sm, d2_gn), (cell, c_ts,c_ds,c_gn) )\n",
    "            \n",
    "            syn_all.append(syn.data.cpu().numpy())\n",
    "            syn_true_all.append(syn_true.numpy())\n",
    "            \n",
    "            ri1_all.append(ri1.data.cpu().numpy())\n",
    "            ri1_true_all.append(ri_d1.numpy())\n",
    "            \n",
    "            ri2_all.append(ri2.data.cpu().numpy())\n",
    "            ri2_true_all.append(ri_d2.numpy())\n",
    "            \n",
    "    return syn_all, syn_true_all, ri1_all, ri1_true_all, ri2_all, ri2_true_all\n"
   ]
  },
  {
   "cell_type": "markdown",
   "metadata": {},
   "source": [
    "Evaluate synergy prediction"
   ]
  },
  {
   "cell_type": "code",
   "execution_count": 91,
   "metadata": {},
   "outputs": [],
   "source": [
    "syn_all, syn_true_all, ri1_all, ri1_true_all, ri2_all, ri2_true_all= evaluate_accuracy(test_loader)\n",
    "\n",
    "syn_all= [s.item() for syn in syn_all for s in syn]\n",
    "syn_true_all = [s for syn in syn_true_all for s in syn]"
   ]
  },
  {
   "cell_type": "code",
   "execution_count": 92,
   "metadata": {},
   "outputs": [
    {
     "data": {
      "text/plain": [
       "1.0"
      ]
     },
     "execution_count": 92,
     "metadata": {},
     "output_type": "execute_result"
    }
   ],
   "source": [
    "#NDCG\n",
    "dcg_score(syn_all,syn_true_all, k=20)/dcg_score(syn_true_all,syn_true_all, k=20)"
   ]
  },
  {
   "cell_type": "code",
   "execution_count": 93,
   "metadata": {},
   "outputs": [
    {
     "data": {
      "text/plain": [
       "0.8592733054759554"
      ]
     },
     "execution_count": 93,
     "metadata": {},
     "output_type": "execute_result"
    }
   ],
   "source": [
    "#AUPRC\n",
    "metrics.average_precision_score(syn_true_all,  1/(1 + np.exp(-np.array(syn_all))))"
   ]
  },
  {
   "cell_type": "code",
   "execution_count": 94,
   "metadata": {},
   "outputs": [
    {
     "data": {
      "text/plain": [
       "0.9637493233172485"
      ]
     },
     "execution_count": 94,
     "metadata": {},
     "output_type": "execute_result"
    }
   ],
   "source": [
    "#AUROC\n",
    "metrics.roc_auc_score(syn_true_all,  1/(1 + np.exp(-np.array(syn_all))))"
   ]
  },
  {
   "cell_type": "markdown",
   "metadata": {},
   "source": [
    "Evaluate sensitivity prediction"
   ]
  },
  {
   "cell_type": "code",
   "execution_count": 95,
   "metadata": {},
   "outputs": [],
   "source": [
    "ri1_all= [r.item() for ri in ri1_all for r in ri]\n",
    "ri1_true_all = [r for ri in ri1_true_all for r in ri]\n",
    "\n",
    "ri2_all= [r.item() for ri in ri2_all for r in ri]\n",
    "ri2_true_all = [r for ri in ri2_true_all for r in ri]\n",
    "\n",
    "ri_all=ri1_all+ri2_all\n",
    "ri_true_all=ri1_true_all+ri2_true_all"
   ]
  },
  {
   "cell_type": "code",
   "execution_count": 96,
   "metadata": {},
   "outputs": [
    {
     "data": {
      "text/plain": [
       "0.1481379966891306"
      ]
     },
     "execution_count": 96,
     "metadata": {},
     "output_type": "execute_result"
    }
   ],
   "source": [
    "#NDCG\n",
    "dcg_score(ri_all,ri_true_all, k=20)/dcg_score(ri_true_all,ri_true_all, k=20)"
   ]
  },
  {
   "cell_type": "code",
   "execution_count": 97,
   "metadata": {},
   "outputs": [
    {
     "data": {
      "text/plain": [
       "0.8505135065203695"
      ]
     },
     "execution_count": 97,
     "metadata": {},
     "output_type": "execute_result"
    }
   ],
   "source": [
    "#AUC\n",
    "metrics.roc_auc_score(ri_true_all,  1/(1 + np.exp(-np.array(ri_all))))"
   ]
  },
  {
   "cell_type": "markdown",
   "metadata": {},
   "source": [
    "#### <a id='toc1_4_3_8_'></a>[Train Specific Model](#toc0_)"
   ]
  },
  {
   "cell_type": "markdown",
   "metadata": {},
   "source": [
    "If you want to boost a bit more with general model's test set"
   ]
  },
  {
   "cell_type": "code",
   "execution_count": 98,
   "metadata": {},
   "outputs": [
    {
     "name": "stdout",
     "output_type": "stream",
     "text": [
      "| epoch  10 |   100/   18 batches | ms/batch 64.32 | loss  0.22585\n",
      "| epoch  10 |   200/   18 batches | ms/batch 63.49 | loss  0.21658\n",
      "| epoch  10 |   300/   18 batches | ms/batch 63.85 | loss  0.21068\n",
      "| epoch  10 |   400/   18 batches | ms/batch 64.02 | loss  0.21123\n",
      "| epoch  10 |   500/   18 batches | ms/batch 64.44 | loss  0.20478\n",
      "| epoch  10 |   100/   18 batches | ms/batch 65.53 | loss  0.17140\n",
      "| epoch  10 |   200/   18 batches | ms/batch 65.00 | loss  0.16609\n",
      "| epoch  10 |   300/   18 batches | ms/batch 65.09 | loss  0.16322\n",
      "| epoch  10 |   400/   18 batches | ms/batch 65.36 | loss  0.16001\n",
      "| epoch  10 |   500/   18 batches | ms/batch 65.37 | loss  0.15451\n"
     ]
    }
   ],
   "source": [
    "#Use major's test set\n",
    "training(False, test_loader)\n",
    "training(True, test_loader)"
   ]
  },
  {
   "cell_type": "markdown",
   "metadata": {},
   "source": [
    "##### <a id='toc1_4_3_8_1_'></a>[Freeze layers](#toc0_)"
   ]
  },
  {
   "cell_type": "markdown",
   "metadata": {},
   "source": [
    "Examine the layer's ID that we'd like to fix or free"
   ]
  },
  {
   "cell_type": "code",
   "execution_count": 99,
   "metadata": {},
   "outputs": [
    {
     "name": "stdout",
     "output_type": "stream",
     "text": [
      "0 torch.Size([48, 48]) True\n",
      "1 torch.Size([144, 48]) True\n",
      "2 torch.Size([144]) True\n",
      "3 torch.Size([48, 48]) True\n",
      "4 torch.Size([48]) True\n",
      "5 torch.Size([2048, 48]) True\n",
      "6 torch.Size([2048]) True\n",
      "7 torch.Size([48, 2048]) True\n",
      "8 torch.Size([48]) True\n",
      "9 torch.Size([48]) True\n",
      "10 torch.Size([48]) True\n",
      "11 torch.Size([48]) True\n",
      "12 torch.Size([48]) True\n",
      "13 torch.Size([144, 48]) True\n",
      "14 torch.Size([144]) True\n",
      "15 torch.Size([48, 48]) True\n",
      "16 torch.Size([48]) True\n",
      "17 torch.Size([2048, 48]) True\n",
      "18 torch.Size([2048]) True\n",
      "19 torch.Size([48, 2048]) True\n",
      "20 torch.Size([48]) True\n",
      "21 torch.Size([48]) True\n",
      "22 torch.Size([48]) True\n",
      "23 torch.Size([48]) True\n",
      "24 torch.Size([48]) True\n",
      "25 torch.Size([32, 167]) True\n",
      "26 torch.Size([32]) True\n",
      "27 torch.Size([32, 64]) True\n",
      "28 torch.Size([32]) True\n",
      "29 torch.Size([1, 1, 1, 48]) True\n",
      "30 torch.Size([1]) True\n",
      "31 torch.Size([352]) True\n",
      "32 torch.Size([352]) True\n",
      "33 torch.Size([176, 352]) True\n",
      "34 torch.Size([176]) True\n",
      "35 torch.Size([64, 176]) True\n",
      "36 torch.Size([64]) True\n",
      "37 torch.Size([42, 42]) True\n",
      "38 torch.Size([64, 128]) True\n",
      "39 torch.Size([64]) True\n",
      "40 torch.Size([106]) True\n",
      "41 torch.Size([106]) True\n",
      "42 torch.Size([53, 106]) True\n",
      "43 torch.Size([53]) True\n",
      "44 torch.Size([64, 53]) True\n",
      "45 torch.Size([64]) True\n",
      "46 torch.Size([192]) True\n",
      "47 torch.Size([192]) True\n",
      "48 torch.Size([96, 192]) True\n",
      "49 torch.Size([96]) True\n",
      "50 torch.Size([1, 96]) True\n",
      "51 torch.Size([1]) True\n",
      "52 torch.Size([128]) True\n",
      "53 torch.Size([128]) True\n",
      "54 torch.Size([64, 128]) True\n",
      "55 torch.Size([64]) True\n",
      "56 torch.Size([1, 64]) True\n",
      "57 torch.Size([1]) True\n"
     ]
    }
   ],
   "source": [
    "for i, param in enumerate(model.parameters()):\n",
    "    print(i, param.size(), param.requires_grad)"
   ]
  },
  {
   "cell_type": "code",
   "execution_count": 100,
   "metadata": {},
   "outputs": [],
   "source": [
    "release_after = 46"
   ]
  },
  {
   "cell_type": "code",
   "execution_count": 101,
   "metadata": {},
   "outputs": [],
   "source": [
    "for i, param in enumerate(model.parameters()):\n",
    "    if i>=release_after:\n",
    "        param.requires_grad=True\n",
    "    else:\n",
    "        param.requires_grad=False"
   ]
  },
  {
   "cell_type": "markdown",
   "metadata": {},
   "source": [
    "Prostate or bone"
   ]
  },
  {
   "cell_type": "code",
   "execution_count": 102,
   "metadata": {},
   "outputs": [],
   "source": [
    "# _train_loader_minor=_train_loader_prostate\n",
    "# _test_loader_minor=_test_loader_prostate\n",
    "# _test_minor=_test_prostate\n",
    "_train_loader_minor=_train_loader_bone\n",
    "_test_loader_minor=_test_loader_bone\n",
    "_test_minor=_test_bone"
   ]
  },
  {
   "cell_type": "code",
   "execution_count": 103,
   "metadata": {},
   "outputs": [
    {
     "name": "stdout",
     "output_type": "stream",
     "text": [
      "syn mse 0.4604630470275879\n",
      "sen_mse 0.07659931977589925\n",
      "-----------------------------------------------------------------------------------------\n",
      "syn mse 0.43307705720265705\n",
      "sen_mse 0.07582458853721619\n",
      "-----------------------------------------------------------------------------------------\n",
      "syn mse 0.42016200224558514\n",
      "sen_mse 0.07519650459289551\n",
      "-----------------------------------------------------------------------------------------\n",
      "syn mse 0.40270670255025226\n",
      "sen_mse 0.07492810487747192\n",
      "-----------------------------------------------------------------------------------------\n",
      "syn mse 0.39851752916971844\n",
      "sen_mse 0.07496614257494609\n",
      "-----------------------------------------------------------------------------------------\n",
      "syn mse 0.38854416211446124\n",
      "sen_mse 0.07470616698265076\n",
      "-----------------------------------------------------------------------------------------\n",
      "syn mse 0.38684693972269696\n",
      "sen_mse 0.07444736361503601\n",
      "-----------------------------------------------------------------------------------------\n",
      "syn mse 0.38190476099650067\n",
      "sen_mse 0.07440031568209331\n",
      "-----------------------------------------------------------------------------------------\n",
      "syn mse 0.37822500864664715\n",
      "sen_mse 0.07485421498616536\n",
      "-----------------------------------------------------------------------------------------\n",
      "syn mse 0.37540356318155926\n",
      "sen_mse 0.07444271941979726\n",
      "-----------------------------------------------------------------------------------------\n"
     ]
    }
   ],
   "source": [
    "#Use minor's train set\n",
    "try:\n",
    "    for epoch in range(1, epochs+1):\n",
    "        epoch_start_time = time.time()\n",
    "        training(False, _train_loader_minor)\n",
    "        training(True, _train_loader_minor)\n",
    "        evaluate(_test_loader_minor)\n",
    "        print('-'*89)\n",
    "except KeyboardInterrupt:\n",
    "    print('-'*89)\n",
    "    print('Existing from training early')"
   ]
  },
  {
   "cell_type": "markdown",
   "metadata": {},
   "source": [
    "#### <a id='toc1_4_3_9_'></a>[Evaluate Specific Model](#toc0_)"
   ]
  },
  {
   "cell_type": "markdown",
   "metadata": {},
   "source": [
    "Evaluate synergy prediction"
   ]
  },
  {
   "cell_type": "code",
   "execution_count": 104,
   "metadata": {},
   "outputs": [],
   "source": [
    "syn_all, syn_true_all, ri1_all, ri1_true_all, ri2_all, ri2_true_all= evaluate_accuracy(_test_loader_minor)\n",
    "\n",
    "syn_all= [s.item() for syn in syn_all for s in syn]\n",
    "syn_true_all = [s for syn in syn_true_all for s in syn]"
   ]
  },
  {
   "cell_type": "code",
   "execution_count": 105,
   "metadata": {},
   "outputs": [
    {
     "data": {
      "text/plain": [
       "0.5443161681145564"
      ]
     },
     "execution_count": 105,
     "metadata": {},
     "output_type": "execute_result"
    }
   ],
   "source": [
    "#NDCG\n",
    "dcg_score(syn_all,syn_true_all, k=20)/dcg_score(syn_true_all,syn_true_all, k=20)"
   ]
  },
  {
   "cell_type": "code",
   "execution_count": 106,
   "metadata": {},
   "outputs": [
    {
     "data": {
      "text/plain": [
       "0.715405562813833"
      ]
     },
     "execution_count": 106,
     "metadata": {},
     "output_type": "execute_result"
    }
   ],
   "source": [
    "#AUROC\n",
    "metrics.roc_auc_score(syn_true_all,  1/(1 + np.exp(-np.array(syn_all))))"
   ]
  },
  {
   "cell_type": "code",
   "execution_count": 107,
   "metadata": {},
   "outputs": [
    {
     "data": {
      "text/plain": [
       "0.3162988637931727"
      ]
     },
     "execution_count": 107,
     "metadata": {},
     "output_type": "execute_result"
    }
   ],
   "source": [
    "#AUPRC\n",
    "metrics.average_precision_score(syn_true_all,  1/(1 + np.exp(-np.array(syn_all))))"
   ]
  },
  {
   "cell_type": "markdown",
   "metadata": {},
   "source": [
    "Evaluate sensitivity prediction"
   ]
  },
  {
   "cell_type": "code",
   "execution_count": 108,
   "metadata": {},
   "outputs": [],
   "source": [
    "ri1_all= [r.item() for ri in ri1_all for r in ri]\n",
    "ri1_true_all = [r for ri in ri1_true_all for r in ri]\n",
    "\n",
    "ri2_all= [r.item() for ri in ri2_all for r in ri]\n",
    "ri2_true_all = [r for ri in ri2_true_all for r in ri]\n",
    "\n",
    "ri_all=ri1_all+ri2_all\n",
    "ri_true_all=ri1_true_all+ri2_true_all"
   ]
  },
  {
   "cell_type": "code",
   "execution_count": 109,
   "metadata": {},
   "outputs": [
    {
     "data": {
      "text/plain": [
       "0.0"
      ]
     },
     "execution_count": 109,
     "metadata": {},
     "output_type": "execute_result"
    }
   ],
   "source": [
    "#NDCG\n",
    "dcg_score(ri_all,ri_true_all, k=20)/dcg_score(ri_true_all,ri_true_all, k=20)"
   ]
  },
  {
   "cell_type": "code",
   "execution_count": 110,
   "metadata": {},
   "outputs": [
    {
     "data": {
      "text/plain": [
       "0.7249652294853963"
      ]
     },
     "execution_count": 110,
     "metadata": {},
     "output_type": "execute_result"
    }
   ],
   "source": [
    "#AUC\n",
    "metrics.roc_auc_score(ri_true_all,  1/(1 + np.exp(-np.array(ri_all))))"
   ]
  },
  {
   "cell_type": "markdown",
   "metadata": {},
   "source": [
    "##### <a id='toc1_4_3_9_1_'></a>[Select the top ranked drug combinations](#toc0_)"
   ]
  },
  {
   "cell_type": "code",
   "execution_count": 111,
   "metadata": {},
   "outputs": [],
   "source": [
    "syn_all_prob=1/(1 + np.exp(-np.array(syn_all)))\n",
    "order = np.argsort(syn_all_prob)[::-1]\n",
    "syn_true_all_order = np.take(syn_true_all, order[:20])"
   ]
  },
  {
   "cell_type": "code",
   "execution_count": 112,
   "metadata": {},
   "outputs": [
    {
     "name": "stdout",
     "output_type": "stream",
     "text": [
      "AK-77283 , CHEMBL2144205 , TC-32 , bone , c3716 , 0 , 0 , 0.0\n",
      "DASATINIB , BEZ-235 , TC-32 , bone , c3716 , 0 , 0 , 1.0\n",
      "117048-62-1 , BEZ-235 , TC-32 , bone , c3716 , 0 , 0 , 0.0\n",
      "CARFILZOMIB (PR-171) , CHEMBL2144205 , TC-32 , bone , c3716 , 0 , 0 , 0.0\n",
      "Sepantronium , 658084-64-1 , TC-32 , bone , c3716 , 0 , 0 , 1.0\n",
      "AK-77283 , 658084-64-1 , TC-32 , bone , c3716 , 0 , 0 , 1.0\n",
      "117048-62-1 , 658084-64-1 , TC-32 , bone , c3716 , 0 , 0 , 1.0\n",
      "FOSTAMATINIB (R788) , 658084-64-1 , TC-32 , bone , c3716 , 0 , 0 , 1.0\n",
      "BARDOXOLONE METHYL , 658084-64-1 , TC-32 , bone , c3716 , 0 , 0 , 1.0\n",
      "PALBOCICLIB , 658084-64-1 , TC-32 , bone , c3716 , 0 , 0 , 1.0\n",
      "AK-77283 , CARFILZOMIB (PR-171) , TC-71 , bone , c4817 , 0 , 0 , 0.0\n",
      "AK-77283 , CHEMBL3322515 , TC-32 , bone , c3716 , 0 , 0 , 0.0\n",
      "MEBENDAZOLE , PD325901 , TC-32 , bone , c3716 , 0 , 0 , 1.0\n",
      "117048-62-1 , CHEMBL3322515 , TC-32 , bone , c3716 , 0 , 0 , 0.0\n",
      "ABT-263 (NAVITOCLAX) , 658084-64-1 , TC-32 , bone , c3716 , 0 , 0 , 1.0\n",
      "TRAMETINIB (GSK1120212) , CHEMBL2144205 , TC-32 , bone , c3716 , 0 , 0 , 0.0\n",
      "ISODONOL , PD325901 , TC-32 , bone , c3716 , 0 , 0 , 1.0\n",
      "BMS-754807 , 658084-64-1 , TC-32 , bone , c3716 , 0 , 0 , 1.0\n",
      "CHEMBL2140543 , PD325901 , TC-32 , bone , c3716 , 0 , 0 , 1.0\n",
      "TRAMETINIB (GSK1120212) , CHEMBL3322515 , TC-32 , bone , c3716 , 0 , 0 , 0.0\n"
     ]
    }
   ],
   "source": [
    "for k in range(20):\n",
    "    comb=_test_minor[order[k]]\n",
    "    print(codes['drugs'].idx2item[comb['d1']], ',', \n",
    "          codes['drugs'].idx2item[comb['d2']], ',', \n",
    "          codes['cell'].idx2item[comb['cell']],  ',', \n",
    "          codes['tissue'].idx2item[comb['c_ts']],  ',',\n",
    "          codes['disease'].idx2item[comb['c_ds']], ',', \n",
    "          comb['ri_d1'], ',',\n",
    "          comb['ri_d2'], ',',\n",
    "          syn_true_all_order[k])\n"
   ]
  },
  {
   "cell_type": "markdown",
   "metadata": {},
   "source": [
    "## <a id='toc1_5_'></a>[Results](#toc0_)"
   ]
  },
  {
   "cell_type": "markdown",
   "metadata": {},
   "source": [
    "This section contains"
   ]
  },
  {
   "cell_type": "markdown",
   "metadata": {},
   "source": [
    "### <a id='toc1_5_1_'></a>[Drug response prediction accuracy for data-rich tissues](#toc0_)"
   ]
  },
  {
   "cell_type": "markdown",
   "metadata": {},
   "source": [
    "The first experiment involved training the model on a varying number of input features for both cells and drugs. I was unable to refactor the provided code sufficiently to perform the experiments without certain input features, so the results shown in the table are only for the combination of ID, SMILES, and Target Genes. Results shown in Table 1 below:"
   ]
  },
  {
   "cell_type": "markdown",
   "metadata": {},
   "source": [
    "<div align=\"center\">\n",
    "<table>\n",
    "  <tr>\n",
    "    <th rowspan='2'>Input Features</th>\n",
    "    <th colspan='2'>Monotherapy Sensitivity</th>\n",
    "    <th colspan='2'>Combination Synergy</th>\n",
    "  </tr>\n",
    "  <tr>\n",
    "    <td>NDCG</td>\n",
    "    <td>AUC</td>\n",
    "    <td>NDCG</td>\n",
    "    <td>AUC</td>\n",
    "  </tr>\n",
    "  <tr>\n",
    "    <td>ID+F+G</td>\n",
    "    <td>0.3388</td>\n",
    "    <td>0.8651</td>\n",
    "    <td>1.0000</td>\n",
    "    <td>0.9627</td>\n",
    "  </tr>\n",
    "</table>\n",
    "<p><b>Table 1:</b> Drug response preduction accuracy for data-rich tissues</p>\n",
    "</div>"
   ]
  },
  {
   "cell_type": "markdown",
   "metadata": {},
   "source": [
    "Compared to the resuls of the original paper, my own results are a bit mixed. On one hand, the accuracy of the model predictions of combination synergy is actually slightly higher than those reported by [Kim et al. (2020)](https://doi.org/10.1101/2020.02.05.932657) by a margin of approximately 0.08 points. Similarly, the NDCG is comparatively higher at 1.00, whereas the original authors reported an NDCG for combination synergy at 0.8377. These seemingly positive results become more perplexing when we consider the monotherapy sensitivity scores, which are much lower for NDCG and AUC by .0847 and 0.6612 points, respectively. Given that I followed the same approach and used their own architecture for the models themselves, these results are striking. Namely the sensitivity score of 0.3388 for NDCG. The only plausible explanation for the discrepancy leads back to the issue with data. Without any guarantee that the restructuring of the new data to align with the dimensionality of the original data was without errors, it's possible that some key data present in the original models was absent in my own analysis. Perhaps even more confusing is the fact that in spite of these likely unintended data exclusions, the model performed even better at predicting the combination synergy. I can only assume that different data and/or preprocessing step(s) were excluded that might offer some insight into the discrepancies between these scores. "
   ]
  },
  {
   "cell_type": "markdown",
   "metadata": {},
   "source": [
    "### <a id='toc1_5_2_'></a>[Drug response prediction accuracy for bone and prostate cancer](#toc0_)"
   ]
  },
  {
   "cell_type": "markdown",
   "metadata": {},
   "source": [
    "The second experiment shifts the focus of analysis to understudied tissues, namely bone and prostate. To perform this experiment, [Kim et al. (2020)](https://doi.org/10.1101/2020.02.05.932657) transferred the model parameters from data-rich tissues to data-poor tissues, hypothesizing that the model would exhibit improved performance at predicting the synergy and sensitivity for the data-poor tissues given the pretraining. To reproduce this experiment, I followed the same methodology using only the ID+F+G feature model retrained on bone and prostate, respectively. The results can be seen below in Table 2."
   ]
  },
  {
   "cell_type": "markdown",
   "metadata": {},
   "source": [
    "<div align=\"center\">\n",
    "<table>\n",
    "  <tr>\n",
    "    <th rowspan='2'>Tissue</th>\n",
    "    <th rowspan='2'>Input Features</th>\n",
    "    <th colspan='2'>Monotherapy Sensitivity</th>\n",
    "    <th colspan='2'>Combination Synergy</th>\n",
    "  </tr>\n",
    "  <tr>\n",
    "    <td>NDCG</td>\n",
    "    <td>AUC</td>\n",
    "    <td>NDCG</td>\n",
    "    <td>AUC</td>\n",
    "  </tr>\n",
    "  <tr>\n",
    "    <td>Bone</td>\n",
    "    <td>ID+F+G</td>\n",
    "    <td>0.0000</td>\n",
    "    <td>0.7074</td>\n",
    "    <td>0.3760</td>\n",
    "    <td>0.6655</td>\n",
    "  </tr>\n",
    "  <tr>\n",
    "    <td>Prostate</td>\n",
    "    <td>ID+F+G</td>\n",
    "    <td>0.0897</td>\n",
    "    <td>0.8143</td>\n",
    "    <td>0.9644</td>\n",
    "    <td>0.9690</td>\n",
    "  </tr>\n",
    "</table>\n",
    "<p><b>Table 2:</b> Drug response preduction accuracy for bone and prostate cancer</p>\n",
    "</div>"
   ]
  },
  {
   "cell_type": "markdown",
   "metadata": {},
   "source": [
    "The results of this experiment were more striking in terms of their deviance from those in the original paper. Namely, the fact that bone received an NDCG score of 0 for monotherapy sensitivity compared with the perfect 1.000 presented in the original paper speaks to the issues in the training data. This is all but confirmed by the fact that scores for combination synergy did not deviate to the same degree. For bone in particular, the NDCG score for combination synergy was 0.3760 and 0.3599 for the reproduction and original paper, respectively. Given I used the same methodology for training the models and computing all of the metrics, the only plausible explanation for the discrepancies ties back to the availability of data for training. Interestingly, prostate did not deviate as significantly from the results in the original paper compared with bone. Granted, the NDCG for monotherapy sensitivity was still much lower at 0.0897 compared to 0.9596, but the AUC for both monotherapy sensitivity and combination synergy outperformed the original results reported in the paper."
   ]
  },
  {
   "cell_type": "markdown",
   "metadata": {},
   "source": [
    "### <a id='toc1_5_3_'></a>[Ranking Predicted Synergenistic Drug Combinations](#toc0_)"
   ]
  },
  {
   "cell_type": "markdown",
   "metadata": {},
   "source": [
    "The final experiment conducted in the original paper was a case study in which the authors listed the top 20 predicted drug combinations based on the estimated probability that those combinations were synergistic. Unfortunately, in all the prints of the paper I researched I was unable to find the table in which they referenced their results for this experiment, but they do make a note on page 8 regarding the percentage of the predictions that were actually synergistic as an accuracy metric for both bone and prostate. To reproduce these experiments, I followed the same methodology for prostate and bone, selecting the top 20 predicted drug combinations and offer the results in Tables 3 and 4, respectively."
   ]
  },
  {
   "cell_type": "markdown",
   "metadata": {},
   "source": [
    "#### <a id='toc1_5_3_1_'></a>[Prostate Top Predictions](#toc0_)"
   ]
  },
  {
   "cell_type": "markdown",
   "metadata": {},
   "source": [
    "<div align=\"center\">\n",
    "<table>\n",
    "  <thead>\n",
    "    <tr>\n",
    "      <th>#</th>\n",
    "      <th>Drug 1</th>\n",
    "      <th>Drug 2</th>\n",
    "      <th>Cell</th>\n",
    "      <th>Tissue</th>\n",
    "      <th>Disease</th>\n",
    "      <th>ri_d1</th>\n",
    "      <th>ri_d2</th>\n",
    "      <th>syn_true_all_order</th>\n",
    "    </tr>\n",
    "  </thead>\n",
    "  <tbody>\n",
    "    <tr>\n",
    "      <td>0</td>\n",
    "      <td>AXITINIB</td>\n",
    "      <td>CABAZITAXEL</td>\n",
    "      <td>DU-145</td>\n",
    "      <td>prostate</td>\n",
    "      <td>c4863</td>\n",
    "      <td>0</td>\n",
    "      <td>0</td>\n",
    "      <td>1.0</td>\n",
    "    </tr>\n",
    "    <tr>\n",
    "      <td>1</td>\n",
    "      <td>ACTINOMYCIN D</td>\n",
    "      <td>IXABEPILONE</td>\n",
    "      <td>PC-3</td>\n",
    "      <td>prostate</td>\n",
    "      <td>c4863</td>\n",
    "      <td>0</td>\n",
    "      <td>0</td>\n",
    "      <td>1.0</td>\n",
    "    </tr>\n",
    "    <tr>\n",
    "      <td>2</td>\n",
    "      <td>RUXOLITINIB</td>\n",
    "      <td>CABAZITAXEL</td>\n",
    "      <td>DU-145</td>\n",
    "      <td>prostate</td>\n",
    "      <td>c4863</td>\n",
    "      <td>0</td>\n",
    "      <td>0</td>\n",
    "      <td>1.0</td>\n",
    "    </tr>\n",
    "    <tr>\n",
    "      <td>3</td>\n",
    "      <td>FLUDARABINE BASE</td>\n",
    "      <td>IXABEPILONE</td>\n",
    "      <td>DU-145</td>\n",
    "      <td>prostate</td>\n",
    "      <td>c4863</td>\n",
    "      <td>0</td>\n",
    "      <td>0</td>\n",
    "      <td>1.0</td>\n",
    "    </tr>\n",
    "    <tr>\n",
    "      <td>4</td>\n",
    "      <td>VINBLASTINE SULFATE</td>\n",
    "      <td>IXABEPILONE</td>\n",
    "      <td>PC-3</td>\n",
    "      <td>prostate</td>\n",
    "      <td>c4863</td>\n",
    "      <td>0</td>\n",
    "      <td>0</td>\n",
    "      <td>1.0</td>\n",
    "    </tr>\n",
    "    <tr>\n",
    "      <td>5</td>\n",
    "      <td>AMIFOSTINE</td>\n",
    "      <td>IXABEPILONE</td>\n",
    "      <td>PC-3</td>\n",
    "      <td>prostate</td>\n",
    "      <td>c4863</td>\n",
    "      <td>0</td>\n",
    "      <td>0</td>\n",
    "      <td>1.0</td>\n",
    "    </tr>\n",
    "    <tr>\n",
    "      <td>6</td>\n",
    "      <td>IMATINIB</td>\n",
    "      <td>IXABEPILONE</td>\n",
    "      <td>PC-3</td>\n",
    "      <td>prostate</td>\n",
    "      <td>c4863</td>\n",
    "      <td>0</td>\n",
    "      <td>0</td>\n",
    "      <td>1.0</td>\n",
    "    </tr>\n",
    "    <tr>\n",
    "      <td>7</td>\n",
    "      <td>IMATINIB</td>\n",
    "      <td>IXABEPILONE</td>\n",
    "      <td>DU-145</td>\n",
    "      <td>prostate</td>\n",
    "      <td>c4863</td>\n",
    "      <td>0</td>\n",
    "      <td>0</td>\n",
    "      <td>1.0</td>\n",
    "    </tr>\n",
    "    <tr>\n",
    "      <td>8</td>\n",
    "      <td>TOPOTECAN HYDROCHLORIDE</td>\n",
    "      <td>IXABEPILONE</td>\n",
    "      <td>DU-145</td>\n",
    "      <td>prostate</td>\n",
    "      <td>c4863</td>\n",
    "      <td>0</td>\n",
    "      <td>0</td>\n",
    "      <td>1.0</td>\n",
    "    </tr>\n",
    "    <tr>\n",
    "      <td>9</td>\n",
    "      <td>HYDROXYUREA</td>\n",
    "      <td>IXABEPILONE</td>\n",
    "      <td>PC-3</td>\n",
    "      <td>prostate</td>\n",
    "      <td>c4863</td>\n",
    "      <td>0</td>\n",
    "      <td>0</td>\n",
    "      <td>1.0</td>\n",
    "    </tr>\n",
    "    <tr>\n",
    "      <td>10</td>\n",
    "      <td>TEMOZOLOMIDE</td>\n",
    "      <td>IXABEPILONE</td>\n",
    "      <td>PC-3</td>\n",
    "      <td>prostate</td>\n",
    "      <td>c4863</td>\n",
    "      <td>0</td>\n",
    "      <td>0</td>\n",
    "      <td>1.0</td>\n",
    "    </tr>\n",
    "    <tr>\n",
    "      <td>11</td>\n",
    "      <td>CO-V</td>\n",
    "      <td>IXABEPILONE</td>\n",
    "      <td>DU-145</td>\n",
    "      <td>prostate</td>\n",
    "      <td>c4863</td>\n",
    "      <td>0</td>\n",
    "      <td>0</td>\n",
    "      <td>1.0</td>\n",
    "    </tr>\n",
    "    <tr>\n",
    "      <td>12</td>\n",
    "      <td>CHEMBL17639</td>\n",
    "      <td>IXABEPILONE</td>\n",
    "      <td>DU-145</td>\n",
    "      <td>prostate</td>\n",
    "      <td>c4863</td>\n",
    "      <td>0</td>\n",
    "      <td>0</td>\n",
    "      <td>1.0</td>\n",
    "    </tr>\n",
    "    <tr>\n",
    "      <td>13</td>\n",
    "      <td>PLICAMYCIN</td>\n",
    "      <td>IXABEPILONE</td>\n",
    "      <td>DU-145</td>\n",
    "      <td>prostate</td>\n",
    "      <td>c4863</td>\n",
    "      <td>0</td>\n",
    "      <td>0</td>\n",
    "      <td>1.0</td>\n",
    "    </tr>\n",
    "    <tr>\n",
    "      <td>14</td>\n",
    "      <td>ARSENIC TRIOXIDE</td>\n",
    "      <td>NSC256439</td>\n",
    "      <td>DU-145</td>\n",
    "      <td>prostate</td>\n",
    "      <td>c4863</td>\n",
    "      <td>0</td>\n",
    "      <td>0</td>\n",
    "      <td>0.0</td>\n",
    "    </tr>\n",
    "    <tr>\n",
    "      <td>15</td>\n",
    "      <td>PRALATREXATE</td>\n",
    "      <td>IXABEPILONE</td>\n",
    "      <td>DU-145</td>\n",
    "      <td>prostate</td>\n",
    "      <td>c4863</td>\n",
    "      <td>0</td>\n",
    "      <td>0</td>\n",
    "      <td>1.0</td>\n",
    "    </tr>\n",
    "    <tr>\n",
    "      <td>16</td>\n",
    "      <td>LETROZOLE</td>\n",
    "      <td>IXABEPILONE</td>\n",
    "      <td>DU-145</td>\n",
    "      <td>prostate</td>\n",
    "      <td>c4863</td>\n",
    "      <td>0</td>\n",
    "      <td>0</td>\n",
    "      <td>1.0</td>\n",
    "    </tr>\n",
    "    <tr>\n",
    "      <td>17</td>\n",
    "      <td>RUXOLITINIB</td>\n",
    "      <td>ADM HYDROCHLORIDE</td>\n",
    "      <td>DU-145</td>\n",
    "      <td>prostate</td>\n",
    "      <td>c4863</td>\n",
    "      <td>0</td>\n",
    "      <td>0</td>\n",
    "      <td>1.0</td>\n",
    "    </tr>\n",
    "    <tr>\n",
    "      <td>18</td>\n",
    "      <td>ACTINOMYCIN D</td>\n",
    "      <td>ARSENIC TRIOXIDE</td>\n",
    "      <td>DU-145</td>\n",
    "      <td>prostate</td>\n",
    "      <td>c4863</td>\n",
    "      <td>0</td>\n",
    "      <td>0</td>\n",
    "      <td>1.0</td>\n",
    "    </tr>\n",
    "    <tr>\n",
    "      <td>19</td>\n",
    "      <td>PAZOPANIB HYDROCHLORIDE</td>\n",
    "      <td>CABAZITAXEL</td>\n",
    "      <td>PC-3</td>\n",
    "      <td>prostate</td>\n",
    "      <td>c4863</td>\n",
    "      <td>0</td>\n",
    "      <td>0</td>\n",
    "      <td>1.0</td>\n",
    "    </tr>\n",
    "  </tbody>\n",
    "</table>\n",
    "<p><b>Table 3:</b> Top 20 synergy predictions for prostate</p>\n",
    "</div>\n"
   ]
  },
  {
   "cell_type": "markdown",
   "metadata": {},
   "source": [
    "In Table 3 we can see the top 20 predicted synergistic drug combinations for the prostate tissue. According to [Kim et al. (2020)](https://doi.org/10.1101/2020.02.05.932657), they identified that 10 out of the 20 top predicted drug combinations were actually synergistic (50% hit). Indicating that their model had effectively ranked synergistic drug combinations. In my own results, using the indicator column `syn_true_all_order` as a guide, we can see that the ID+F+G prostate model identified truly synergistic drug combinations for 19/20 drugs (95% hit), outperforming the results reported in the original paper."
   ]
  },
  {
   "cell_type": "markdown",
   "metadata": {},
   "source": [
    "#### <a id='toc1_5_3_2_'></a>[Bone Top Predictions](#toc0_)"
   ]
  },
  {
   "cell_type": "markdown",
   "metadata": {},
   "source": [
    "<div align=\"center\">\n",
    "<table border=\"1\">\n",
    "    <tr>\n",
    "        <th>#</th>\n",
    "        <th>Drug 1</th>\n",
    "        <th>Drug 2</th>\n",
    "        <th>Cell</th>\n",
    "        <th>Tissue</th>\n",
    "        <th>Disease</th>\n",
    "        <th>ri_d1</th>\n",
    "        <th>ri_d2</th>\n",
    "        <th>syn_true_all_order</th>\n",
    "    </tr>\n",
    "    <tr>\n",
    "        <td>0</td>\n",
    "        <td>ISODONOL</td>\n",
    "        <td>PD325901</td>\n",
    "        <td>TC-32</td>\n",
    "        <td>bone</td>\n",
    "        <td>c3716</td>\n",
    "        <td>0</td>\n",
    "        <td>0</td>\n",
    "        <td>1.0</td>\n",
    "    </tr>\n",
    "    <tr>\n",
    "        <td>1</td>\n",
    "        <td>AK-77283</td>\n",
    "        <td>OLAPARIB</td>\n",
    "        <td>TC-71</td>\n",
    "        <td>bone</td>\n",
    "        <td>c4817</td>\n",
    "        <td>0</td>\n",
    "        <td>0</td>\n",
    "        <td>0.0</td>\n",
    "    </tr>\n",
    "    <tr>\n",
    "        <td>2</td>\n",
    "        <td>DASATINIB</td>\n",
    "        <td>BEZ-235</td>\n",
    "        <td>TC-32</td>\n",
    "        <td>bone</td>\n",
    "        <td>c3716</td>\n",
    "        <td>0</td>\n",
    "        <td>0</td>\n",
    "        <td>1.0</td>\n",
    "    </tr>\n",
    "    <tr>\n",
    "        <td>3</td>\n",
    "        <td>TRAMETINIB (GSK1120212)</td>\n",
    "        <td>CUDC-101</td>\n",
    "        <td>TC-32</td>\n",
    "        <td>bone</td>\n",
    "        <td>c3716</td>\n",
    "        <td>0</td>\n",
    "        <td>0</td>\n",
    "        <td>0.0</td>\n",
    "    </tr>\n",
    "    <tr>\n",
    "        <td>4</td>\n",
    "        <td>CUDC-101</td>\n",
    "        <td>PD325901</td>\n",
    "        <td>TC-32</td>\n",
    "        <td>bone</td>\n",
    "        <td>c3716</td>\n",
    "        <td>0</td>\n",
    "        <td>0</td>\n",
    "        <td>1.0</td>\n",
    "    </tr>\n",
    "    <tr>\n",
    "        <td>5</td>\n",
    "        <td>ZINC34894448</td>\n",
    "        <td>thapsigargin</td>\n",
    "        <td>TC-32</td>\n",
    "        <td>bone</td>\n",
    "        <td>c3716</td>\n",
    "        <td>0</td>\n",
    "        <td>0</td>\n",
    "        <td>0.0</td>\n",
    "    </tr>\n",
    "    <tr>\n",
    "        <td>6</td>\n",
    "        <td>ZINC34894448</td>\n",
    "        <td>BARDOXOLONE METHYL</td>\n",
    "        <td>TC-32</td>\n",
    "        <td>bone</td>\n",
    "        <td>c3716</td>\n",
    "        <td>0</td>\n",
    "        <td>0</td>\n",
    "        <td>0.0</td>\n",
    "    </tr>\n",
    "    <tr>\n",
    "        <td>7</td>\n",
    "        <td>117048-62-1</td>\n",
    "        <td>CARFILZOMIB (PR-171)</td>\n",
    "        <td>TC-32</td>\n",
    "        <td>bone</td>\n",
    "        <td>c3716</td>\n",
    "        <td>0</td>\n",
    "        <td>0</td>\n",
    "        <td>0.0</td>\n",
    "    </tr>\n",
    "    <tr>\n",
    "        <td>8</td>\n",
    "        <td>117048-62-1</td>\n",
    "        <td>Luminespib</td>\n",
    "        <td>TC-32</td>\n",
    "        <td>bone</td>\n",
    "        <td>c3716</td>\n",
    "        <td>0</td>\n",
    "        <td>0</td>\n",
    "        <td>0.0</td>\n",
    "    </tr>\n",
    "    <tr>\n",
    "        <td>9</td>\n",
    "        <td>ISODONOL</td>\n",
    "        <td>CUDC-101</td>\n",
    "        <td>TC-32</td>\n",
    "        <td>bone</td>\n",
    "        <td>c3716</td>\n",
    "        <td>0</td>\n",
    "        <td>0</td>\n",
    "        <td>0.0</td>\n",
    "    </tr>\n",
    "    <tr>\n",
    "        <td>10</td>\n",
    "        <td>AK-77283</td>\n",
    "        <td>CARFILZOMIB (PR-171)</td>\n",
    "        <td>TC-71</td>\n",
    "        <td>bone</td>\n",
    "        <td>c4817</td>\n",
    "        <td>0</td>\n",
    "        <td>0</td>\n",
    "        <td>0.0</td>\n",
    "    </tr>\n",
    "    <tr>\n",
    "        <td>11</td>\n",
    "        <td>Fingolimod</td>\n",
    "        <td>proscillaridin</td>\n",
    "        <td>TC-32</td>\n",
    "        <td>bone</td>\n",
    "        <td>c3716</td>\n",
    "        <td>0</td>\n",
    "        <td>0</td>\n",
    "        <td>1.0</td>\n",
    "    </tr>\n",
    "    <tr>\n",
    "        <td>12</td>\n",
    "        <td>CHEMBL2140543</td>\n",
    "        <td>PD325901</td>\n",
    "        <td>TC-32</td>\n",
    "        <td>bone</td>\n",
    "        <td>c3716</td>\n",
    "        <td>0</td>\n",
    "        <td>0</td>\n",
    "        <td>1.0</td>\n",
    "    </tr>\n",
    "    <tr>\n",
    "        <td>13</td>\n",
    "        <td>BEZ-235</td>\n",
    "        <td>thapsigargin</td>\n",
    "        <td>TC-32</td>\n",
    "        <td>bone</td>\n",
    "        <td>c3716</td>\n",
    "        <td>0</td>\n",
    "        <td>0</td>\n",
    "        <td>0.0</td>\n",
    "    </tr>\n",
    "    <tr>\n",
    "        <td>14</td>\n",
    "        <td>CHEMBL2140543</td>\n",
    "        <td>BARDOXOLONE METHYL</td>\n",
    "        <td>TC-32</td>\n",
    "        <td>bone</td>\n",
    "        <td>c3716</td>\n",
    "        <td>0</td>\n",
    "        <td>0</td>\n",
    "        <td>0.0</td>\n",
    "    </tr>\n",
    "    <tr>\n",
    "        <td>15</td>\n",
    "        <td>CARFILZOMIB (PR-171)</td>\n",
    "        <td>PANOBINOSTAT</td>\n",
    "        <td>TC-32</td>\n",
    "        <td>bone</td>\n",
    "        <td>c3716</td>\n",
    "        <td>0</td>\n",
    "        <td>0</td>\n",
    "        <td>0.0</td>\n",
    "    </tr>\n",
    "    <tr>\n",
    "        <td>16</td>\n",
    "        <td>117048-62-1</td>\n",
    "        <td>CUDC-101</td>\n",
    "        <td>TC-32</td>\n",
    "        <td>bone</td>\n",
    "        <td>c3716</td>\n",
    "        <td>0</td>\n",
    "        <td>0</td>\n",
    "        <td>0.0</td>\n",
    "    </tr>\n",
    "    <tr>\n",
    "        <td>17</td>\n",
    "        <td>DORSOMORPHIN</td>\n",
    "        <td>thapsigargin</td>\n",
    "        <td>TC-32</td>\n",
    "        <td>bone</td>\n",
    "        <td>c3716</td>\n",
    "        <td>0</td>\n",
    "        <td>0</td>\n",
    "        <td>0.0</td>\n",
    "    </tr>\n",
    "    <tr>\n",
    "        <td>18</td>\n",
    "        <td>BEZ-235</td>\n",
    "        <td>CUDC-101</td>\n",
    "        <td>TC-32</td>\n",
    "        <td>bone</td>\n",
    "        <td>c3716</td>\n",
    "        <td>0</td>\n",
    "        <td>0</td>\n",
    "        <td>0.0</td>\n",
    "    </tr>\n",
    "    <tr>\n",
    "        <td>19</td>\n",
    "        <td>117048-62-1</td>\n",
    "        <td>TRAMETINIB (GSK1120212)</td>\n",
    "        <td>TC-32</td>\n",
    "        <td>bone</td>\n",
    "        <td>c3716</td>\n",
    "        <td>0</td>\n",
    "        <td>0</td>\n",
    "        <td>1.0</td>\n",
    "    </tr>\n",
    "</table>\n",
    "<p><b>Table 4: </b>Top 20 synergy predictions for bone</p>\n",
    "</div>"
   ]
  },
  {
   "cell_type": "markdown",
   "metadata": {},
   "source": [
    "In the original paper, [Kim et al. (2020)](https://doi.org/10.1101/2020.02.05.932657) reported that their model successfully identified 5/20 true synergistic drug combinations (25% hit); and as can be seen in Table 4, my own results were similar at 6/20 (30% hit). Interestingly, these results seem to align closely with the overall prediction accuracy for prostate being superior to that of bone. As in the previous experiment we saw a similar case in which bone, in comparison to the results in the origianl paper, either stagnated or stayed relatively the same, whereas my own results seem to outperform for prostate."
   ]
  },
  {
   "cell_type": "markdown",
   "metadata": {},
   "source": [
    "## <a id='toc1_6_'></a>[Discussion](#toc0_)"
   ]
  },
  {
   "cell_type": "markdown",
   "metadata": {},
   "source": [
    "### <a id='toc1_6_1_'></a>[Issues Encountered](#toc0_)"
   ]
  },
  {
   "cell_type": "markdown",
   "metadata": {},
   "source": [
    "In spite of my best efforts, I was unable to fully reproduce the results of [Kim et al. (2020).](https://doi.org/10.1101/2020.02.05.932657) I do not believe that this paper is reproducible in its current state, given the lack of documentation and the unavailability of data. I believe that the primary issue with this reproduction attempt was the ambiguity of where the data came from, and in what form. While I initially mistook the publicly available data as a good sign that this step would be comparatively easy, I soon found that acquiring the data originally used for this paper was a non-trivial task—as the data available in DrugComb has since been updated to a point in which there was no way to get the names of tissues and diseases aligned with their respective ids, and the data accessed from DrugBank was not documented anywhere in the original paper or in the repository. To that point, the only way I managed to access *some* of the original data was by reaching out to several of the original authors directly; even then, they did not share the complete set of original data they used, which left me struggling to refactor the code to align with the dimensionality and nuances of the combined new and original datasets. For more information on the specific challenges faced from a data perspective, please see the [Scope of Reproducability](#scope-of-reproducability) section above. \n",
    "\n",
    "The challenge of data collection proved to be multifaceted, as the scripts themselves were designed with only the original datasets in mind; this necessitated that I make significant changes throughout the code to align with synthesis of new and original data. I spent a significant amount of time attempting to refactor the code, but without a background in molecular biology and no documentation I was left struggling to interpret whether the dimensions in the new data were in fact aligned with those of the original. Given the number of variables, I was, in every case, forced to consider multiple scenarios when encountering errors running the code; these could have come from a misalignment in the dimensions of the new and original data, an oversight in my code with respect to the methodology used by the authors, or simply a nuance in the functionality of the packages due to differences in versions used. Unfortunately, the lack of documentation precluded me from being able to easily narrow down where the issues were coming from, and I was instead left spending a significant amount of time refactoring the data and code."
   ]
  },
  {
   "cell_type": "markdown",
   "metadata": {},
   "source": [
    "### <a id='toc1_6_2_'></a>[Reproducability and Future Considerations](#toc0_)"
   ]
  },
  {
   "cell_type": "markdown",
   "metadata": {},
   "source": [
    "To reiterate, I do not believe that this paper is reproducible in its current state. Without proper documentation or processes in place for accessing the original data used, there is no way to ensure consistency across reproduction attempts. Furthermore, repeatedly contacting the authors in the hopes of acquiring the original data has diminishing returns as they are likely busy people to the extent that a multitude of students contacting them all requesting the same thing most likely comes across as annoying. On the other hand, it behooves the authors of any academic paper to make their results reproducible and documented—and the persistent issue of requests concerning the data is one created by their own design. This is all to say that there is nuance to be considered with regard to this topic. To what extent is the inability to reproduce a paper the fault of the person attempting the reproduction or the fault of the authors? The reality is most likely somewhere in the middle. Reflecting on my own faults in this process, the late change of paper undoubtedly caused me to have a shorter runway for completing this project. It's also possible that I made a wrong turn in attempting to reuse the authors' code and data. While this approach seemed like the most logical thing to do at the time, it's true that with the time spent refactoring may have been better spent simply building a solution from the ground up. Unfortunately, that was not the avenue I pursued, and the results of this reproduction attempt speak to that.\n",
    "\n",
    "In terms of recommendations to Kim et al. for the future, I would strongly suggest they make the original data (all of it) accessible for reproduction attempts. Sharing only partials creates even more confusion in attempting to align dimensionality of new and original data, as described above. Doing this would narrow the margin of error in reproduction attempts insofaras errors in the code would be significantly easier to troubleshoot. Furthermore, this would cut down on the number of requests the authors receive concerning this, which is undoubtedly in their best interest."
   ]
  },
  {
   "cell_type": "markdown",
   "metadata": {},
   "source": [
    "## <a id='toc1_7_'></a>[References](#toc0_)"
   ]
  },
  {
   "cell_type": "markdown",
   "metadata": {},
   "source": [
    "[1]: Chen, X. (2002). TTD: Therapeutic target database. Nucleic Acids Research, 30(1), 412–415. https://doi.org/10.1093/nar/30.1.412 \n",
    "\n",
    "[2]: HMS LINCS (Harvard Medical School). LINCS MCF 10A Common Project: Rolling-timepoint sensitivity measures of the MCF 10A breast cell line to 8 small molecule perturbagens. Dataset 8 of 15: End-point dose-response metrics for biological replicate 2. http://lincsportal.ccs.miami.edu/datasets/#/view/LDS-1415. Published 2017.\n",
    "\n",
    "[3]: Kim, Y., Zheng, S., Tang, J., Zheng, W. J., Li, Z., & Jiang, X. (2020). Anti-Cancer Drug Synergy Prediction in Understudied Tissues Using Transfer Learning. https://doi.org/10.1101/2020.02.05.932657 \n",
    "\n",
    "[4]: Liu, S., Nie, W., Wang, C., Lu, J., Qiao, Z., Liu, L., Tang, J., Xiao, C., & Anandkumar, A. (2023). Multi-modal Molecule structure–text model for text-based retrieval and editing. Nature Machine Intelligence, 5(12), 1447–1457. https://doi.org/10.1038/s42256-023-00759-6\n",
    "\n",
    "[5]: Wishart, D. S., Knox, C., Guo, A. C., Cheng, D., Shrivastava, S., Tzur, D., Gautam, B., & Hassanali, M. (2007). Drugbank: A Knowledgebase for drugs, drug actions and drug targets. Nucleic Acids Research, 36(suppl_1). https://doi.org/10.1093/nar/gkm958 \n",
    "\n",
    "[6]: Zagidullin, B., Aldahdooh, J., Zheng, S., Wang, W., Wang, Y., Saad, J., Malyutina, A., Jafari, M., Tanoli, Z., Pessia, A., & Tang, J. (2019). Drugcomb: An integrative cancer drug combination data portal. Nucleic Acids Research, 47(W1). https://doi.org/10.1093/nar/gkz337 \n",
    "\n"
   ]
  }
 ],
 "metadata": {
  "kernelspec": {
   "display_name": "synergy",
   "language": "python",
   "name": "python3"
  },
  "language_info": {
   "codemirror_mode": {
    "name": "ipython",
    "version": 3
   },
   "file_extension": ".py",
   "mimetype": "text/x-python",
   "name": "python",
   "nbconvert_exporter": "python",
   "pygments_lexer": "ipython3",
   "version": "3.8.19"
  }
 },
 "nbformat": 4,
 "nbformat_minor": 2
}
